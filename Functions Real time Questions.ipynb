{
 "cells": [
  {
   "cell_type": "markdown",
   "metadata": {},
   "source": [
    "# Real time Questions"
   ]
  },
  {
   "cell_type": "raw",
   "metadata": {},
   "source": [
    "guessing_game using Python Function"
   ]
  },
  {
   "cell_type": "code",
   "execution_count": null,
   "metadata": {},
   "outputs": [],
   "source": [
    "import random\n",
    "\n",
    "def number_guessing_game(low, high):\n",
    "    target_number = random.randint(low, high)\n",
    "    attempts = 0\n",
    "    while True:\n",
    "        user_guess = int(input(f\"Guess a number between {low} and {high}: \"))\n",
    "        attempts += 1\n",
    "        if user_guess == target_number:\n",
    "            return attempts\n",
    "        elif user_guess < target_number:\n",
    "            print(\"Too low! Try again.\")\n",
    "        else:\n",
    "            print(\"Too high! Try again.\")\n",
    "\n",
    "# Example usage:\n",
    "\n",
    "attempts_taken = number_guessing_game(1,10)\n",
    "\n",
    "print(f\"Congratulations! You guessed the number in {attempts_taken} attempts.\")\n"
   ]
  },
  {
   "cell_type": "code",
   "execution_count": null,
   "metadata": {},
   "outputs": [],
   "source": [
    "import random\n",
    "\n",
    "\n",
    "low = 1\n",
    "high = 100\n",
    "\n",
    "target_number = random.randint(low, high)\n",
    "\n",
    "\n",
    "print(target_number)\n",
    "\n",
    "#target_number = random.randint(1, 100)"
   ]
  },
  {
   "cell_type": "code",
   "execution_count": null,
   "metadata": {},
   "outputs": [],
   "source": []
  },
  {
   "cell_type": "raw",
   "metadata": {},
   "source": [
    "generate_password"
   ]
  },
  {
   "cell_type": "code",
   "execution_count": null,
   "metadata": {},
   "outputs": [],
   "source": [
    "import random\n",
    "import string\n",
    "\n",
    "def generate_password(length=8, uppercase=True, lowercase=True, digits=True, symbols=False):\n",
    "    characters = ''\n",
    "    if uppercase:\n",
    "        characters += string.ascii_uppercase\n",
    "    if lowercase:\n",
    "        characters += string.ascii_lowercase\n",
    "    if digits:\n",
    "        characters += string.digits\n",
    "    if symbols:\n",
    "        characters += string.punctuation\n",
    "    if not any([uppercase, lowercase, digits, symbols]):\n",
    "        return \"Please select at least one character type.\"\n",
    "    return ''.join(random.choice(characters) for i in range(length))\n",
    "\n",
    "# Example usage:\n",
    "password = generate_password(length=10, uppercase=True, lowercase=True, digits=True, symbols=False)\n",
    "print(f\"Generated password: {password}\")\n",
    "\n"
   ]
  },
  {
   "cell_type": "code",
   "execution_count": null,
   "metadata": {},
   "outputs": [],
   "source": [
    "import random\n",
    "import string\n",
    "\n",
    "uppercase=True\n",
    "\n",
    "characters = ''\n",
    "if uppercase:\n",
    "    characters += string.ascii_uppercase"
   ]
  },
  {
   "cell_type": "code",
   "execution_count": null,
   "metadata": {},
   "outputs": [],
   "source": [
    "characters"
   ]
  },
  {
   "cell_type": "code",
   "execution_count": null,
   "metadata": {},
   "outputs": [],
   "source": [
    "#characters = \"abcdef\"\n",
    "\n",
    "random.choice(characters)"
   ]
  },
  {
   "cell_type": "code",
   "execution_count": null,
   "metadata": {},
   "outputs": [],
   "source": []
  },
  {
   "cell_type": "code",
   "execution_count": null,
   "metadata": {},
   "outputs": [],
   "source": [
    "\n",
    "Anagram Checker Function:\n",
    "Write a function that takes two strings as input and returns True \n",
    "if they are anagrams of each other (contain the same letters in a different order), \n",
    "and False otherwise.\n"
   ]
  },
  {
   "cell_type": "code",
   "execution_count": 1,
   "metadata": {},
   "outputs": [
    {
     "name": "stdout",
     "output_type": "stream",
     "text": [
      "listen and silent are anagrams\n"
     ]
    }
   ],
   "source": [
    "def is_anagram(str1, str2):\n",
    "    return sorted(str1.lower()) == sorted(str2.lower())\n",
    "\n",
    "# Example usage:\n",
    "str1 = \"listen\"\n",
    "str2 = \"silent\"\n",
    "\n",
    "if is_anagram(str1, str2):\n",
    "    print(f\"{str1} and {str2} are anagrams\")\n",
    "else:\n",
    "    print(f\"{str1} and {str2} are not anagrams\")"
   ]
  },
  {
   "cell_type": "code",
   "execution_count": 2,
   "metadata": {},
   "outputs": [
    {
     "name": "stdout",
     "output_type": "stream",
     "text": [
      "['e', 'i', 'l', 'n', 's', 't']\n"
     ]
    }
   ],
   "source": [
    "str1 = \"Listen\"\n",
    "\n",
    "c = sorted(str1.lower())\n",
    "\n",
    "print(c)"
   ]
  },
  {
   "cell_type": "code",
   "execution_count": 3,
   "metadata": {},
   "outputs": [
    {
     "name": "stdout",
     "output_type": "stream",
     "text": [
      "['e', 'i', 'l', 'n', 's', 't']\n"
     ]
    }
   ],
   "source": [
    "str2 = \"silent\"\n",
    "\n",
    "d = sorted(str2.lower())\n",
    "\n",
    "print(d)\n"
   ]
  },
  {
   "cell_type": "code",
   "execution_count": null,
   "metadata": {},
   "outputs": [],
   "source": [
    "list1 = [343,343,45,54,23,23]"
   ]
  },
  {
   "cell_type": "raw",
   "metadata": {},
   "source": [
    "List Element Sum Function:\n",
    "Create a function that takes a list of numbers as input and \n",
    "returns the sum of all elements in the list.\n",
    "numbers = [1, 2, 3, 4, 5]\n",
    "\n",
    "\n",
    "String Reversal Function:\n",
    "Implement a function that takes a string as input and \n",
    "returns the reversed version of that string.\n",
    "\n",
    "\n",
    "Even or Odd Number Checker:\n",
    "Write a function that takes an integer as input and \n",
    "returns True if the number is even, and False if it is odd.\n",
    "\n",
    "\n",
    "Unique Elements Function:\n",
    "Create a function that takes a list as input and returns a \n",
    "new list containing only the unique elements (no duplicates) in the original list.\n",
    "\n",
    "\n",
    "Word Palindrome Checker Function:\n",
    "Write a function that takes a word as input and returns True \n",
    "if it is a palindrome (reads the same forwards and backwards), and False otherwise.\n"
   ]
  },
  {
   "cell_type": "code",
   "execution_count": null,
   "metadata": {},
   "outputs": [],
   "source": []
  },
  {
   "cell_type": "code",
   "execution_count": null,
   "metadata": {},
   "outputs": [],
   "source": [
    "def sum_list_elements(num_list):\n",
    "    return sum(num_list)\n",
    "\n",
    "# Example usage:\n",
    "numbers = [1, 2, 3, 4, 5]\n",
    "total_sum = sum_list_elements(numbers)\n",
    "print(f\"The sum of elements in the list is {total_sum}\")\n"
   ]
  },
  {
   "cell_type": "code",
   "execution_count": null,
   "metadata": {},
   "outputs": [],
   "source": [
    "def reverse_string(input_str):\n",
    "    return input_str[::-1]\n",
    "\n",
    "# Example usage:\n",
    "original_str = \"hello\"\n",
    "reversed_str = reverse_string(original_str)\n",
    "print(f\"Reversed string: {reversed_str}\")\n"
   ]
  },
  {
   "cell_type": "code",
   "execution_count": null,
   "metadata": {},
   "outputs": [],
   "source": [
    "def is_even(num):\n",
    "    return num % 2 == 0\n",
    "\n",
    "# Example usage:\n",
    "number = 7\n",
    "if is_even(number):\n",
    "    print(f\"{number} is even\")\n",
    "else:\n",
    "    print(f\"{number} is odd\")\n"
   ]
  },
  {
   "cell_type": "code",
   "execution_count": null,
   "metadata": {},
   "outputs": [],
   "source": [
    "def unique_elements(input_list):\n",
    "    return list(set(input_list))\n",
    "\n",
    "# Example usage:\n",
    "numbers = [1, 2, 3, 2, 4, 5, 1]\n",
    "unique_nums = unique_elements(numbers)\n",
    "print(f\"Unique elements: {unique_nums}\")\n"
   ]
  },
  {
   "cell_type": "code",
   "execution_count": null,
   "metadata": {},
   "outputs": [],
   "source": [
    "def is_anagram(str1, str2):\n",
    "    return sorted(str1.lower()) == sorted(str2.lower())\n",
    "\n",
    "# Example usage:\n",
    "word1 = \"listen\"\n",
    "word2 = \"silent\"\n",
    "if is_anagram(word1, word2):\n",
    "    print(f\"{word1} and {word2} are anagrams\")\n",
    "else:\n",
    "    print(f\"{word1} and {word2} are not anagrams\")\n"
   ]
  },
  {
   "cell_type": "code",
   "execution_count": null,
   "metadata": {},
   "outputs": [],
   "source": [
    "def is_palindrome(word):\n",
    "    return word.lower() == word.lower()[::-1]\n",
    "\n",
    "# Example usage:\n",
    "test_word = \"radar\"\n",
    "if is_palindrome(test_word):\n",
    "    print(f\"{test_word} is a palindrome\")\n",
    "else:\n",
    "    print(f\"{test_word} is not a palindrome\")\n"
   ]
  },
  {
   "cell_type": "code",
   "execution_count": null,
   "metadata": {},
   "outputs": [],
   "source": []
  }
 ],
 "metadata": {
  "kernelspec": {
   "display_name": "Python 3.10",
   "language": "python",
   "name": "py310"
  },
  "language_info": {
   "codemirror_mode": {
    "name": "ipython",
    "version": 3
   },
   "file_extension": ".py",
   "mimetype": "text/x-python",
   "name": "python",
   "nbconvert_exporter": "python",
   "pygments_lexer": "ipython3",
   "version": "3.10.13"
  }
 },
 "nbformat": 4,
 "nbformat_minor": 4
}
