{
 "cells": [
  {
   "cell_type": "markdown",
   "metadata": {},
   "source": [
    "# Introduction to Flow Control Statements in Python"
   ]
  },
  {
   "cell_type": "markdown",
   "id": "2577896a",
   "metadata": {},
   "source": [
    "1) The purpose of Flow Control Statements in Python is that \" To perform certain Operation\n",
    "(X-Operation in the case of True or Y-Operation of False).\n",
    "\n",
    "2) In Python programming, Flow Control Statements are classfiied into 2 Types. They are\n",
    "\n",
    "- a) Conditional Statements.\n",
    "\n",
    "- b) Looping Statements."
   ]
  },
  {
   "cell_type": "markdown",
   "metadata": {},
   "source": [
    "# Conditional Statements."
   ]
  },
  {
   "cell_type": "markdown",
   "id": "40aa4cdc",
   "metadata": {},
   "source": [
    "**1) In Python Programming, we have 3 Types of Conditional Statements.**\n",
    "\n",
    "They are\n",
    "\n",
    "a) Simple if statement.\n",
    "\n",
    "b) if...else statement.\n",
    "\n",
    "c) if..elif..else statement"
   ]
  },
  {
   "cell_type": "markdown",
   "metadata": {},
   "source": [
    "# Simple if statement"
   ]
  },
  {
   "cell_type": "raw",
   "metadata": {},
   "source": [
    "if cond:\n",
    "    #block of if statement"
   ]
  },
  {
   "cell_type": "code",
   "execution_count": null,
   "metadata": {},
   "outputs": [],
   "source": [
    "if 5<7:\n",
    "    print(\"I am in If block.\")\n",
    "    \n",
    "    \n",
    "#print(\"Program Execution Over\")"
   ]
  },
  {
   "cell_type": "code",
   "execution_count": null,
   "metadata": {},
   "outputs": [],
   "source": [
    "if 5>7:\n",
    "    print(\"I am in If block.\")\n",
    "    \n",
    "#print(\"Program Execution Over\")"
   ]
  },
  {
   "cell_type": "code",
   "execution_count": null,
   "metadata": {},
   "outputs": [],
   "source": [
    "if 5<7:\n",
    "    d = 5 + 7\n",
    "    \n",
    "print(d)"
   ]
  },
  {
   "cell_type": "code",
   "execution_count": null,
   "metadata": {},
   "outputs": [],
   "source": [
    "if 5>7:\n",
    "    print(\"if statement executed\")\n",
    "    \n",
    "#print(\"Program executed\")"
   ]
  },
  {
   "cell_type": "code",
   "execution_count": null,
   "metadata": {},
   "outputs": [],
   "source": [
    "# WAP if age is greater than or equals 18 then you are eligible for vote.\n",
    "\n",
    "age = int(input(\"Please Enter Your Age: \"))\n",
    "\n",
    "if age >= 18:\n",
    "    print(\"you are eligible for vote\")\n",
    "    \n",
    "#print(\"Program executed\")"
   ]
  },
  {
   "cell_type": "code",
   "execution_count": null,
   "metadata": {},
   "outputs": [],
   "source": [
    "age = int(input(\"Enter your age: \"))\n",
    "\n",
    "if age >= 18:\n",
    "    print(\"you are eligible for vote\")"
   ]
  },
  {
   "cell_type": "markdown",
   "metadata": {},
   "source": [
    "# if...else statement"
   ]
  },
  {
   "cell_type": "raw",
   "metadata": {},
   "source": [
    "if your cond in true then if block of statement will execute . \n",
    "otherwise your cond is false then execute else part.\n",
    "\n",
    "if cond:\n",
    "    #if block of statement\n",
    "else:\n",
    "    #else block of statement"
   ]
  },
  {
   "cell_type": "code",
   "execution_count": null,
   "metadata": {},
   "outputs": [],
   "source": [
    "# WAP if age is greater than or equals 18 then you are eligible for vote otherwise not eligible\n",
    "\n",
    "age = int(input(\"Enter your age: \"))\n",
    "\n",
    "if age >= 18:\n",
    "    print(\"You are eligible for vote\")\n",
    "else:\n",
    "    print(\"Not eligible.\") "
   ]
  },
  {
   "cell_type": "markdown",
   "metadata": {},
   "source": [
    "# if..elif..else statement"
   ]
  },
  {
   "cell_type": "raw",
   "metadata": {},
   "source": [
    "syntax:\n",
    "\n",
    "if cond:\n",
    "    #block of code\n",
    "elif cond:\n",
    "    #block of code\n",
    "elif cond:\n",
    "    #block of code\n",
    ".\n",
    ".\n",
    ".\n",
    "else:\n",
    "    #block of code"
   ]
  },
  {
   "cell_type": "markdown",
   "id": "4e2a0ac7",
   "metadata": {},
   "source": [
    "\n",
    "\n",
    "who will keep 90 mark --- A grade   \n",
    "\n",
    "who will keep 80 mark --- B grade\n",
    "\n",
    "who will keep 70 mark --- C grade\n",
    "\n",
    "who will keep 60 mark --- D grade"
   ]
  },
  {
   "cell_type": "code",
   "execution_count": null,
   "metadata": {},
   "outputs": [],
   "source": [
    "mark = int(input(\"Enter your Mark: \"))\n",
    "\n",
    "\n",
    "if mark >= 90 and mark <= 100:\n",
    "    print(\"A Grade.\")\n",
    "elif mark >=80 and mark < 90:\n",
    "    print(\"B Grade.\")\n",
    "elif mark >=70 and mark <80:\n",
    "    print(\"C Grade.\")\n",
    "elif mark >=60 and mark < 70:\n",
    "    print(\"D Grade\")\n",
    "elif mark >100:\n",
    "    print(\"invalid input, try again\")\n",
    "else:\n",
    "    print(\"Fail\")"
   ]
  },
  {
   "cell_type": "code",
   "execution_count": null,
   "metadata": {},
   "outputs": [],
   "source": [
    "a = int(input(\"enter the number :- \"))\n",
    "\n",
    "Lucky_no = 23\n",
    "\n",
    "\n",
    "if a == Lucky_no:\n",
    "    print(\"You're Winner\")\n",
    "else:\n",
    "    print(\"Tough Luck, try again\")\n"
   ]
  },
  {
   "cell_type": "code",
   "execution_count": null,
   "metadata": {},
   "outputs": [],
   "source": [
    "a = \"Python is\"\n",
    "\n",
    "\n",
    "if \"is\" in a:\n",
    "    print(\" is present\")\n",
    "else:\n",
    "    print(\"not  present\")"
   ]
  },
  {
   "cell_type": "code",
   "execution_count": null,
   "metadata": {},
   "outputs": [],
   "source": [
    "mark = int(input(\"Enter your Mark: \"))\n",
    "\n",
    "\n",
    "if mark >= 90:\n",
    "    print(\"A Grade.\")\n",
    "elif mark >=90:\n",
    "    print(\"B Grade.\")\n",
    "elif mark >=70:\n",
    "    print(\"C Grade.\")\n",
    "elif mark >=60:\n",
    "    print(\"D Grade\")\n",
    "else:\n",
    "    print(\"Fail\")"
   ]
  },
  {
   "cell_type": "code",
   "execution_count": null,
   "metadata": {},
   "outputs": [],
   "source": [
    "# Write a program to check whether a number is even or odd."
   ]
  },
  {
   "cell_type": "code",
   "execution_count": null,
   "metadata": {},
   "outputs": [],
   "source": [
    "num = int(input(\"Enter first number: \"))\n",
    "\n",
    "if num % 2 == 0:\n",
    "    print(\"Number is even\")\n",
    "else:\n",
    "    print(\"Number is odd\")"
   ]
  },
  {
   "cell_type": "code",
   "execution_count": null,
   "metadata": {},
   "outputs": [],
   "source": [
    "50 % 2"
   ]
  },
  {
   "cell_type": "markdown",
   "metadata": {},
   "source": [
    "# Nested if else statement"
   ]
  },
  {
   "cell_type": "code",
   "execution_count": null,
   "metadata": {},
   "outputs": [],
   "source": [
    "'''if condition1:\n",
    "    # Block of code if condition1 is True\n",
    "    if condition2:\n",
    "        # Block of code if condition2 is also True\n",
    "    else:\n",
    "        # Block of code if condition2 is False\n",
    "else:\n",
    "    # Block of code if condition1 is False'''\n"
   ]
  },
  {
   "cell_type": "code",
   "execution_count": null,
   "metadata": {},
   "outputs": [],
   "source": [
    "x = 10\n",
    "y = 5\n",
    "\n",
    "if x > y:\n",
    "    if x % 2 == 0:\n",
    "        print(\"x is greater than y and x is even\")\n",
    "    else:\n",
    "        print(\"x is greater than y and x is odd\")\n",
    "else:\n",
    "    print(\"x is less than or equal to y\")\n"
   ]
  },
  {
   "cell_type": "markdown",
   "id": "99c4f048",
   "metadata": {},
   "source": [
    "Positive, Negative, or Zero Check\n",
    "\n",
    "*Question:*\n",
    "\n",
    "Write a Python program that asks the user for a number. \n",
    "\n",
    "First, check if the number is positive, negative, or zero. \n",
    "\n",
    "If it is positive, further check if it is even or odd."
   ]
  },
  {
   "cell_type": "code",
   "execution_count": null,
   "metadata": {},
   "outputs": [],
   "source": [
    "number = int(input(\"Enter a number: \"))\n",
    "\n",
    "if number > 0:\n",
    "    print(f\"{number} is positive\")\n",
    "    if number % 2 == 0:\n",
    "        print(f\"{number} is even\")\n",
    "    else:\n",
    "        print(f\"{number} is odd\")\n",
    "elif number < 0:\n",
    "    print(f\"{number} is negative\")\n",
    "else:\n",
    "    print(f\"{number} is zero\")"
   ]
  },
  {
   "cell_type": "markdown",
   "id": "8cdc3f07",
   "metadata": {},
   "source": [
    "1. Create a program that compares two numbers and prints the larger one using if-else."
   ]
  },
  {
   "cell_type": "markdown",
   "id": "d112349a",
   "metadata": {},
   "source": [
    "2. Create a program that classifies a given temperature as hot (>30°C), warm (20-30°C), or cold (<20°C) \n",
    "using if-elif-else statements."
   ]
  },
  {
   "cell_type": "markdown",
   "id": "65620f4f",
   "metadata": {},
   "source": [
    "3. create a Python program that checks if a given string is a palindrome using if- else statement,  \n",
    "for string take the input from the user"
   ]
  },
  {
   "cell_type": "markdown",
   "id": "2460953c",
   "metadata": {},
   "source": [
    "4.create a Python program that takes a letter as input & determines, \n",
    "   if it's vowel or a consontant using if- else"
   ]
  },
  {
   "cell_type": "markdown",
   "id": "ae337c21",
   "metadata": {},
   "source": [
    "5.create a Python program that checks the email id is vaild or not\n",
    "on the basis of, if your email is contains @ & . then it is vaild\n",
    "\n",
    "for email - takee the data from user"
   ]
  },
  {
   "cell_type": "code",
   "execution_count": null,
   "metadata": {},
   "outputs": [],
   "source": [
    "'''6. Question for dictionary lookup (with data):*\n",
    "   - You are given the following dictionary representing a weekly schedule:\n",
    "     python\n",
    "     activities = {\n",
    "         \"Monday\": \"Gym\",\n",
    "         \"Tuesday\": \"Yoga\",\n",
    "         \"Wednesday\": \"Swimming\",\n",
    "         \"Thursday\": \"Running\",\n",
    "         \"Friday\": \"Rest\"\n",
    "     }\n",
    "     \n",
    "     # Write a Python program that asks the user for a day (e.g., \"Wednesday\") and checks \n",
    "    if there is an activity scheduled for that day. If the day exists in the dictionary, \n",
    "    print the activity. Otherwise, print \"No activity scheduled for today.\" '''"
   ]
  },
  {
   "cell_type": "code",
   "execution_count": null,
   "metadata": {},
   "outputs": [],
   "source": [
    "'''7. *Question for using not (with data):*\n",
    "   - You are given a boolean variable is_sunny = False, which represents whether it is sunny today. \n",
    "Write a Python program that checks the value of is_sunny. \n",
    "If it is not sunny (False), print a message advising to \"Bring an umbrella.\" \n",
    "If it is sunny (True), print \"No umbrella needed.\" \n",
    "Modify the program to ask the user if \n",
    "it's sunny (yes/no), convert the response to True or False, and \n",
    "print the appropriate message based on their input.'''"
   ]
  },
  {
   "cell_type": "code",
   "execution_count": null,
   "metadata": {},
   "outputs": [],
   "source": [
    "'''8. Checking membership in a list\n",
    "\n",
    "Question:\n",
    "You are given a list of fruits: [\"apple\", \"banana\", \"cherry\"]. \n",
    "    \n",
    "Write a Python program that asks the user for a fruit and checks if it’s in the list.'''"
   ]
  },
  {
   "cell_type": "code",
   "execution_count": null,
   "metadata": {},
   "outputs": [],
   "source": [
    "'''9. \n",
    "\n",
    "Write a Python program that asks for a score (0-100). First, \n",
    "check if the score is valid (between 0 and 100). Then classify the score as \"Pass\" or \"Fail\". \n",
    "If it's a \"Pass\" (>= 50), further classify it as \"Excellent\" (>= 90) or \"Good\" (50-89).'''"
   ]
  },
  {
   "cell_type": "code",
   "execution_count": null,
   "metadata": {},
   "outputs": [],
   "source": [
    "'''10. \n",
    "\n",
    "Write a Python program that asks the user for their age. \n",
    "First, check if the age is a valid number (greater than 0). \n",
    "Then classify it into different age categories: Child (< 13), Teenager (13-19), Adult (20-64), or Senior (65+).'''"
   ]
  },
  {
   "cell_type": "code",
   "execution_count": 2,
   "metadata": {},
   "outputs": [
    {
     "name": "stdout",
     "output_type": "stream",
     "text": [
      "Your age category is: Adult\n"
     ]
    }
   ],
   "source": [
    "while True:\n",
    "    try:\n",
    "        age = int(input(\"Please enter your age: \"))\n",
    "        if age > 0:\n",
    "            break\n",
    "        else:\n",
    "            print(\"Age must be greater than 0. Please try again.\")\n",
    "    except ValueError:\n",
    "        print(\"Invalid input. Please enter a whole number.\")\n",
    "\n",
    "if age < 13:\n",
    "    age_category = \"Child\"\n",
    "elif 13 <= age <= 19:\n",
    "    age_category = \"Teenager\"\n",
    "elif 20 <= age <= 64:\n",
    "    age_category = \"Adult\"\n",
    "else:\n",
    "    age_category = \"Senior\"\n",
    "\n",
    "print(f\"Your age category is: {age_category}\")"
   ]
  },
  {
   "cell_type": "code",
   "execution_count": null,
   "metadata": {},
   "outputs": [],
   "source": [
    "day = \"Wednesday\"\n",
    "activities = {\n",
    "    \"Monday\": \"Gym\",\n",
    "    \"Tuesday\": \"Yoga\",\n",
    "    \"Wednesday\": \"Swimming\",\n",
    "    \"Thursday\": \"Running\",\n",
    "    \"Friday\": \"Rest\"\n",
    "}\n",
    "\n",
    "if day in activities:\n",
    "    print(f\"Today's activity: {activities[day]}\")\n",
    "else:\n",
    "    print(\"No activity scheduled for today\")"
   ]
  },
  {
   "cell_type": "code",
   "execution_count": null,
   "metadata": {},
   "outputs": [],
   "source": [
    "'''7. *Question for using not (with data):*\n",
    "   - You are given a boolean variable is_sunny = False, which represents whether it is sunny today. \n",
    "Write a Python program that checks the value of is_sunny. \n",
    "If it is not sunny (False), print a message advising to \"Bring an umbrella.\" \n",
    "If it is sunny (True), print \"No umbrella needed.\" \n",
    "Modify the program to ask the user if \n",
    "it's sunny (yes/no), convert the response to True or False, and \n",
    "print the appropriate message based on their input.'''\n"
   ]
  },
  {
   "cell_type": "code",
   "execution_count": 8,
   "metadata": {},
   "outputs": [
    {
     "name": "stdout",
     "output_type": "stream",
     "text": [
      " Is it sunny or not \n",
      " give it in 1 or 0 \n",
      " 1 = sunny \n",
      " 0 = not sunny :1\n",
      "It's sunny, no umbrella needed\n"
     ]
    }
   ],
   "source": [
    "is_sunny = bool(int(input(\" Is it sunny or not \\n give it in 1 or 0 \\n 1 = sunny \\n 0 = not sunny :\")))\n",
    "\n",
    "if not is_sunny:\n",
    "    print(\"It's not sunny today, bring an umbrella\")\n",
    "else:\n",
    "    print(\"It's sunny, no umbrella needed\")"
   ]
  },
  {
   "cell_type": "code",
   "execution_count": null,
   "metadata": {},
   "outputs": [],
   "source": [
    "fruits = [\"apple\", \"banana\", \"cherry\"]\n",
    "fruit = input(\"Enter a fruit: \")\n",
    "\n",
    "if fruit in fruits:\n",
    "    print(f\"{fruit} is in the list\")\n",
    "else:\n",
    "    print(f\"{fruit} is not in the list\")"
   ]
  },
  {
   "cell_type": "code",
   "execution_count": 1,
   "metadata": {},
   "outputs": [
    {
     "name": "stdout",
     "output_type": "stream",
     "text": [
      "Pass\n",
      "Good\n"
     ]
    }
   ],
   "source": [
    "score = int(input(\"Enter a score (0-100): \"))\n",
    "\n",
    "if 0 <= score <= 100:\n",
    "    if score >= 50:\n",
    "        print(\"Pass\")\n",
    "        if score >= 90:\n",
    "            print(\"Excellent\")\n",
    "        else:\n",
    "            print(\"Good\")\n",
    "    else:\n",
    "        print(\"Fail\")\n",
    "else:\n",
    "    print(\"Invalid score\")"
   ]
  },
  {
   "cell_type": "code",
   "execution_count": null,
   "metadata": {},
   "outputs": [],
   "source": [
    "age = int(input(\"Enter your age: \"))\n",
    "\n",
    "if age > 0:\n",
    "    if age < 13:\n",
    "        print(\"Child\")\n",
    "    elif age <= 19:\n",
    "        print(\"Teenager\")\n",
    "    elif age <= 64:\n",
    "        print(\"Adult\")\n",
    "    else:\n",
    "        print(\"Senior\")\n",
    "else:\n",
    "    print(\"Invalid age\")"
   ]
  },
  {
   "cell_type": "code",
   "execution_count": null,
   "metadata": {},
   "outputs": [],
   "source": [
    "email = input(\"enter the email:- \")\n",
    "\n",
    "\n",
    "if \"@\" and \".\" in email:\n",
    "    print(\"vaild email\")\n",
    "else:\n",
    "    print(\"not vaild\")"
   ]
  },
  {
   "cell_type": "code",
   "execution_count": null,
   "metadata": {},
   "outputs": [],
   "source": []
  },
  {
   "cell_type": "code",
   "execution_count": null,
   "metadata": {},
   "outputs": [],
   "source": []
  },
  {
   "cell_type": "code",
   "execution_count": null,
   "metadata": {},
   "outputs": [],
   "source": [
    "number=int(input('larger number'))\n",
    "\n",
    "if number >100:\n",
    "       print('its the larger number')\n",
    "else:\n",
    "       print('its smaller number')"
   ]
  },
  {
   "cell_type": "code",
   "execution_count": null,
   "metadata": {},
   "outputs": [],
   "source": [
    "string = input(\"enter the name :- \")\n",
    "\n",
    "if string == string[::-1]:\n",
    "    print(\"it's palidrome\")\n",
    "else:\n",
    "    print(\"not\")"
   ]
  },
  {
   "cell_type": "code",
   "execution_count": null,
   "metadata": {},
   "outputs": [],
   "source": []
  }
 ],
 "metadata": {
  "kernelspec": {
   "display_name": "base",
   "language": "python",
   "name": "python3"
  },
  "language_info": {
   "codemirror_mode": {
    "name": "ipython",
    "version": 3
   },
   "file_extension": ".py",
   "mimetype": "text/x-python",
   "name": "python",
   "nbconvert_exporter": "python",
   "pygments_lexer": "ipython3",
   "version": "3.11.7"
  }
 },
 "nbformat": 4,
 "nbformat_minor": 5
}
