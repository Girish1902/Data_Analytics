{
 "cells": [
  {
   "cell_type": "markdown",
   "metadata": {},
   "source": [
    "# Numpy module"
   ]
  },
  {
   "cell_type": "raw",
   "metadata": {},
   "source": [
    "=>Numpy stands for Numerical Python.\n",
    "=>Numpy is one of the pre-defined third party module / Library and \n",
    "numpy module is not a pre-defined module in Python Language.\n",
    "\n",
    "=>Syntax for installing any module:\n",
    "\n",
    "\t\t\tpip    install    module-name\n",
    "\t\t    \n",
    "=>Example: Install  numpy module\n",
    "\n",
    "\t\t\tpip   install   numpy"
   ]
  },
  {
   "cell_type": "raw",
   "metadata": {},
   "source": [
    "\"ndarray\" is one of the pre-defined class of numpy module and \n",
    "whose object is used for storing the data in numpy programming\n",
    "in the form of 1-D, 2-D and n-Dimensional Arrays."
   ]
  },
  {
   "cell_type": "code",
   "execution_count": null,
   "metadata": {},
   "outputs": [],
   "source": [
    "pip install numpy"
   ]
  },
  {
   "cell_type": "code",
   "execution_count": 20,
   "metadata": {},
   "outputs": [],
   "source": [
    "import numpy as np"
   ]
  },
  {
   "cell_type": "markdown",
   "metadata": {},
   "source": [
    "# Creating an Array"
   ]
  },
  {
   "cell_type": "code",
   "execution_count": null,
   "metadata": {},
   "outputs": [],
   "source": [
    "a = np.array([435,534,34,34,34,43])\n",
    "\n",
    "print(a,type(a))"
   ]
  },
  {
   "cell_type": "code",
   "execution_count": null,
   "metadata": {},
   "outputs": [],
   "source": [
    "# converting list into array\n",
    "\n",
    "l1 = [10,20,30,40.65,\"dffd\",60]\n",
    "\n",
    "a = np.array(l1)\n",
    "\n",
    "print(a,type(a),a.dtype)"
   ]
  },
  {
   "cell_type": "code",
   "execution_count": null,
   "metadata": {},
   "outputs": [],
   "source": [
    "print(a)"
   ]
  },
  {
   "cell_type": "code",
   "execution_count": null,
   "metadata": {},
   "outputs": [],
   "source": [
    "print(a.ndim)   #check dimension"
   ]
  },
  {
   "cell_type": "code",
   "execution_count": null,
   "metadata": {},
   "outputs": [],
   "source": [
    "a = np.array([12,45,6,67,78,45])\n",
    "\n",
    "\n",
    "print(a,type(a))"
   ]
  },
  {
   "cell_type": "code",
   "execution_count": null,
   "metadata": {},
   "outputs": [],
   "source": [
    "# for checking the shape or values\n",
    "\n",
    "print(a.shape)"
   ]
  },
  {
   "cell_type": "code",
   "execution_count": null,
   "metadata": {},
   "outputs": [],
   "source": [
    "b = a.reshape(3,2)   # rows  # columns\n",
    "\n",
    "print(b)"
   ]
  },
  {
   "cell_type": "code",
   "execution_count": null,
   "metadata": {},
   "outputs": [],
   "source": [
    "b.ndim"
   ]
  },
  {
   "cell_type": "code",
   "execution_count": null,
   "metadata": {},
   "outputs": [],
   "source": [
    "b.shape"
   ]
  },
  {
   "cell_type": "markdown",
   "metadata": {},
   "source": [
    "# 2D"
   ]
  },
  {
   "cell_type": "code",
   "execution_count": null,
   "metadata": {},
   "outputs": [],
   "source": [
    "list1 = [[234,34,55],[54,74,34],[34,65,34],[34,35,67]]\n",
    "\n",
    "# converting list to 2D\n",
    "ab = np.array(list1)\n",
    "\n",
    "print(ab)"
   ]
  },
  {
   "cell_type": "code",
   "execution_count": null,
   "metadata": {},
   "outputs": [],
   "source": [
    "ab.ndim"
   ]
  },
  {
   "cell_type": "code",
   "execution_count": null,
   "metadata": {},
   "outputs": [],
   "source": [
    "ab.shape"
   ]
  },
  {
   "cell_type": "code",
   "execution_count": null,
   "metadata": {},
   "outputs": [],
   "source": [
    "print(ab.reshape(2,6))"
   ]
  },
  {
   "cell_type": "markdown",
   "metadata": {},
   "source": [
    "# indexing and scling in array"
   ]
  },
  {
   "cell_type": "code",
   "execution_count": null,
   "metadata": {},
   "outputs": [],
   "source": [
    "a"
   ]
  },
  {
   "cell_type": "code",
   "execution_count": null,
   "metadata": {},
   "outputs": [],
   "source": [
    "a[2]"
   ]
  },
  {
   "cell_type": "code",
   "execution_count": null,
   "metadata": {},
   "outputs": [],
   "source": [
    "a[-1]"
   ]
  },
  {
   "cell_type": "code",
   "execution_count": null,
   "metadata": {},
   "outputs": [],
   "source": [
    "a[0]"
   ]
  },
  {
   "cell_type": "code",
   "execution_count": null,
   "metadata": {},
   "outputs": [],
   "source": [
    "a[2:4]    # 2,3"
   ]
  },
  {
   "cell_type": "code",
   "execution_count": null,
   "metadata": {},
   "outputs": [],
   "source": [
    "a[:]"
   ]
  },
  {
   "cell_type": "code",
   "execution_count": null,
   "metadata": {},
   "outputs": [],
   "source": [
    "a[-4:-1]    #-4,-3,-2"
   ]
  },
  {
   "cell_type": "code",
   "execution_count": null,
   "metadata": {},
   "outputs": [],
   "source": [
    "a[2:8:2]"
   ]
  },
  {
   "cell_type": "code",
   "execution_count": null,
   "metadata": {},
   "outputs": [],
   "source": [
    "a[0:10:4]"
   ]
  },
  {
   "cell_type": "code",
   "execution_count": null,
   "metadata": {},
   "outputs": [],
   "source": [
    "a"
   ]
  },
  {
   "cell_type": "code",
   "execution_count": null,
   "metadata": {},
   "outputs": [],
   "source": [
    "a[0] = 100"
   ]
  },
  {
   "cell_type": "code",
   "execution_count": null,
   "metadata": {},
   "outputs": [],
   "source": [
    "a"
   ]
  },
  {
   "cell_type": "code",
   "execution_count": null,
   "metadata": {},
   "outputs": [],
   "source": [
    "t2 = [[23,323],[34,34]]\n",
    "\n",
    "t1 = ((10,20),(30,40))\n",
    "\n",
    "print(t1,type(t1))\n",
    "\n",
    "a = np.array(t1)\n",
    "a"
   ]
  },
  {
   "cell_type": "code",
   "execution_count": null,
   "metadata": {},
   "outputs": [],
   "source": [
    "a.ndim"
   ]
  },
  {
   "cell_type": "code",
   "execution_count": null,
   "metadata": {},
   "outputs": [],
   "source": [
    "a.shape"
   ]
  },
  {
   "cell_type": "code",
   "execution_count": null,
   "metadata": {},
   "outputs": [],
   "source": []
  },
  {
   "cell_type": "markdown",
   "metadata": {},
   "source": [
    "# 3D"
   ]
  },
  {
   "cell_type": "code",
   "execution_count": null,
   "metadata": {},
   "outputs": [],
   "source": [
    "t1 = ( ((10,20,15),(30,40,25)),( (50,60,18),(70,80,35) ))\n",
    "\n",
    "t2 = [[[34,345,44],[435,53,45]],[[45,5,454],[45,34,534]]]\n",
    "\n",
    "print(t1,type(t2))\n",
    "\n",
    "a=np.array(t2)\n",
    "\n",
    "print(a)"
   ]
  },
  {
   "cell_type": "code",
   "execution_count": null,
   "metadata": {},
   "outputs": [],
   "source": [
    "a.ndim"
   ]
  },
  {
   "cell_type": "code",
   "execution_count": null,
   "metadata": {},
   "outputs": [],
   "source": [
    "a.shape   # 12   -  3,2,2"
   ]
  },
  {
   "cell_type": "code",
   "execution_count": null,
   "metadata": {},
   "outputs": [],
   "source": [
    "b = a.reshape(6,2)"
   ]
  },
  {
   "cell_type": "code",
   "execution_count": null,
   "metadata": {},
   "outputs": [],
   "source": [
    "b"
   ]
  },
  {
   "cell_type": "code",
   "execution_count": null,
   "metadata": {},
   "outputs": [],
   "source": [
    "b.ndim"
   ]
  },
  {
   "cell_type": "markdown",
   "metadata": {},
   "source": [
    "# COPY"
   ]
  },
  {
   "cell_type": "code",
   "execution_count": null,
   "metadata": {
    "scrolled": true
   },
   "outputs": [],
   "source": [
    "arr = np.array([1, 2, 3, 4, 5])\n",
    "x = arr.copy()\n",
    "arr[0] = 42\n",
    "\n",
    "print(arr)\n",
    "print(x)"
   ]
  },
  {
   "cell_type": "markdown",
   "metadata": {},
   "source": [
    "# VIEW"
   ]
  },
  {
   "cell_type": "code",
   "execution_count": null,
   "metadata": {},
   "outputs": [],
   "source": [
    "import numpy as np\n",
    "\n",
    "arr = np.array([1, 2, 3, 4, 5])\n",
    "x = arr.view()\n",
    "\n",
    "arr[0] = 42\n",
    "\n",
    "print(arr)\n",
    "print(x)"
   ]
  },
  {
   "cell_type": "code",
   "execution_count": null,
   "metadata": {},
   "outputs": [],
   "source": [
    "The copy owns the data and any changes made to the copy will not affect original array, and any changes made to the original array will not affect the copy.\n",
    "\n",
    "The view does not own the data and any changes made to the view will affect the original array, and any changes made to the original array will affect the view."
   ]
  },
  {
   "cell_type": "markdown",
   "metadata": {},
   "source": [
    "# Sort"
   ]
  },
  {
   "cell_type": "code",
   "execution_count": null,
   "metadata": {},
   "outputs": [],
   "source": [
    "arr = np.array([1, 2, 3, 4, 5,4,5])\n",
    "\n",
    "arr.sort()\n",
    "\n",
    "arr"
   ]
  },
  {
   "cell_type": "code",
   "execution_count": null,
   "metadata": {},
   "outputs": [],
   "source": [
    "list1 = [[234,34,55],[54,74,34]]\n",
    "\n",
    "\n",
    "a = np.array(list1)\n",
    "a.sort()\n",
    "\n",
    "print(a)"
   ]
  },
  {
   "cell_type": "markdown",
   "metadata": {},
   "source": [
    "# arange()"
   ]
  },
  {
   "cell_type": "code",
   "execution_count": null,
   "metadata": {},
   "outputs": [],
   "source": [
    "a = np.arange(10)  # 10 - end value\n",
    "\n",
    "print(a,type(a))"
   ]
  },
  {
   "cell_type": "code",
   "execution_count": null,
   "metadata": {},
   "outputs": [],
   "source": [
    "a.ndim"
   ]
  },
  {
   "cell_type": "code",
   "execution_count": null,
   "metadata": {},
   "outputs": [],
   "source": [
    "a = np.arange(50,62)    # 50 - start    62-end\n",
    "a"
   ]
  },
  {
   "cell_type": "code",
   "execution_count": null,
   "metadata": {},
   "outputs": [],
   "source": [
    "a.ndim\n"
   ]
  },
  {
   "cell_type": "code",
   "execution_count": null,
   "metadata": {},
   "outputs": [],
   "source": [
    "a = np.arange(10,22,2) #10-  22  2 - step size\n",
    "a"
   ]
  },
  {
   "cell_type": "code",
   "execution_count": null,
   "metadata": {},
   "outputs": [],
   "source": [
    "b = a.reshape(2,3)\n",
    "b"
   ]
  },
  {
   "cell_type": "code",
   "execution_count": null,
   "metadata": {},
   "outputs": [],
   "source": [
    "b.ndim"
   ]
  },
  {
   "cell_type": "code",
   "execution_count": null,
   "metadata": {},
   "outputs": [],
   "source": [
    "c= a.reshape(2,3,1)\n",
    "c"
   ]
  },
  {
   "cell_type": "code",
   "execution_count": null,
   "metadata": {},
   "outputs": [],
   "source": [
    "c.ndim"
   ]
  },
  {
   "cell_type": "code",
   "execution_count": null,
   "metadata": {},
   "outputs": [],
   "source": [
    "c.shape"
   ]
  },
  {
   "cell_type": "markdown",
   "metadata": {},
   "source": [
    "# isin()"
   ]
  },
  {
   "cell_type": "code",
   "execution_count": null,
   "metadata": {},
   "outputs": [],
   "source": [
    "To check any value is present or not in the array"
   ]
  },
  {
   "cell_type": "code",
   "execution_count": null,
   "metadata": {},
   "outputs": [],
   "source": [
    "list1 = [[234,34,55],[54,74,34]]\n",
    "\n",
    "a = np.array(list1)\n",
    "\n",
    "b = np.isin(34,a)\n",
    "\n",
    "b"
   ]
  },
  {
   "cell_type": "markdown",
   "metadata": {},
   "source": [
    "# where()"
   ]
  },
  {
   "cell_type": "code",
   "execution_count": null,
   "metadata": {},
   "outputs": [],
   "source": [
    "It is used to find the index number of any value"
   ]
  },
  {
   "cell_type": "code",
   "execution_count": null,
   "metadata": {},
   "outputs": [],
   "source": [
    "arr = np.array([1, 2, 3, 4, 5,4,5])\n",
    "\n",
    "n = 3\n",
    "\n",
    "b =  np.where(arr == n)\n",
    "\n",
    "b"
   ]
  },
  {
   "cell_type": "code",
   "execution_count": null,
   "metadata": {},
   "outputs": [],
   "source": [
    "list1 = [[234,34,55],[54,74,34]]\n",
    "\n",
    "a = np.array(list1)\n",
    "\n",
    "n = 34\n",
    "\n",
    "b = np.where(a == n)\n",
    "\n",
    "b"
   ]
  },
  {
   "cell_type": "code",
   "execution_count": null,
   "metadata": {},
   "outputs": [],
   "source": [
    "a"
   ]
  },
  {
   "cell_type": "markdown",
   "metadata": {},
   "source": [
    "# zeros()"
   ]
  },
  {
   "cell_type": "code",
   "execution_count": null,
   "metadata": {},
   "outputs": [],
   "source": [
    "a = np.zeros(5)\n",
    "print(a)"
   ]
  },
  {
   "cell_type": "code",
   "execution_count": null,
   "metadata": {},
   "outputs": [],
   "source": [
    "a.ndim"
   ]
  },
  {
   "cell_type": "code",
   "execution_count": null,
   "metadata": {},
   "outputs": [],
   "source": [
    "a = np.zeros((3,3))\n",
    "a"
   ]
  },
  {
   "cell_type": "code",
   "execution_count": null,
   "metadata": {},
   "outputs": [],
   "source": [
    "a.ndim"
   ]
  },
  {
   "cell_type": "code",
   "execution_count": null,
   "metadata": {},
   "outputs": [],
   "source": [
    "a=np.zeros((2,3), dtype=int)\n",
    "a"
   ]
  },
  {
   "cell_type": "markdown",
   "metadata": {},
   "source": [
    "# ones()"
   ]
  },
  {
   "cell_type": "code",
   "execution_count": null,
   "metadata": {},
   "outputs": [],
   "source": [
    "a = np.ones(12)\n",
    "a"
   ]
  },
  {
   "cell_type": "code",
   "execution_count": null,
   "metadata": {},
   "outputs": [],
   "source": [
    "a.reshape(3,4)"
   ]
  },
  {
   "cell_type": "code",
   "execution_count": null,
   "metadata": {},
   "outputs": [],
   "source": [
    "a = np.ones((4,5), dtype=int)\n",
    "a"
   ]
  },
  {
   "cell_type": "code",
   "execution_count": null,
   "metadata": {},
   "outputs": [],
   "source": [
    "a.reshape(2,5,2)"
   ]
  },
  {
   "cell_type": "markdown",
   "metadata": {},
   "source": [
    "# Numpy--Arithmetic Operations (OR) Matrix Operations"
   ]
  },
  {
   "cell_type": "raw",
   "metadata": {},
   "source": [
    "=>On the objects of ndarray, we can apply all types of Arithmetic Operators.\n",
    "=>To perform Arithmetic Operations on the objects of ndarray in numpy programming, \n",
    "we use the following functions.\n",
    "\n",
    "\t\ta) add()\n",
    "\t\tb) subtract()\n",
    "\t\tc) multiply()\n",
    "\t\td) power()\n",
    "\t\te) divide()\n",
    "\t\tf) floor_divide()\n",
    "\t\tg) mod()\n",
    "\n",
    "=>All the arithmetic Functions can also be perfomed w.r.t Arithmetic Operators.\n",
    "=>All these Arithmetic Operations are called Matrix Operations."
   ]
  },
  {
   "cell_type": "raw",
   "metadata": {},
   "source": [
    "a) add():\n",
    "--------------\n",
    "Syntax:-    varname = numpy.add(ndarrayobj1, ndarrayobj2)\n",
    "=>This function is used for adding elements of \n",
    "ndarrayobj1, ndarrayobj2 and result can be displayed\n"
   ]
  },
  {
   "cell_type": "code",
   "execution_count": 3,
   "metadata": {},
   "outputs": [
    {
     "name": "stdout",
     "output_type": "stream",
     "text": [
      "[11 22 33 44]\n"
     ]
    }
   ],
   "source": [
    "# 1D array\n",
    "\n",
    "a = np.array([10,20,30,40])\n",
    "b = np.array([1,2,3,4])\n",
    "\n",
    "d = np.add(a,b)\n",
    "\n",
    "print(d)"
   ]
  },
  {
   "cell_type": "code",
   "execution_count": 4,
   "metadata": {},
   "outputs": [
    {
     "name": "stdout",
     "output_type": "stream",
     "text": [
      "[[11 22]\n",
      " [33 44]]\n"
     ]
    }
   ],
   "source": [
    "# 2d array\n",
    "\n",
    "a = np.array([[10,20],[30,40]])\n",
    "b = np.array([[1,2],[3,4]])\n",
    "\n",
    "d = np.add(a,b)\n",
    "\n",
    "print(d)"
   ]
  },
  {
   "cell_type": "code",
   "execution_count": null,
   "metadata": {},
   "outputs": [],
   "source": [
    "d.ndim"
   ]
  },
  {
   "cell_type": "code",
   "execution_count": 5,
   "metadata": {},
   "outputs": [
    {
     "name": "stdout",
     "output_type": "stream",
     "text": [
      "[[11 22]\n",
      " [33 44]] <class 'numpy.ndarray'>\n"
     ]
    }
   ],
   "source": [
    "# arth oper\n",
    "\n",
    "a = np.array([[10,20],[30,40]])\n",
    "b = np.array([[1,2],[3,4]])\n",
    "\n",
    "#print(a)\n",
    "#print(b)\n",
    "\n",
    "c = a + b\n",
    "\n",
    "print(c,type(c))\n",
    "\n"
   ]
  },
  {
   "cell_type": "raw",
   "metadata": {},
   "source": [
    "b) subtract()\n",
    "------------------------------\n",
    "Syntax:-    varname = numpy.subtract(ndarrayobj1, ndarrayobj2)\n",
    "=>This function is used for subtracting elements of ndarrayobj1, ndarrayobj2 and result can be displayed"
   ]
  },
  {
   "cell_type": "code",
   "execution_count": 6,
   "metadata": {},
   "outputs": [
    {
     "name": "stdout",
     "output_type": "stream",
     "text": [
      "[[ 9 18]\n",
      " [27 36]\n",
      " [29 50]]\n"
     ]
    }
   ],
   "source": [
    "a = np.array([[10,20],[30,40],[34,56]])\n",
    "b = np.array([[1,2],[3,4],[5,6]])\n",
    "\n",
    "#print(a)\n",
    "#print(b)\n",
    "\n",
    "c = np.subtract(a,b)\n",
    "\n",
    "print(c)"
   ]
  },
  {
   "cell_type": "code",
   "execution_count": 7,
   "metadata": {},
   "outputs": [
    {
     "name": "stdout",
     "output_type": "stream",
     "text": [
      "[[ 9 18]\n",
      " [27 36]\n",
      " [29 50]] <class 'numpy.ndarray'>\n"
     ]
    }
   ],
   "source": [
    "a = np.array([[10,20],[30,40],[34,56]])\n",
    "b = np.array([[1,2],[3,4],[5,6]])\n",
    "\n",
    "#print(a)\n",
    "#print(b)\n",
    "\n",
    "c = a - b\n",
    "\n",
    "print(c,type(c))\n",
    "\n"
   ]
  },
  {
   "cell_type": "raw",
   "metadata": {},
   "source": [
    "c) multiply():\n",
    "-----------------------\n",
    "Syntax:-    varname = numpy.multiply(ndarrayobj1, ndarrayobj2)\n",
    "=>This function is used for performing element-wise multiplication of ndarrayobj1, ndarrayobj2 and result can be displayed"
   ]
  },
  {
   "cell_type": "code",
   "execution_count": 8,
   "metadata": {},
   "outputs": [
    {
     "name": "stdout",
     "output_type": "stream",
     "text": [
      "[[ 10  40]\n",
      " [ 90 160]]\n"
     ]
    }
   ],
   "source": [
    "a = np.array([[10,20],[30,40]])\n",
    "b = np.array([[1,2],[3,4]])\n",
    "\n",
    "#print(a)\n",
    "#print(b)\n",
    "\n",
    "c = np.multiply(a,b)\n",
    "\n",
    "print(c)"
   ]
  },
  {
   "cell_type": "code",
   "execution_count": 9,
   "metadata": {},
   "outputs": [
    {
     "name": "stdout",
     "output_type": "stream",
     "text": [
      "[[ 10  40]\n",
      " [ 90 160]]\n"
     ]
    }
   ],
   "source": [
    "a = np.array([[10,20],[30,40]])\n",
    "b = np.array([[1,2],[3,4]])\n",
    "\n",
    "#print(a)\n",
    "#print(b)\n",
    "\n",
    "c = a * b\n",
    "\n",
    "print(c)"
   ]
  },
  {
   "cell_type": "raw",
   "metadata": {},
   "source": [
    "e) divide()\n",
    "-----------------------------------\n",
    "Syntax:-    varname=numpy.divide(ndarray1,ndarry2)\n",
    "=>This function is used for performing element-wise division of ndarrayobj1, ndarrayobj2 and result can be displayed"
   ]
  },
  {
   "cell_type": "code",
   "execution_count": 10,
   "metadata": {},
   "outputs": [
    {
     "name": "stdout",
     "output_type": "stream",
     "text": [
      "[[10. 10.]\n",
      " [10. 10.]]\n"
     ]
    }
   ],
   "source": [
    "a = np.array([[10,20],[30,40]])\n",
    "b = np.array([[1,2],[3,4]])\n",
    "\n",
    "#print(a)\n",
    "#print(b)\n",
    "\n",
    "c = np.divide(a,b)\n",
    "\n",
    "print(c)"
   ]
  },
  {
   "cell_type": "code",
   "execution_count": 11,
   "metadata": {},
   "outputs": [
    {
     "name": "stdout",
     "output_type": "stream",
     "text": [
      "[[10. 10.]\n",
      " [10. 10.]]\n"
     ]
    }
   ],
   "source": [
    "c = a / b\n",
    "\n",
    "print(c)"
   ]
  },
  {
   "cell_type": "code",
   "execution_count": null,
   "metadata": {},
   "outputs": [],
   "source": [
    "40/4"
   ]
  },
  {
   "cell_type": "raw",
   "metadata": {},
   "source": [
    "f) floor_divide()\n",
    "-----------------------------------\n",
    "Syntax:-    varname=numpy.floor_divide(ndarray1,ndarry2)\n",
    "=>This function is used for performing element-wise floor division of ndarrayobj1, ndarrayobj2 and result can be displayed"
   ]
  },
  {
   "cell_type": "code",
   "execution_count": 12,
   "metadata": {},
   "outputs": [
    {
     "name": "stdout",
     "output_type": "stream",
     "text": [
      "[[10 10]\n",
      " [10 10]]\n"
     ]
    }
   ],
   "source": [
    "a = np.array([[10,20],[30,40]])\n",
    "b = np.array([[1,2],[3,4]])\n",
    "\n",
    "#print(a)\n",
    "#print(b)\n",
    "\n",
    "c = np.floor_divide(a,b)\n",
    "\n",
    "print(c)"
   ]
  },
  {
   "cell_type": "code",
   "execution_count": 13,
   "metadata": {},
   "outputs": [
    {
     "name": "stdout",
     "output_type": "stream",
     "text": [
      "[[10 10]\n",
      " [10 10]]\n"
     ]
    }
   ],
   "source": [
    "d = a // b\n",
    "\n",
    "print(d)"
   ]
  },
  {
   "cell_type": "raw",
   "metadata": {},
   "source": [
    "g) mod()\n",
    "-------------------------------\n",
    "Syntax:-    varname=numpy.mod(ndarray1,ndarry2)\n",
    "=>This function is used for performing element-wise modulo division of ndarrayobj1, ndarrayobj2 and result can be displayed"
   ]
  },
  {
   "cell_type": "code",
   "execution_count": 14,
   "metadata": {},
   "outputs": [
    {
     "name": "stdout",
     "output_type": "stream",
     "text": [
      "[[0 1]\n",
      " [0 0]]\n"
     ]
    }
   ],
   "source": [
    "a = np.array([[11,3],[30,40]])\n",
    "b = np.array([[1,2],[3,4]])\n",
    "\n",
    "#print(a)\n",
    "#print(b)\n",
    "\n",
    "c = np.mod(a,b)\n",
    "\n",
    "print(c)"
   ]
  },
  {
   "cell_type": "code",
   "execution_count": 15,
   "metadata": {},
   "outputs": [
    {
     "name": "stdout",
     "output_type": "stream",
     "text": [
      "[[0 1]\n",
      " [0 0]]\n"
     ]
    }
   ],
   "source": [
    "a = np.array([[11,3],[30,40]])\n",
    "b = np.array([[1,2],[3,4]])\n",
    "\n",
    "\n",
    "c = a % b\n",
    "\n",
    "print(c)"
   ]
  },
  {
   "cell_type": "code",
   "execution_count": null,
   "metadata": {},
   "outputs": [],
   "source": [
    "40 % 4"
   ]
  },
  {
   "cell_type": "code",
   "execution_count": null,
   "metadata": {},
   "outputs": [],
   "source": []
  },
  {
   "cell_type": "raw",
   "metadata": {},
   "source": [
    "h) power():\n",
    "---------------------------------------\n",
    "Syntax:-    varname=numpy.power(ndarray1,ndarry2)\n",
    "=>This function is used for performing element-wise exponential of ndarrayobj1, ndarrayobj2 and result can be displayed"
   ]
  },
  {
   "cell_type": "code",
   "execution_count": 16,
   "metadata": {},
   "outputs": [
    {
     "name": "stdout",
     "output_type": "stream",
     "text": [
      "[[     10     400]\n",
      " [  27000 2560000]]\n"
     ]
    }
   ],
   "source": [
    "a = np.array([[10,20],[30,40]])\n",
    "b = np.array([[1,2],[3,4]])\n",
    " \n",
    "#print(a)\n",
    "#print(b)\n",
    "\n",
    "c = np.power(a,b)\n",
    "\n",
    "print(c)"
   ]
  },
  {
   "cell_type": "code",
   "execution_count": 17,
   "metadata": {},
   "outputs": [
    {
     "name": "stdout",
     "output_type": "stream",
     "text": [
      "[[     10     400]\n",
      " [  27000 2560000]]\n"
     ]
    }
   ],
   "source": [
    "a = np.array([[10,20],[30,40]])\n",
    "b = np.array([[1,2],[3,4]])\n",
    "\n",
    "\n",
    "c = a ** b\n",
    "\n",
    "print(c)"
   ]
  },
  {
   "cell_type": "code",
   "execution_count": null,
   "metadata": {},
   "outputs": [],
   "source": [
    "10**1"
   ]
  },
  {
   "cell_type": "code",
   "execution_count": null,
   "metadata": {},
   "outputs": [],
   "source": [
    "# 20 **2 = 20 * 20\n",
    "\n",
    "#20 ** 2\n",
    "\n",
    "40 * 40 * 40 * 40"
   ]
  },
  {
   "cell_type": "code",
   "execution_count": null,
   "metadata": {},
   "outputs": [],
   "source": [
    "# 30 ** 3 = 30 * 30 * 30"
   ]
  },
  {
   "cell_type": "code",
   "execution_count": null,
   "metadata": {},
   "outputs": [],
   "source": [
    "30 ** 3"
   ]
  },
  {
   "cell_type": "markdown",
   "metadata": {},
   "source": [
    "# 1D, 2D, 3D"
   ]
  },
  {
   "cell_type": "code",
   "execution_count": 23,
   "metadata": {},
   "outputs": [
    {
     "name": "stdout",
     "output_type": "stream",
     "text": [
      "[[34 76 76]\n",
      " [65 76 65]]\n"
     ]
    }
   ],
   "source": [
    "_1d = [54,54,67,766,676]\n",
    "\n",
    "_2d = [[34,76,76],[65,76,65]]\n",
    "\n",
    "_3d = [[[34,23],[435,322]],[[67,86],[76,44]]]\n",
    "\n",
    "\n",
    "#print(_3d, type(_3d))\n",
    "\n",
    "a = np.array(_3d)\n",
    "b = np.array(_2d)\n",
    "\n",
    "\n",
    "#print(a, type(a))\n",
    "\n",
    "\n",
    "print(b)\n"
   ]
  },
  {
   "cell_type": "code",
   "execution_count": null,
   "metadata": {},
   "outputs": [],
   "source": [
    "d.shape"
   ]
  },
  {
   "cell_type": "code",
   "execution_count": null,
   "metadata": {},
   "outputs": [],
   "source": [
    "d = d.reshape(2,4)\n",
    "d"
   ]
  },
  {
   "cell_type": "code",
   "execution_count": null,
   "metadata": {},
   "outputs": [],
   "source": [
    "d.ndim\n"
   ]
  },
  {
   "cell_type": "code",
   "execution_count": null,
   "metadata": {},
   "outputs": [],
   "source": []
  },
  {
   "cell_type": "code",
   "execution_count": null,
   "metadata": {},
   "outputs": [],
   "source": []
  },
  {
   "cell_type": "code",
   "execution_count": null,
   "metadata": {},
   "outputs": [],
   "source": []
  }
 ],
 "metadata": {
  "kernelspec": {
   "display_name": "Python 3",
   "language": "python",
   "name": "python3"
  },
  "language_info": {
   "codemirror_mode": {
    "name": "ipython",
    "version": 3
   },
   "file_extension": ".py",
   "mimetype": "text/x-python",
   "name": "python",
   "nbconvert_exporter": "python",
   "pygments_lexer": "ipython3",
   "version": "3.8.5"
  }
 },
 "nbformat": 4,
 "nbformat_minor": 4
}
