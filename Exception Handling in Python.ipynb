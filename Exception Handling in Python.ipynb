{
 "cells": [
  {
   "cell_type": "markdown",
   "metadata": {},
   "source": [
    "# Exception Handling in Python"
   ]
  },
  {
   "cell_type": "raw",
   "metadata": {},
   "source": [
    "1. To convert Technical Error Messages into User-Freindly Error Messages is called as Exception Handling.\n",
    "2. The purpose of Exception Handling is that \"To Develop Robust(Strong) Applications\"."
   ]
  },
  {
   "cell_type": "code",
   "execution_count": null,
   "metadata": {},
   "outputs": [],
   "source": [
    "we have 3 types of error\n",
    "1. compile time error - wrong syntax or invalid syntax. it will solve in development time by programmer.\n",
    "2. logical error      - wrong logic.it will solve in development time by programmer.\n",
    "3. Runtime error      - invalid input by user. it will solve by end-user"
   ]
  },
  {
   "cell_type": "markdown",
   "metadata": {},
   "source": [
    "# In Python, we have 5 keywords. They are"
   ]
  },
  {
   "cell_type": "raw",
   "metadata": {},
   "source": [
    "In Python, we have 5 keywords. They are\n",
    "\n",
    "\t\t1. try\n",
    "\t\t2. except\n",
    "\t\t3. else\n",
    "\t\t4. finally\n",
    "\t\t5. raise\n",
    "---------------------------------------------------------------------------------------\n",
    "Syntax for Handling Exception\n",
    "-----------------------------------------------------------------------------------------\n",
    "\t\ttry:\n",
    "\t\t      Block of Statements\n",
    "\t\t      generates exceptions\n",
    "\t\texcept exception-class-name-1:\n",
    "\t\t\tBlock of statements\n",
    "\t\t\tgenerates User-Freindly Error Messages\n",
    "\t\texcept exception-class-name-2:\n",
    "\t\t\tBlock of statements\n",
    "\t\t\tgenerates User-Freindly Error Messages\n",
    "\t\t--------------------------------\n",
    "\t\t--------------------------------\n",
    "\t\texcept exception-class-name-n:\n",
    "\t\t\tBlock of statements\n",
    "\t\t\tgenerates User-Freindly Error Messages\n",
    "\t\telse:\n",
    "\t\t      block of statements gives\n",
    "\t\t      Result of the program\n",
    "\t\tfinally:\n",
    "\t\t      block of statements executes\n",
    "\t\t      compulsoriy\n",
    "\n",
    "\t\t     "
   ]
  },
  {
   "cell_type": "code",
   "execution_count": null,
   "metadata": {},
   "outputs": [],
   "source": [
    "import builtins\n",
    "\n",
    "errors_names = dir(builtins)\n",
    "\n",
    "for name in errors_names:\n",
    "    print(name)"
   ]
  },
  {
   "cell_type": "code",
   "execution_count": 2,
   "metadata": {
    "scrolled": false
   },
   "outputs": [
    {
     "name": "stdout",
     "output_type": "stream",
     "text": [
      "Enter First value: r454\n"
     ]
    },
    {
     "ename": "ValueError",
     "evalue": "invalid literal for int() with base 10: 'r454'",
     "output_type": "error",
     "traceback": [
      "\u001b[1;31m---------------------------------------------------------------------------\u001b[0m",
      "\u001b[1;31mValueError\u001b[0m                                Traceback (most recent call last)",
      "Cell \u001b[1;32mIn[2], line 3\u001b[0m\n\u001b[0;32m      1\u001b[0m \u001b[38;5;66;03m#Program for cal Division of Two Numbers\u001b[39;00m\n\u001b[1;32m----> 3\u001b[0m a \u001b[38;5;241m=\u001b[39m \u001b[38;5;28;43mint\u001b[39;49m\u001b[43m(\u001b[49m\u001b[38;5;28;43minput\u001b[39;49m\u001b[43m(\u001b[49m\u001b[38;5;124;43m\"\u001b[39;49m\u001b[38;5;124;43mEnter First value: \u001b[39;49m\u001b[38;5;124;43m\"\u001b[39;49m\u001b[43m)\u001b[49m\u001b[43m)\u001b[49m\n\u001b[0;32m      4\u001b[0m b \u001b[38;5;241m=\u001b[39m \u001b[38;5;28mint\u001b[39m(\u001b[38;5;28minput\u001b[39m(\u001b[38;5;124m\"\u001b[39m\u001b[38;5;124mEnter Second value: \u001b[39m\u001b[38;5;124m\"\u001b[39m))\n\u001b[0;32m      6\u001b[0m c \u001b[38;5;241m=\u001b[39m a\u001b[38;5;241m/\u001b[39mb\n",
      "\u001b[1;31mValueError\u001b[0m: invalid literal for int() with base 10: 'r454'"
     ]
    }
   ],
   "source": [
    "#Program for cal Division of Two Numbers\n",
    "\n",
    "a = int(input(\"Enter First value: \"))\n",
    "b = int(input(\"Enter Second value: \"))\n",
    "\n",
    "c = a/b\n",
    "\n",
    "print(\"result of Div=\",c)"
   ]
  },
  {
   "cell_type": "code",
   "execution_count": null,
   "metadata": {},
   "outputs": [],
   "source": [
    "try:\n",
    "    a = int(input(\"Enter First value: \"))\n",
    "    b = int(input(\"Enter Second value: \"))\n",
    "\n",
    "    c = a/b\n",
    "\n",
    "    print(\"result of Div=\",c)\n",
    "    \n",
    "except ZeroDivisionError:\n",
    "    print(\"can't divided by zero, pls give any other number!!!!!\")\n",
    "except ValueError:\n",
    "    print(\"don't enter string values\")\n",
    "except SyntaxError:\n",
    "    print(\"check the code\")\n"
   ]
  },
  {
   "cell_type": "code",
   "execution_count": null,
   "metadata": {},
   "outputs": [],
   "source": [
    "try:\n",
    "    a = int(input(\"Enter First value: \"))\n",
    "    b = int(input(\"Enter Second value: \"))\n",
    "    c = a/b\n",
    "    print(\"result of Div=\",c)\n",
    "\n",
    "except ZeroDivisionError:\n",
    "    print(\"can't divided by zero, pls give any other number!!!!!!!\")\n"
   ]
  },
  {
   "cell_type": "code",
   "execution_count": null,
   "metadata": {},
   "outputs": [],
   "source": [
    "try:\n",
    "    a = int(input(\"Enter First value: \"))\n",
    "    b = int(input(\"Enter Second value: \"))\n",
    "    c = a/b\n",
    "    print(\"result of Div=\",c)\n",
    "\n",
    "except (ZeroDivisionError,ValueError):\n",
    "    print(\"can't divided by zero, pls give any other number!!!!!!!\")\n",
    "    print(\"Don't put any string value. Pls try to give integer or decimal value!!!!!!\")\n",
    "    print(\"Invalid Input! Please try Again.\")"
   ]
  },
  {
   "cell_type": "code",
   "execution_count": null,
   "metadata": {},
   "outputs": [],
   "source": []
  },
  {
   "cell_type": "code",
   "execution_count": 1,
   "metadata": {},
   "outputs": [
    {
     "name": "stdout",
     "output_type": "stream",
     "text": [
      "Enter First value: 5345\n",
      "Enter Second value: fdsfc\n"
     ]
    }
   ],
   "source": [
    "try:\n",
    "    a = int(input(\"Enter First value: \"))\n",
    "    b = int(input(\"Enter Second value: \"))\n",
    "    c = a/b\n",
    "    print(\"result of Div=\",c)\n",
    "\n",
    "except ZeroDivisionError:\n",
    "    print(\"can't divided by zero, give any other no\")\n",
    "except ValueError:\n",
    "    with open('errorfile.txt', 'w') as file:\n",
    "        file.write(\"Don't put any string type of data . Pls give integer value.\")\n",
    "  "
   ]
  },
  {
   "cell_type": "code",
   "execution_count": 5,
   "metadata": {},
   "outputs": [
    {
     "name": "stdout",
     "output_type": "stream",
     "text": [
      "Enter First value:435\n",
      "Enter Second value:0\n"
     ]
    }
   ],
   "source": [
    "try:\n",
    "    a = int(input(\"Enter First value:\"))\n",
    "    b = int(input(\"Enter Second value:\"))    \n",
    "    c = a/b\n",
    "    print(\"Div=\",c)\n",
    "    \n",
    "except Exception as b:\n",
    "        with open('errorfile1.txt', 'a') as file:\n",
    "            file.write(f\"\\nError occurred: {b}\")\n",
    "    \n",
    "       \n",
    "    "
   ]
  },
  {
   "cell_type": "code",
   "execution_count": null,
   "metadata": {},
   "outputs": [],
   "source": [
    "try:\n",
    "    \n",
    "    s1=input(\"Enter First value:\")\n",
    "    s2=input(\"Enter Second value:\")\n",
    "\n",
    "    #convert s1 and s2 into integer values\n",
    "    a=int(s1) \n",
    "    b=int(s2)\n",
    "    \n",
    "    c = a//b \n",
    "    \n",
    "    print(\"Div=\",c)\n",
    "    \n",
    "    \n",
    "except:\n",
    "    print(\"Don't put zero (0) in denominator. Please try again!!\")\n",
    "    print(\"Don't put string, alphanumeric, symbols\")\n",
    " "
   ]
  },
  {
   "cell_type": "code",
   "execution_count": null,
   "metadata": {
    "scrolled": true
   },
   "outputs": [],
   "source": [
    "#Program for cal Division of Two Numbers\n",
    "try:\n",
    "    print(\"Program execution Strated..\")\n",
    "    s1=input(\"Enter First value:\")\n",
    "    s2=input(\"Enter Second value:\")\n",
    "\n",
    "    #convert s1 and s2 into integer values\n",
    "    a=int(s1) \n",
    "    b=int(s2) \n",
    "    c = a//b  \n",
    "    print(\"Div=\",c)\n",
    "    print(\"\\nProgram execution Ended..\")\n",
    "    \n",
    "except ZeroDivisionError:\n",
    "    print(\"Don't put zero (0) in denominator. Please try again!!\")\n",
    "    \n",
    "except ValueError:\n",
    "    print(\"Don't put string, alphanumeric, symbols\")\n",
    "    \n",
    "except SyntaxError:\n",
    "    print(\"sddsesee\")\n",
    " \n",
    "    "
   ]
  },
  {
   "cell_type": "code",
   "execution_count": null,
   "metadata": {},
   "outputs": [],
   "source": [
    "a = int(input(\"Enter First value:\"))\n",
    "b = int(input(\"Enter Second value:\"))    \n",
    "c = a/b\n",
    "print(\"Div=\",c)"
   ]
  },
  {
   "cell_type": "markdown",
   "metadata": {},
   "source": [
    "# else"
   ]
  },
  {
   "cell_type": "code",
   "execution_count": 7,
   "metadata": {},
   "outputs": [
    {
     "name": "stdout",
     "output_type": "stream",
     "text": [
      "i am in try block\n",
      "\n",
      "Enter First value:345\n",
      "Enter Second value:654\n",
      "\n",
      "---I am from Else Block---\n",
      "result of Div= 0.5275229357798165\n"
     ]
    }
   ],
   "source": [
    "#Program for cal Division of Two Numbers\n",
    "\n",
    "\n",
    "try:\n",
    "    print(\"i am in try block\")\n",
    "    s1=input(\"\\nEnter First value:\")\n",
    "    s2=input(\"Enter Second value:\")\n",
    "    \n",
    "    #convert s1 and s2 into integer values\n",
    "    a=int(s1) \n",
    "    b=int(s2) \n",
    "    c=a/b  \n",
    "    \n",
    "except ZeroDivisionError:\n",
    "    print(\"DON't ENTER ZERO For Denominator....\")\n",
    "except ValueError:\n",
    "    print(\"Don't put string, alphanumeric, symbols\")\n",
    "else:\n",
    "    print(\"\\n---I am from Else Block---\")\n",
    "    print(\"result of Div=\",c)"
   ]
  },
  {
   "cell_type": "code",
   "execution_count": null,
   "metadata": {},
   "outputs": [],
   "source": [
    "#Program for cal Division of Two Numbers\n",
    "\n",
    "\n",
    "try:\n",
    "    print(\"i am in try block\")\n",
    "    s1=input(\"\\nEnter First value:\")\n",
    "    s2=input(\"Enter Second value:\")\n",
    "    \n",
    "    #convert s1 and s2 into integer values\n",
    "    a=int(s1) \n",
    "    b=int(s2) \n",
    "    c=a/b \n",
    "    print(\"result of Div=\",c)\n",
    "    \n",
    "except ZeroDivisionError:\n",
    "    print(\"DON't ENTER ZERO For Denominator....\")\n",
    "except ValueError:\n",
    "    print(\"Don't put string, alphanumeric, symbols\")\n",
    "else:\n",
    "    print(\"\\n---I am from Else Block---\")\n",
    "    "
   ]
  },
  {
   "cell_type": "markdown",
   "metadata": {},
   "source": [
    "# finally"
   ]
  },
  {
   "cell_type": "code",
   "execution_count": 9,
   "metadata": {},
   "outputs": [
    {
     "name": "stdout",
     "output_type": "stream",
     "text": [
      "i am in try block\n",
      "\n",
      "Enter First value:34535\n",
      "Enter Second value:0\n",
      "DON't ENTER ZERO For Denominator....\n",
      "\n",
      "I am from finally block.....\n",
      "Thanks for visting!!!\n"
     ]
    }
   ],
   "source": [
    "#Program for cal Division of Two Numbers\n",
    "\n",
    "\n",
    "try:\n",
    "    print(\"i am in try block\")\n",
    "    s1 = int(input(\"\\nEnter First value:\"))\n",
    "    s2 = int(input(\"Enter Second value:\"))\n",
    "    \n",
    "    c = a/b  \n",
    "    \n",
    "except ZeroDivisionError:\n",
    "    print(\"DON't ENTER ZERO For Denominator....\")\n",
    "except ValueError:\n",
    "    print(\"DON't Enter alnums, strs and symbols\")\n",
    "else:\n",
    "    print(\"\\n---I am from Else Block---\")\n",
    "    print(\"result of Div=\",c)\n",
    "finally:    #(optional)\n",
    "    print(\"\\nI am from finally block.....\")\n",
    "    print(\"Thanks for visting!!!\")\n"
   ]
  },
  {
   "cell_type": "markdown",
   "metadata": {},
   "source": [
    "# Multiple exception handling block"
   ]
  },
  {
   "cell_type": "code",
   "execution_count": null,
   "metadata": {},
   "outputs": [],
   "source": [
    "#Program for cal Division of Two Numbers\n",
    "\n",
    "print(\"Program execution Strated..\")\n",
    "try:\n",
    "    print(\"i am in try block\")\n",
    "    s1=input(\"\\nEnter First value:\")\n",
    "    s2=input(\"Enter Second value:\")\n",
    "    \n",
    "    #convert s1 and s2 into integer values\n",
    "    a=int(s1)\n",
    "    b=int(s2)\n",
    "    c=a/b \n",
    "except: # Multiple exception handling block\n",
    "    print(\"DON't ENTER ZERO For Den....\")\n",
    "    print(\"DON't Enter alnums, strs and symbols\")\n",
    "else:\n",
    "    print(\"\\n---I am from Else Block---\")\n",
    "    print(\"Div=\",c)\n",
    "finally:\n",
    "    print(\"i am finally block\")\n"
   ]
  },
  {
   "cell_type": "markdown",
   "metadata": {},
   "source": [
    "# raise"
   ]
  },
  {
   "cell_type": "raw",
   "metadata": {},
   "source": [
    "The raise keyword is used to raise an exception.\n",
    "\n",
    "You can define what kind of error to raise, and the text to print to the user."
   ]
  },
  {
   "cell_type": "code",
   "execution_count": 12,
   "metadata": {},
   "outputs": [
    {
     "name": "stdout",
     "output_type": "stream",
     "text": [
      "Enter a positive number: -4\n",
      "value of n is :  -4\n"
     ]
    },
    {
     "ename": "NameError",
     "evalue": "Don't give negative numberrrrrrrrrrrr...",
     "output_type": "error",
     "traceback": [
      "\u001b[1;31m---------------------------------------------------------------------------\u001b[0m",
      "\u001b[1;31mNameError\u001b[0m                                 Traceback (most recent call last)",
      "Cell \u001b[1;32mIn[12], line 5\u001b[0m\n\u001b[0;32m      3\u001b[0m \u001b[38;5;28;01mif\u001b[39;00m n \u001b[38;5;241m<\u001b[39m\u001b[38;5;241m=\u001b[39m \u001b[38;5;241m0\u001b[39m:\n\u001b[0;32m      4\u001b[0m     \u001b[38;5;28mprint\u001b[39m(\u001b[38;5;124m\"\u001b[39m\u001b[38;5;124mvalue of n is : \u001b[39m\u001b[38;5;124m\"\u001b[39m,n)\n\u001b[1;32m----> 5\u001b[0m     \u001b[38;5;28;01mraise\u001b[39;00m \u001b[38;5;167;01mNameError\u001b[39;00m(\u001b[38;5;124m\"\u001b[39m\u001b[38;5;124mDon\u001b[39m\u001b[38;5;124m'\u001b[39m\u001b[38;5;124mt give negative numberrrrrrrrrrrr...\u001b[39m\u001b[38;5;124m\"\u001b[39m)\n",
      "\u001b[1;31mNameError\u001b[0m: Don't give negative numberrrrrrrrrrrr..."
     ]
    }
   ],
   "source": [
    "n = int(input(\"Enter a positive number: \"))\n",
    "\n",
    "if n <= 0:\n",
    "    print(\"value of n is : \",n)\n",
    "    raise NameError(\"Don't give negative numberrrrrrrrrrrr...\")"
   ]
  },
  {
   "cell_type": "code",
   "execution_count": null,
   "metadata": {},
   "outputs": [],
   "source": [
    "10/0"
   ]
  },
  {
   "cell_type": "code",
   "execution_count": null,
   "metadata": {},
   "outputs": [],
   "source": [
    "n = int(input(\"Enter a positive number: \"))\n",
    "\n",
    "if n <= 0:\n",
    "    print(\"value of n is : \",n)\n",
    "    raise ZeroDivisionError(\"Don't give negative numberrrrrrrrrrrr!!!!!...\")"
   ]
  },
  {
   "cell_type": "code",
   "execution_count": null,
   "metadata": {},
   "outputs": [],
   "source": [
    "x = \"hello\"\n",
    "\n",
    "if not type(x) is int:\n",
    "    #print(\"das\")\n",
    "    raise SyntaxError(\"Only integers are allowed.......\")\n",
    "else:\n",
    "    print(\"PYTHON\")"
   ]
  },
  {
   "cell_type": "code",
   "execution_count": null,
   "metadata": {},
   "outputs": [],
   "source": [
    "x = \"hh\"\n",
    "\n",
    "if not type(x) is int:\n",
    "    raise ValueError(\"Only integers are allowed......\")"
   ]
  },
  {
   "cell_type": "code",
   "execution_count": null,
   "metadata": {},
   "outputs": [],
   "source": [
    "def division(a,b):\n",
    "    try:\n",
    "        c = a/b\n",
    "    except ZeroDivisionError:\n",
    "        print(\"Don't give zero in dem....\")  \n",
    "    except TypeError:\n",
    "        print(\"Don't enter character, enter only numbers\")\n",
    "    else:\n",
    "        print(c)\n",
    "    finally:\n",
    "        print(\"Thanks for perform\")\n"
   ]
  },
  {
   "cell_type": "code",
   "execution_count": null,
   "metadata": {},
   "outputs": [],
   "source": [
    "division(100,1)"
   ]
  },
  {
   "cell_type": "code",
   "execution_count": null,
   "metadata": {},
   "outputs": [],
   "source": [
    "division(10,\"hhfg\")\n"
   ]
  },
  {
   "cell_type": "code",
   "execution_count": null,
   "metadata": {},
   "outputs": [],
   "source": [
    "division(10,0)\n"
   ]
  },
  {
   "cell_type": "code",
   "execution_count": null,
   "metadata": {},
   "outputs": [],
   "source": [
    "division(10,0)"
   ]
  },
  {
   "cell_type": "code",
   "execution_count": null,
   "metadata": {},
   "outputs": [],
   "source": [
    "34sd= 20"
   ]
  },
  {
   "cell_type": "code",
   "execution_count": null,
   "metadata": {},
   "outputs": [],
   "source": []
  },
  {
   "cell_type": "code",
   "execution_count": null,
   "metadata": {},
   "outputs": [],
   "source": []
  },
  {
   "cell_type": "code",
   "execution_count": null,
   "metadata": {},
   "outputs": [],
   "source": []
  }
 ],
 "metadata": {
  "kernelspec": {
   "display_name": "Python 3",
   "language": "python",
   "name": "python3"
  },
  "language_info": {
   "codemirror_mode": {
    "name": "ipython",
    "version": 3
   },
   "file_extension": ".py",
   "mimetype": "text/x-python",
   "name": "python",
   "nbconvert_exporter": "python",
   "pygments_lexer": "ipython3",
   "version": "3.8.5"
  }
 },
 "nbformat": 4,
 "nbformat_minor": 5
}
