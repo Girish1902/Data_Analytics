{
 "cells": [
  {
   "cell_type": "markdown",
   "id": "c86f8ef6",
   "metadata": {},
   "source": [
    "# What is python"
   ]
  },
  {
   "cell_type": "raw",
   "id": "bca14c31",
   "metadata": {},
   "source": [
    "Python is one of the General purpose programming language.\n",
    "python developed by \"Guido Van Rossum\" and officially released in 1991 feb 20."
   ]
  },
  {
   "cell_type": "markdown",
   "id": "972ce784",
   "metadata": {},
   "source": [
    "# Where can we use Python?"
   ]
  },
  {
   "cell_type": "raw",
   "id": "fafa771e",
   "metadata": {},
   "source": [
    "# 1. Web application development\n",
    "2. Gaming application\n",
    "3. Data science\n",
    "4. data analyst\n",
    "5. AI Application\n",
    "6. Automation & testing\n",
    ".\n",
    ".\n",
    ". etc"
   ]
  },
  {
   "cell_type": "markdown",
   "id": "0382d188",
   "metadata": {},
   "source": [
    "# What is the features in Python?"
   ]
  },
  {
   "cell_type": "raw",
   "id": "786973ce",
   "metadata": {},
   "source": [
    "1. simple & easy to learn\n",
    "2. open source\n",
    "3. platform independent lang\n",
    "4. Dynamically type language\n",
    "5. supports third party libraries (numpy, pandas, seaborn.... etc)"
   ]
  },
  {
   "cell_type": "code",
   "execution_count": null,
   "id": "e23ef328",
   "metadata": {},
   "outputs": [],
   "source": []
  },
  {
   "cell_type": "markdown",
   "id": "2ca7f388",
   "metadata": {},
   "source": [
    "# Comments"
   ]
  },
  {
   "cell_type": "raw",
   "id": "0250aa9c",
   "metadata": {},
   "source": [
    "#single line comment\n",
    "\n",
    "# python program 1"
   ]
  },
  {
   "cell_type": "code",
   "execution_count": null,
   "id": "c2373532",
   "metadata": {},
   "outputs": [],
   "source": [
    "#python first program\n",
    "\n",
    "# program 2\n",
    "# progar 3"
   ]
  },
  {
   "cell_type": "code",
   "execution_count": null,
   "id": "47e85185",
   "metadata": {},
   "outputs": [],
   "source": [
    "#mutli line comments\n",
    "\n",
    "\"\"\"\n",
    "my python\n",
    "fwrrefer\n",
    "fweferf\n",
    "rfr\n",
    "rferferfer\n",
    "ferferfe\n",
    "\n",
    "\"\"\"\n",
    "\n",
    "\n",
    "'''\n",
    "welcome \n",
    "to python\n",
    "\n",
    "'''\n"
   ]
  },
  {
   "cell_type": "code",
   "execution_count": null,
   "id": "da126184",
   "metadata": {},
   "outputs": [],
   "source": []
  },
  {
   "cell_type": "markdown",
   "id": "520b484f",
   "metadata": {},
   "source": [
    "# variable"
   ]
  },
  {
   "cell_type": "raw",
   "id": "1a49d604",
   "metadata": {},
   "source": [
    "variable is like a container, which stores some values."
   ]
  },
  {
   "cell_type": "markdown",
   "id": "77c2f608",
   "metadata": {},
   "source": [
    "# rules for creating variable"
   ]
  },
  {
   "cell_type": "raw",
   "id": "3efee971",
   "metadata": {},
   "source": [
    "1. a variable name is a combination of alphabets, digits, and a special symbol called underscore(_)."
   ]
  },
  {
   "cell_type": "raw",
   "id": "aedee4ff",
   "metadata": {},
   "source": [
    "2. The first letter of variable name must starts with an alphabet or underscore(_) symbol."
   ]
  },
  {
   "cell_type": "raw",
   "id": "5138d776",
   "metadata": {},
   "source": [
    "3. in symbols, we can use only underscore(_) symbol."
   ]
  },
  {
   "cell_type": "raw",
   "id": "1e2f2198",
   "metadata": {},
   "source": [
    "4. we can't use keywords for creating variable"
   ]
  },
  {
   "cell_type": "raw",
   "id": "8da11636",
   "metadata": {},
   "source": [
    "5. all variable names are case sensitive"
   ]
  },
  {
   "cell_type": "code",
   "execution_count": 9,
   "id": "554d28d6",
   "metadata": {},
   "outputs": [],
   "source": [
    "# Case Sensitive\n",
    "\n",
    "a = 10\n",
    "\n",
    "A = 20"
   ]
  },
  {
   "cell_type": "code",
   "execution_count": 11,
   "id": "23fc3e78",
   "metadata": {},
   "outputs": [
    {
     "name": "stdout",
     "output_type": "stream",
     "text": [
      "20\n"
     ]
    },
    {
     "data": {
      "text/plain": [
       "10"
      ]
     },
     "execution_count": 11,
     "metadata": {},
     "output_type": "execute_result"
    }
   ],
   "source": [
    "print(A)\n",
    "a"
   ]
  },
  {
   "cell_type": "code",
   "execution_count": 6,
   "id": "1b60f921-a738-4cd9-a10a-b81d379a796f",
   "metadata": {},
   "outputs": [],
   "source": [
    "a1=10"
   ]
  },
  {
   "cell_type": "code",
   "execution_count": 7,
   "id": "b1cb90c8-f8fc-4a4e-94ac-08572e97cc54",
   "metadata": {},
   "outputs": [
    {
     "ename": "SyntaxError",
     "evalue": "invalid syntax (3963200833.py, line 1)",
     "output_type": "error",
     "traceback": [
      "\u001b[1;36m  Cell \u001b[1;32mIn[7], line 1\u001b[1;36m\u001b[0m\n\u001b[1;33m    if=10\u001b[0m\n\u001b[1;37m      ^\u001b[0m\n\u001b[1;31mSyntaxError\u001b[0m\u001b[1;31m:\u001b[0m invalid syntax\n"
     ]
    }
   ],
   "source": [
    "if=10"
   ]
  },
  {
   "cell_type": "code",
   "execution_count": 4,
   "id": "d07e6440",
   "metadata": {},
   "outputs": [
    {
     "ename": "NameError",
     "evalue": "name 'ab' is not defined",
     "output_type": "error",
     "traceback": [
      "\u001b[1;31m---------------------------------------------------------------------------\u001b[0m",
      "\u001b[1;31mNameError\u001b[0m                                 Traceback (most recent call last)",
      "Cell \u001b[1;32mIn[4], line 4\u001b[0m\n\u001b[0;32m      1\u001b[0m \u001b[38;5;66;03m# name 'a1_' is not defined -  variable is not created\u001b[39;00m\n\u001b[1;32m----> 4\u001b[0m \u001b[38;5;28mprint\u001b[39m(\u001b[43mab\u001b[49m)\n",
      "\u001b[1;31mNameError\u001b[0m: name 'ab' is not defined"
     ]
    }
   ],
   "source": [
    "# name 'a1_' is not defined -  variable is not created\n",
    "\n",
    "\n",
    "print(ab)"
   ]
  },
  {
   "cell_type": "code",
   "execution_count": null,
   "id": "ef68efda",
   "metadata": {},
   "outputs": [],
   "source": [
    "a = 10\n",
    "a"
   ]
  },
  {
   "cell_type": "code",
   "execution_count": 6,
   "id": "52e946b0",
   "metadata": {},
   "outputs": [
    {
     "name": "stdout",
     "output_type": "stream",
     "text": [
      "5\n"
     ]
    }
   ],
   "source": [
    "_a = 5\n",
    "print(_a)"
   ]
  },
  {
   "cell_type": "code",
   "execution_count": 7,
   "id": "d8589ef9",
   "metadata": {},
   "outputs": [
    {
     "ename": "SyntaxError",
     "evalue": "invalid syntax (<ipython-input-7-aae449af19ca>, line 1)",
     "output_type": "error",
     "traceback": [
      "\u001b[1;36m  Cell \u001b[1;32mIn[7], line 1\u001b[1;36m\u001b[0m\n\u001b[1;33m    7gfgf = 7\u001b[0m\n\u001b[1;37m     ^\u001b[0m\n\u001b[1;31mSyntaxError\u001b[0m\u001b[1;31m:\u001b[0m invalid syntax\n"
     ]
    }
   ],
   "source": [
    "7gfgf = 7\n"
   ]
  },
  {
   "cell_type": "code",
   "execution_count": 9,
   "id": "0f2b4caf",
   "metadata": {},
   "outputs": [
    {
     "ename": "SyntaxError",
     "evalue": "invalid syntax (<ipython-input-9-597287a2d762>, line 1)",
     "output_type": "error",
     "traceback": [
      "\u001b[1;36m  Cell \u001b[1;32mIn[9], line 1\u001b[1;36m\u001b[0m\n\u001b[1;33m    for = 10\u001b[0m\n\u001b[1;37m        ^\u001b[0m\n\u001b[1;31mSyntaxError\u001b[0m\u001b[1;31m:\u001b[0m invalid syntax\n"
     ]
    }
   ],
   "source": [
    "for = 10"
   ]
  },
  {
   "cell_type": "code",
   "execution_count": 10,
   "id": "9d857599",
   "metadata": {},
   "outputs": [
    {
     "ename": "SyntaxError",
     "evalue": "invalid syntax (<ipython-input-10-0c9278ef1989>, line 1)",
     "output_type": "error",
     "traceback": [
      "\u001b[1;36m  Cell \u001b[1;32mIn[10], line 1\u001b[1;36m\u001b[0m\n\u001b[1;33m    else = 23\u001b[0m\n\u001b[1;37m    ^\u001b[0m\n\u001b[1;31mSyntaxError\u001b[0m\u001b[1;31m:\u001b[0m invalid syntax\n"
     ]
    }
   ],
   "source": [
    "else = 23"
   ]
  },
  {
   "cell_type": "code",
   "execution_count": null,
   "id": "e050ce13",
   "metadata": {},
   "outputs": [],
   "source": [
    "a=10"
   ]
  },
  {
   "cell_type": "code",
   "execution_count": null,
   "id": "ff9ade99",
   "metadata": {},
   "outputs": [],
   "source": [
    "print(a)"
   ]
  },
  {
   "cell_type": "code",
   "execution_count": null,
   "id": "8e7fccf1",
   "metadata": {},
   "outputs": [],
   "source": [
    "print(A)"
   ]
  },
  {
   "cell_type": "code",
   "execution_count": 18,
   "id": "9626bd3c",
   "metadata": {},
   "outputs": [
    {
     "name": "stdout",
     "output_type": "stream",
     "text": [
      "140712565942048\n",
      "140712565942080\n"
     ]
    }
   ],
   "source": [
    "# ID \n",
    "\n",
    "a = 1\n",
    "b = 2\n",
    "\n",
    "#print(a)\n",
    "\n",
    "# id() - to check the id of any variable\n",
    "\n",
    "print(id(a))\n",
    "print(id(b))"
   ]
  },
  {
   "cell_type": "code",
   "execution_count": null,
   "id": "66df852f",
   "metadata": {},
   "outputs": [],
   "source": []
  },
  {
   "cell_type": "markdown",
   "id": "9504cad4",
   "metadata": {},
   "source": [
    "# Data types"
   ]
  },
  {
   "cell_type": "raw",
   "id": "6e5a106d",
   "metadata": {},
   "source": [
    "In python.\n",
    "\n",
    "1. int\n",
    "2. float\n",
    "3. bool\n",
    "4. str\n",
    "5. range\n",
    "\n",
    "collections data type\n",
    "\n",
    "6. list\n",
    "7. tuple\n",
    "8. dict\n",
    "9. set\n",
    "10.frozenset\n",
    "11.None"
   ]
  },
  {
   "cell_type": "markdown",
   "id": "5238a0d9",
   "metadata": {},
   "source": [
    "# int"
   ]
  },
  {
   "cell_type": "code",
   "execution_count": 21,
   "id": "9cd1f47b",
   "metadata": {},
   "outputs": [
    {
     "name": "stdout",
     "output_type": "stream",
     "text": [
      "<class 'int'>\n"
     ]
    }
   ],
   "source": [
    "a = 756\n",
    "b = 20\n",
    "\n",
    "# type() - to check the datatype of any variable\n",
    "\n",
    "print(type(a))\n",
    "\n",
    "#print(a)"
   ]
  },
  {
   "cell_type": "markdown",
   "id": "37e3855c",
   "metadata": {},
   "source": [
    "# float"
   ]
  },
  {
   "cell_type": "code",
   "execution_count": 22,
   "id": "26c7d2d9",
   "metadata": {},
   "outputs": [
    {
     "name": "stdout",
     "output_type": "stream",
     "text": [
      "<class 'float'>\n"
     ]
    }
   ],
   "source": [
    "a = 10.25\n",
    "\n",
    "print(type(a))"
   ]
  },
  {
   "cell_type": "markdown",
   "id": "75c4d26c",
   "metadata": {},
   "source": [
    "# bool"
   ]
  },
  {
   "cell_type": "raw",
   "id": "0f5a18a7",
   "metadata": {},
   "source": [
    "To store True & False value\n",
    "Internally True=1, False =0."
   ]
  },
  {
   "cell_type": "code",
   "execution_count": 12,
   "id": "efb4784f",
   "metadata": {},
   "outputs": [
    {
     "name": "stdout",
     "output_type": "stream",
     "text": [
      "<class 'bool'>\n"
     ]
    },
    {
     "data": {
      "text/plain": [
       "True"
      ]
     },
     "execution_count": 12,
     "metadata": {},
     "output_type": "execute_result"
    }
   ],
   "source": [
    "a = True  #internally True = 1\n",
    "\n",
    "\n",
    "print(type(a))\n",
    "a"
   ]
  },
  {
   "cell_type": "code",
   "execution_count": 26,
   "id": "37134b6c",
   "metadata": {},
   "outputs": [
    {
     "name": "stdout",
     "output_type": "stream",
     "text": [
      "<class 'bool'>\n"
     ]
    }
   ],
   "source": [
    "b = False    #internally False=0\n",
    "\n",
    "print(type(b))"
   ]
  },
  {
   "cell_type": "code",
   "execution_count": 25,
   "id": "475fd82d",
   "metadata": {
    "scrolled": true
   },
   "outputs": [
    {
     "ename": "NameError",
     "evalue": "name 'true' is not defined",
     "output_type": "error",
     "traceback": [
      "\u001b[1;31m---------------------------------------------------------------------------\u001b[0m",
      "\u001b[1;31mNameError\u001b[0m                                 Traceback (most recent call last)",
      "Cell \u001b[1;32mIn[25], line 1\u001b[0m\n\u001b[1;32m----> 1\u001b[0m c \u001b[38;5;241m=\u001b[39m \u001b[43mtrue\u001b[49m\n\u001b[0;32m      4\u001b[0m \u001b[38;5;28mtype\u001b[39m(c)\n",
      "\u001b[1;31mNameError\u001b[0m: name 'true' is not defined"
     ]
    }
   ],
   "source": [
    "c = true\n",
    "\n",
    "\n",
    "type(c)"
   ]
  },
  {
   "cell_type": "code",
   "execution_count": 27,
   "id": "cfa22104",
   "metadata": {},
   "outputs": [
    {
     "name": "stdout",
     "output_type": "stream",
     "text": [
      "1\n"
     ]
    }
   ],
   "source": [
    "print(a+b)"
   ]
  },
  {
   "cell_type": "code",
   "execution_count": 28,
   "id": "450034e2",
   "metadata": {
    "scrolled": true
   },
   "outputs": [
    {
     "data": {
      "text/plain": [
       "2"
      ]
     },
     "execution_count": 28,
     "metadata": {},
     "output_type": "execute_result"
    }
   ],
   "source": [
    "a+a  #1+1\n"
   ]
  },
  {
   "cell_type": "code",
   "execution_count": 29,
   "id": "97641ec8",
   "metadata": {},
   "outputs": [
    {
     "data": {
      "text/plain": [
       "0"
      ]
     },
     "execution_count": 29,
     "metadata": {},
     "output_type": "execute_result"
    }
   ],
   "source": [
    "b+b  #0+0"
   ]
  },
  {
   "cell_type": "markdown",
   "id": "dfc15d30",
   "metadata": {},
   "source": [
    "# str"
   ]
  },
  {
   "cell_type": "raw",
   "id": "62014e68",
   "metadata": {},
   "source": [
    "To store string data, text data, alphanumeric data, numeric data, any type data within \n",
    "single quotes, \n",
    "double qoutes, \n",
    "triple single quotes and \n",
    "triple double qoutes."
   ]
  },
  {
   "cell_type": "code",
   "execution_count": 31,
   "id": "d7b9cbbe",
   "metadata": {},
   "outputs": [
    {
     "name": "stdout",
     "output_type": "stream",
     "text": [
      "<class 'str'>\n"
     ]
    }
   ],
   "source": [
    "a = 'python6668^&*%^&'\n",
    "\n",
    "print(type(a))"
   ]
  },
  {
   "cell_type": "code",
   "execution_count": 14,
   "id": "94641738-90ff-49f0-ab36-5399dca8c920",
   "metadata": {},
   "outputs": [],
   "source": [
    "a='pajdi'"
   ]
  },
  {
   "cell_type": "code",
   "execution_count": null,
   "id": "c9423622-ccac-416f-bc99-d492be5297fa",
   "metadata": {},
   "outputs": [],
   "source": []
  },
  {
   "cell_type": "code",
   "execution_count": 32,
   "id": "5d8392ad",
   "metadata": {},
   "outputs": [
    {
     "name": "stdout",
     "output_type": "stream",
     "text": [
      "python <class 'str'>\n"
     ]
    }
   ],
   "source": [
    "a = \"python\"\n",
    "\n",
    "print(a, type(a))"
   ]
  },
  {
   "cell_type": "code",
   "execution_count": 33,
   "id": "67a5319f",
   "metadata": {},
   "outputs": [
    {
     "name": "stdout",
     "output_type": "stream",
     "text": [
      "python <class 'str'>\n"
     ]
    }
   ],
   "source": [
    "a = '''python'''\n",
    "\n",
    "print(a, type(a))"
   ]
  },
  {
   "cell_type": "code",
   "execution_count": 15,
   "id": "f5c8efc8",
   "metadata": {},
   "outputs": [
    {
     "name": "stdout",
     "output_type": "stream",
     "text": [
      "python <class 'str'>\n"
     ]
    }
   ],
   "source": [
    "a = \"\"\"python\"\"\"\n",
    "print(a, type(a))\n"
   ]
  },
  {
   "cell_type": "code",
   "execution_count": null,
   "id": "5048f686",
   "metadata": {},
   "outputs": [],
   "source": [
    "In python, we have two types of string data\n",
    "\n",
    "        1. single line string data\n",
    "        2. multi line string data"
   ]
  },
  {
   "cell_type": "code",
   "execution_count": 35,
   "id": "1e634aa8",
   "metadata": {},
   "outputs": [
    {
     "ename": "SyntaxError",
     "evalue": "EOL while scanning string literal (<ipython-input-35-fb5e984b0ca4>, line 1)",
     "output_type": "error",
     "traceback": [
      "\u001b[1;36m  Cell \u001b[1;32mIn[35], line 1\u001b[1;36m\u001b[0m\n\u001b[1;33m    a = 'welcome\u001b[0m\n\u001b[1;37m                ^\u001b[0m\n\u001b[1;31mSyntaxError\u001b[0m\u001b[1;31m:\u001b[0m EOL while scanning string literal\n"
     ]
    }
   ],
   "source": [
    "a = 'welcome\n",
    "to\n",
    "python \n",
    "programming\n",
    "world'\n",
    "\n",
    "print(type(a))"
   ]
  },
  {
   "cell_type": "code",
   "execution_count": 36,
   "id": "eb1b4e2e",
   "metadata": {
    "scrolled": true
   },
   "outputs": [
    {
     "ename": "SyntaxError",
     "evalue": "EOL while scanning string literal (<ipython-input-36-8270d7cd8c22>, line 1)",
     "output_type": "error",
     "traceback": [
      "\u001b[1;36m  Cell \u001b[1;32mIn[36], line 1\u001b[1;36m\u001b[0m\n\u001b[1;33m    a= \"welcome\u001b[0m\n\u001b[1;37m               ^\u001b[0m\n\u001b[1;31mSyntaxError\u001b[0m\u001b[1;31m:\u001b[0m EOL while scanning string literal\n"
     ]
    }
   ],
   "source": [
    "a= \"welcome\n",
    "to\n",
    "python \n",
    "programming\n",
    "world\"\n",
    "\n",
    "print(a, type(a))"
   ]
  },
  {
   "cell_type": "code",
   "execution_count": null,
   "id": "2eebfcb4-3818-45e3-a3c7-f2adfb0c58e7",
   "metadata": {},
   "outputs": [],
   "source": []
  },
  {
   "cell_type": "code",
   "execution_count": 37,
   "id": "d9c7eb65",
   "metadata": {},
   "outputs": [
    {
     "name": "stdout",
     "output_type": "stream",
     "text": [
      "<class 'str'>\n",
      "welcome\n",
      "to\n",
      "python \n",
      "programming\n",
      "world\n"
     ]
    }
   ],
   "source": [
    "a= '''welcome\n",
    "to\n",
    "python \n",
    "programming\n",
    "world'''\n",
    "print(type(a))\n",
    "\n",
    "print(a)"
   ]
  },
  {
   "cell_type": "code",
   "execution_count": 19,
   "id": "885e2e89",
   "metadata": {},
   "outputs": [
    {
     "name": "stdout",
     "output_type": "stream",
     "text": [
      "welcome\n",
      "to\n",
      "python \n",
      "programming\n",
      "world <class 'str'>\n"
     ]
    }
   ],
   "source": [
    "a= \"\"\"welcome\n",
    "to\n",
    "python \n",
    "programming\n",
    "world\"\"\"\n",
    "print(a, type(a))"
   ]
  },
  {
   "cell_type": "code",
   "execution_count": null,
   "id": "a45a4e98",
   "metadata": {},
   "outputs": [],
   "source": [
    "print(a,type(a))"
   ]
  },
  {
   "cell_type": "markdown",
   "id": "098ac0a6",
   "metadata": {},
   "source": [
    "# type casting"
   ]
  },
  {
   "cell_type": "raw",
   "id": "1f862699",
   "metadata": {},
   "source": [
    "convert from one data type to another data type"
   ]
  },
  {
   "cell_type": "code",
   "execution_count": 39,
   "id": "3d9a096b",
   "metadata": {},
   "outputs": [
    {
     "name": "stdout",
     "output_type": "stream",
     "text": [
      "10 <class 'int'>\n"
     ]
    }
   ],
   "source": [
    "a = 10\n",
    "\n",
    "print(a,type(a))"
   ]
  },
  {
   "cell_type": "code",
   "execution_count": 40,
   "id": "72f3d9fe",
   "metadata": {},
   "outputs": [
    {
     "name": "stdout",
     "output_type": "stream",
     "text": [
      "10.0 <class 'float'>\n"
     ]
    }
   ],
   "source": [
    "# convert integer to float\n",
    "\n",
    "a = float(a)\n",
    "\n",
    "print(a,type(a))"
   ]
  },
  {
   "cell_type": "code",
   "execution_count": null,
   "id": "1f0ff75b",
   "metadata": {},
   "outputs": [],
   "source": [
    "#convert integer to bool"
   ]
  },
  {
   "cell_type": "code",
   "execution_count": 22,
   "id": "f77c3b7b",
   "metadata": {},
   "outputs": [
    {
     "name": "stdout",
     "output_type": "stream",
     "text": [
      "0 <class 'int'>\n",
      "value is 0\n"
     ]
    },
    {
     "data": {
      "text/plain": [
       "0"
      ]
     },
     "execution_count": 22,
     "metadata": {},
     "output_type": "execute_result"
    }
   ],
   "source": [
    "a = 0\n",
    "a\n",
    "print(a, type(a))\n",
    "print('value is 0')\n",
    "a"
   ]
  },
  {
   "cell_type": "code",
   "execution_count": 48,
   "id": "9c8e9117",
   "metadata": {},
   "outputs": [
    {
     "name": "stdout",
     "output_type": "stream",
     "text": [
      "False <class 'bool'>\n"
     ]
    }
   ],
   "source": [
    "b = bool(a)\n",
    "\n",
    "print(b,type(b))"
   ]
  },
  {
   "cell_type": "code",
   "execution_count": null,
   "id": "b670b11c",
   "metadata": {},
   "outputs": [],
   "source": [
    "#int to str"
   ]
  },
  {
   "cell_type": "code",
   "execution_count": 49,
   "id": "6e6e9f4a",
   "metadata": {},
   "outputs": [
    {
     "name": "stdout",
     "output_type": "stream",
     "text": [
      "10\n",
      "<class 'str'>\n"
     ]
    }
   ],
   "source": [
    "a= 10\n",
    "\n",
    "b = str(a)\n",
    "\n",
    "print(b)\n",
    "\n",
    "\n",
    "print(type(b))"
   ]
  },
  {
   "cell_type": "code",
   "execution_count": 50,
   "id": "04c1376c",
   "metadata": {},
   "outputs": [
    {
     "data": {
      "text/plain": [
       "'10'"
      ]
     },
     "execution_count": 50,
     "metadata": {},
     "output_type": "execute_result"
    }
   ],
   "source": [
    "b"
   ]
  },
  {
   "cell_type": "code",
   "execution_count": null,
   "id": "c86c6e1a",
   "metadata": {},
   "outputs": [],
   "source": [
    "#float to other data types"
   ]
  },
  {
   "cell_type": "code",
   "execution_count": 51,
   "id": "b7010084",
   "metadata": {},
   "outputs": [
    {
     "name": "stdout",
     "output_type": "stream",
     "text": [
      "10.9 <class 'float'>\n"
     ]
    }
   ],
   "source": [
    "a = 10.90\n",
    "\n",
    "print(a, type(a))"
   ]
  },
  {
   "cell_type": "code",
   "execution_count": 52,
   "id": "49ec980f",
   "metadata": {},
   "outputs": [
    {
     "name": "stdout",
     "output_type": "stream",
     "text": [
      "10 <class 'int'>\n"
     ]
    }
   ],
   "source": [
    "#float to int\n",
    "\n",
    "b = int(a)\n",
    "\n",
    "print(b,type(b))"
   ]
  },
  {
   "cell_type": "code",
   "execution_count": 55,
   "id": "b0cb8c1a",
   "metadata": {},
   "outputs": [
    {
     "name": "stdout",
     "output_type": "stream",
     "text": [
      "True <class 'bool'>\n"
     ]
    }
   ],
   "source": [
    "#float to bool\n",
    "\n",
    "a = 0.0\n",
    "\n",
    "b= bool(a)\n",
    "\n",
    "print(b, type(b))"
   ]
  },
  {
   "cell_type": "code",
   "execution_count": null,
   "id": "4390d313",
   "metadata": {},
   "outputs": [],
   "source": [
    "b=bool(a)"
   ]
  },
  {
   "cell_type": "code",
   "execution_count": null,
   "id": "83be783a",
   "metadata": {},
   "outputs": [],
   "source": [
    "print(b,type(b))"
   ]
  },
  {
   "cell_type": "code",
   "execution_count": null,
   "id": "0121d5eb",
   "metadata": {},
   "outputs": [],
   "source": [
    "a= 0.0\n",
    "print(a,type(a))"
   ]
  },
  {
   "cell_type": "code",
   "execution_count": null,
   "id": "78de48d9",
   "metadata": {
    "scrolled": true
   },
   "outputs": [],
   "source": [
    "b=bool(a)\n",
    "print(b,type(b))"
   ]
  },
  {
   "cell_type": "code",
   "execution_count": 56,
   "id": "e290e8a6",
   "metadata": {},
   "outputs": [
    {
     "name": "stdout",
     "output_type": "stream",
     "text": [
      "20.78 <class 'float'>\n"
     ]
    }
   ],
   "source": [
    "#float to str\n",
    "\n",
    "a = 20.78\n",
    "\n",
    "print(a, type(a))"
   ]
  },
  {
   "cell_type": "code",
   "execution_count": 57,
   "id": "66545f88",
   "metadata": {},
   "outputs": [
    {
     "name": "stdout",
     "output_type": "stream",
     "text": [
      "20.78 <class 'str'>\n"
     ]
    }
   ],
   "source": [
    "b = str(a)\n",
    "print(b,type(b))"
   ]
  },
  {
   "cell_type": "code",
   "execution_count": 58,
   "id": "81cba0fe",
   "metadata": {},
   "outputs": [
    {
     "data": {
      "text/plain": [
       "'20.78'"
      ]
     },
     "execution_count": 58,
     "metadata": {},
     "output_type": "execute_result"
    }
   ],
   "source": [
    "b"
   ]
  },
  {
   "cell_type": "raw",
   "id": "8d659366",
   "metadata": {},
   "source": [
    "#assignment\n",
    "type casting\n",
    "\n",
    "bool to int\n",
    "bool to float\n",
    "bool to str\n"
   ]
  },
  {
   "cell_type": "code",
   "execution_count": null,
   "id": "b83a3633",
   "metadata": {},
   "outputs": [],
   "source": [
    "#string to other data types"
   ]
  },
  {
   "cell_type": "code",
   "execution_count": 61,
   "id": "10920a9b",
   "metadata": {},
   "outputs": [
    {
     "name": "stdout",
     "output_type": "stream",
     "text": [
      "10.5 <class 'float'>\n"
     ]
    }
   ],
   "source": [
    "a = '10.5'\n",
    "\n",
    "b = float(a)\n",
    "\n",
    "\n",
    "print(b,type(b))"
   ]
  },
  {
   "cell_type": "code",
   "execution_count": 62,
   "id": "74c41292",
   "metadata": {},
   "outputs": [
    {
     "name": "stdout",
     "output_type": "stream",
     "text": [
      "10 <class 'str'>\n"
     ]
    }
   ],
   "source": [
    "a = '10'     #numerical string\n",
    "\n",
    "print(a,type(a))"
   ]
  },
  {
   "cell_type": "code",
   "execution_count": 63,
   "id": "b2af6eb9",
   "metadata": {},
   "outputs": [
    {
     "name": "stdout",
     "output_type": "stream",
     "text": [
      "10 <class 'int'>\n"
     ]
    }
   ],
   "source": [
    "b = int(a)\n",
    "\n",
    "print(b,type(b))"
   ]
  },
  {
   "cell_type": "code",
   "execution_count": 64,
   "id": "65df54cf",
   "metadata": {},
   "outputs": [
    {
     "name": "stdout",
     "output_type": "stream",
     "text": [
      "python <class 'str'>\n"
     ]
    }
   ],
   "source": [
    "a='python'  \n",
    "\n",
    "print(a,type(a))"
   ]
  },
  {
   "cell_type": "code",
   "execution_count": 65,
   "id": "eb4dbeb2",
   "metadata": {},
   "outputs": [
    {
     "ename": "ValueError",
     "evalue": "invalid literal for int() with base 10: 'python'",
     "output_type": "error",
     "traceback": [
      "\u001b[1;31m---------------------------------------------------------------------------\u001b[0m",
      "\u001b[1;31mValueError\u001b[0m                                Traceback (most recent call last)",
      "Cell \u001b[1;32mIn[65], line 1\u001b[0m\n\u001b[1;32m----> 1\u001b[0m b\u001b[38;5;241m=\u001b[39m\u001b[38;5;28;43mint\u001b[39;49m\u001b[43m(\u001b[49m\u001b[43ma\u001b[49m\u001b[43m)\u001b[49m\n\u001b[0;32m      3\u001b[0m \u001b[38;5;28mprint\u001b[39m(b,\u001b[38;5;28mtype\u001b[39m(b))\n",
      "\u001b[1;31mValueError\u001b[0m: invalid literal for int() with base 10: 'python'"
     ]
    }
   ],
   "source": [
    "b=int(a)\n",
    "\n",
    "print(b,type(b))"
   ]
  },
  {
   "cell_type": "code",
   "execution_count": null,
   "id": "e6e8da8a",
   "metadata": {},
   "outputs": [],
   "source": [
    "#str to float\n",
    "a='10.25'          #floating string\n",
    "print(a,type(a))"
   ]
  },
  {
   "cell_type": "code",
   "execution_count": null,
   "id": "84dd2bd1",
   "metadata": {},
   "outputs": [],
   "source": [
    "b=float(a)\n",
    "print(b,type(b))"
   ]
  },
  {
   "cell_type": "code",
   "execution_count": null,
   "id": "8d4661af",
   "metadata": {},
   "outputs": [],
   "source": [
    "a='python'     \n",
    "b=float(a)\n",
    "print(b,type(b))"
   ]
  },
  {
   "cell_type": "code",
   "execution_count": 66,
   "id": "8e7958c0",
   "metadata": {},
   "outputs": [
    {
     "name": "stdout",
     "output_type": "stream",
     "text": [
      "python <class 'str'>\n"
     ]
    }
   ],
   "source": [
    "#string to bool\n",
    "\n",
    "a = \"python\"\n",
    "\n",
    "print(a,type(a))"
   ]
  },
  {
   "cell_type": "code",
   "execution_count": 67,
   "id": "f92158d7",
   "metadata": {},
   "outputs": [
    {
     "name": "stdout",
     "output_type": "stream",
     "text": [
      "True <class 'bool'>\n"
     ]
    }
   ],
   "source": [
    "b = bool(a)\n",
    "\n",
    "\n",
    "print(b,type(b))"
   ]
  },
  {
   "cell_type": "code",
   "execution_count": 74,
   "id": "a0e1fab1",
   "metadata": {},
   "outputs": [
    {
     "name": "stdout",
     "output_type": "stream",
     "text": [
      " <class 'str'>\n"
     ]
    }
   ],
   "source": [
    "# empty string\n",
    "\n",
    "a = \"\"\n",
    "print(a,type(a))"
   ]
  },
  {
   "cell_type": "code",
   "execution_count": 75,
   "id": "8cf0d74e",
   "metadata": {},
   "outputs": [
    {
     "name": "stdout",
     "output_type": "stream",
     "text": [
      "False <class 'bool'>\n"
     ]
    }
   ],
   "source": [
    "b=bool(a)\n",
    "\n",
    "print(b,type(b))"
   ]
  },
  {
   "cell_type": "code",
   "execution_count": 70,
   "id": "1bb79611",
   "metadata": {},
   "outputs": [
    {
     "name": "stdout",
     "output_type": "stream",
     "text": [
      "0 <class 'str'>\n"
     ]
    }
   ],
   "source": [
    "a= '0'\n",
    "print(a,type(a))"
   ]
  },
  {
   "cell_type": "code",
   "execution_count": 71,
   "id": "41b12caa",
   "metadata": {},
   "outputs": [
    {
     "name": "stdout",
     "output_type": "stream",
     "text": [
      "True <class 'bool'>\n"
     ]
    }
   ],
   "source": [
    "b=bool(a)\n",
    "print(b,type(b))"
   ]
  },
  {
   "cell_type": "markdown",
   "id": "a03e0b91",
   "metadata": {},
   "source": [
    "# Pre-defined methods/function in string"
   ]
  },
  {
   "cell_type": "raw",
   "id": "d6e5803f",
   "metadata": {},
   "source": [
    "#1. capitalize()\n",
    "#2. title()\n",
    "#3. swapcase() # it will convert from lower case to uppercase or viseversa\n",
    "#4. upper()\n",
    "#5  lower()\n",
    "#6. islower()\n",
    "#7. isupper()\n",
    "#8. isdigit() - to check number in the string\n",
    "#9. isalpha() - to check characters in string\n",
    "#10. isalnum() - # to check number & characters in the string\n",
    "#11 isspace()\n",
    "#12. split()   # by defaut it will take space \n",
    "#13. count() # for counting the spaces or any letters\n",
    "\n",
    "len()"
   ]
  },
  {
   "cell_type": "code",
   "execution_count": 76,
   "id": "561a92f7",
   "metadata": {},
   "outputs": [
    {
     "name": "stdout",
     "output_type": "stream",
     "text": [
      "Python is the programming language\n"
     ]
    }
   ],
   "source": [
    "a = 'python is the programming language'\n",
    "\n",
    "a = a.capitalize()\n",
    "\n",
    "#print(b)\n",
    "print(a)"
   ]
  },
  {
   "cell_type": "code",
   "execution_count": null,
   "id": "4a97d007",
   "metadata": {},
   "outputs": [],
   "source": [
    "a = \"python,is a programming language.\"\n",
    "\n",
    "a.capitalize()"
   ]
  },
  {
   "cell_type": "code",
   "execution_count": null,
   "id": "545514a5",
   "metadata": {},
   "outputs": [],
   "source": [
    "# title() -  #first letter captial for all the words"
   ]
  },
  {
   "cell_type": "code",
   "execution_count": 77,
   "id": "f8b0d7ce",
   "metadata": {},
   "outputs": [
    {
     "name": "stdout",
     "output_type": "stream",
     "text": [
      "Python,Is A Programming Language.\n"
     ]
    }
   ],
   "source": [
    "a = \"python,is a programming language.\"\n",
    "\n",
    "a = a.title()\n",
    "\n",
    "\n",
    "print(a)"
   ]
  },
  {
   "cell_type": "code",
   "execution_count": null,
   "id": "34b1a10b",
   "metadata": {},
   "outputs": [],
   "source": [
    "#3. swapcase # it will convert from lower case to uppercase or viseversa"
   ]
  },
  {
   "cell_type": "code",
   "execution_count": 78,
   "id": "dc2baf52",
   "metadata": {},
   "outputs": [
    {
     "data": {
      "text/plain": [
       "'PYTHON'"
      ]
     },
     "execution_count": 78,
     "metadata": {},
     "output_type": "execute_result"
    }
   ],
   "source": [
    "a = \"python\"\n",
    "\n",
    "a.swapcase()"
   ]
  },
  {
   "cell_type": "code",
   "execution_count": 79,
   "id": "d9bcb80d",
   "metadata": {},
   "outputs": [
    {
     "data": {
      "text/plain": [
       "'python'"
      ]
     },
     "execution_count": 79,
     "metadata": {},
     "output_type": "execute_result"
    }
   ],
   "source": [
    "a = \"PYTHON\"\n",
    "\n",
    "a.swapcase()"
   ]
  },
  {
   "cell_type": "code",
   "execution_count": 80,
   "id": "056a0208",
   "metadata": {},
   "outputs": [
    {
     "data": {
      "text/plain": [
       "'pYThoN'"
      ]
     },
     "execution_count": 80,
     "metadata": {},
     "output_type": "execute_result"
    }
   ],
   "source": [
    "a=\"PytHOn\"\n",
    "\n",
    "a.swapcase()"
   ]
  },
  {
   "cell_type": "code",
   "execution_count": 81,
   "id": "4ab08acb",
   "metadata": {},
   "outputs": [
    {
     "data": {
      "text/plain": [
       "'PYTHON'"
      ]
     },
     "execution_count": 81,
     "metadata": {},
     "output_type": "execute_result"
    }
   ],
   "source": [
    "#4. upper\n",
    "\n",
    "a = \"PytHOn\"\n",
    "\n",
    "a.upper()"
   ]
  },
  {
   "cell_type": "code",
   "execution_count": 82,
   "id": "f957c986",
   "metadata": {},
   "outputs": [
    {
     "data": {
      "text/plain": [
       "'python'"
      ]
     },
     "execution_count": 82,
     "metadata": {},
     "output_type": "execute_result"
    }
   ],
   "source": [
    "#5 lower\n",
    "\n",
    "a=\"PytHOn\"\n",
    "\n",
    "a.lower()"
   ]
  },
  {
   "cell_type": "code",
   "execution_count": 83,
   "id": "fe32541a",
   "metadata": {},
   "outputs": [
    {
     "name": "stdout",
     "output_type": "stream",
     "text": [
      "True\n"
     ]
    }
   ],
   "source": [
    "#6. islower()\n",
    "\n",
    "a = 'python'\n",
    "\n",
    "b = a.islower()\n",
    "\n",
    "print(b)"
   ]
  },
  {
   "cell_type": "code",
   "execution_count": 84,
   "id": "864d03e1",
   "metadata": {},
   "outputs": [
    {
     "name": "stdout",
     "output_type": "stream",
     "text": [
      "False\n"
     ]
    }
   ],
   "source": [
    "a = 'pyThon'\n",
    "\n",
    "print(a.islower())\n",
    "\n",
    "#print(a)"
   ]
  },
  {
   "cell_type": "code",
   "execution_count": 85,
   "id": "27786545",
   "metadata": {},
   "outputs": [
    {
     "name": "stdout",
     "output_type": "stream",
     "text": [
      "True\n"
     ]
    }
   ],
   "source": [
    "#7. isupper()\n",
    "\n",
    "a = 'PYTHON'\n",
    "\n",
    "print(a.isupper())"
   ]
  },
  {
   "cell_type": "code",
   "execution_count": 86,
   "id": "c0a13ebf",
   "metadata": {},
   "outputs": [
    {
     "data": {
      "text/plain": [
       "False"
      ]
     },
     "execution_count": 86,
     "metadata": {},
     "output_type": "execute_result"
    }
   ],
   "source": [
    "a='PyTHON'\n",
    "\n",
    "a.isupper()"
   ]
  },
  {
   "cell_type": "code",
   "execution_count": 87,
   "id": "e3442d83",
   "metadata": {},
   "outputs": [
    {
     "data": {
      "text/plain": [
       "True"
      ]
     },
     "execution_count": 87,
     "metadata": {},
     "output_type": "execute_result"
    }
   ],
   "source": [
    "#8. isdigit() - to check number in the string\n",
    "\n",
    "a = \"67\"\n",
    "\n",
    "\n",
    "a.isdigit()"
   ]
  },
  {
   "cell_type": "code",
   "execution_count": 88,
   "id": "f5143cd3",
   "metadata": {},
   "outputs": [
    {
     "data": {
      "text/plain": [
       "False"
      ]
     },
     "execution_count": 88,
     "metadata": {},
     "output_type": "execute_result"
    }
   ],
   "source": [
    "a = \"1234 \"\n",
    "\n",
    "a.isdigit()"
   ]
  },
  {
   "cell_type": "code",
   "execution_count": 89,
   "id": "cb3faae7",
   "metadata": {},
   "outputs": [
    {
     "data": {
      "text/plain": [
       "False"
      ]
     },
     "execution_count": 89,
     "metadata": {},
     "output_type": "execute_result"
    }
   ],
   "source": [
    "a = \"python1234\"\n",
    "\n",
    "a.isdigit()"
   ]
  },
  {
   "cell_type": "code",
   "execution_count": 90,
   "id": "5d662f9d",
   "metadata": {},
   "outputs": [
    {
     "data": {
      "text/plain": [
       "True"
      ]
     },
     "execution_count": 90,
     "metadata": {},
     "output_type": "execute_result"
    }
   ],
   "source": [
    "#9. isalpha() - to check characters in string\n",
    "\n",
    "a = \"python\"\n",
    "\n",
    "a.isalpha()"
   ]
  },
  {
   "cell_type": "code",
   "execution_count": 91,
   "id": "7a98ad25",
   "metadata": {},
   "outputs": [
    {
     "data": {
      "text/plain": [
       "False"
      ]
     },
     "execution_count": 91,
     "metadata": {},
     "output_type": "execute_result"
    }
   ],
   "source": [
    "a = \"python1234\"\n",
    "\n",
    "a.isalpha()"
   ]
  },
  {
   "cell_type": "code",
   "execution_count": 92,
   "id": "ff4cd604",
   "metadata": {},
   "outputs": [
    {
     "data": {
      "text/plain": [
       "True"
      ]
     },
     "execution_count": 92,
     "metadata": {},
     "output_type": "execute_result"
    }
   ],
   "source": [
    "#10. isalnum() - # to check number & characters in the string\n",
    "\n",
    "a = \"python1234\"\n",
    "\n",
    "a.isalnum()"
   ]
  },
  {
   "cell_type": "code",
   "execution_count": 93,
   "id": "499322c6",
   "metadata": {},
   "outputs": [
    {
     "data": {
      "text/plain": [
       "True"
      ]
     },
     "execution_count": 93,
     "metadata": {},
     "output_type": "execute_result"
    }
   ],
   "source": [
    "a = \"python\"  # if character is there also, it will show true\n",
    "\n",
    "a.isalnum()"
   ]
  },
  {
   "cell_type": "code",
   "execution_count": 94,
   "id": "f60c9b74",
   "metadata": {},
   "outputs": [
    {
     "data": {
      "text/plain": [
       "True"
      ]
     },
     "execution_count": 94,
     "metadata": {},
     "output_type": "execute_result"
    }
   ],
   "source": [
    "a = \"1234\"\n",
    "a.isalnum()"
   ]
  },
  {
   "cell_type": "code",
   "execution_count": 95,
   "id": "aa4994c1",
   "metadata": {},
   "outputs": [
    {
     "data": {
      "text/plain": [
       "False"
      ]
     },
     "execution_count": 95,
     "metadata": {},
     "output_type": "execute_result"
    }
   ],
   "source": [
    "a = \"python 1234\"\n",
    "\n",
    "a.isalnum()"
   ]
  },
  {
   "cell_type": "code",
   "execution_count": 96,
   "id": "9fd66941",
   "metadata": {},
   "outputs": [
    {
     "name": "stdout",
     "output_type": "stream",
     "text": [
      "True\n",
      "<class 'str'>\n"
     ]
    }
   ],
   "source": [
    "#11 isspace()\n",
    "\n",
    "a = \" \"\n",
    "\n",
    "print(a.isspace())\n",
    "print(type(a))"
   ]
  },
  {
   "cell_type": "code",
   "execution_count": null,
   "id": "7a605753",
   "metadata": {},
   "outputs": [],
   "source": [
    "print(a)"
   ]
  },
  {
   "cell_type": "code",
   "execution_count": 97,
   "id": "b539a704",
   "metadata": {},
   "outputs": [
    {
     "data": {
      "text/plain": [
       "False"
      ]
     },
     "execution_count": 97,
     "metadata": {},
     "output_type": "execute_result"
    }
   ],
   "source": [
    "a = \"\"\n",
    "\n",
    "a.isspace()"
   ]
  },
  {
   "cell_type": "code",
   "execution_count": 98,
   "id": "be645584",
   "metadata": {},
   "outputs": [
    {
     "data": {
      "text/plain": [
       "True"
      ]
     },
     "execution_count": 98,
     "metadata": {},
     "output_type": "execute_result"
    }
   ],
   "source": [
    "a = \"  \"\n",
    "\n",
    "a.isspace()\n"
   ]
  },
  {
   "cell_type": "code",
   "execution_count": 99,
   "id": "a83ed6a3",
   "metadata": {},
   "outputs": [
    {
     "data": {
      "text/plain": [
       "False"
      ]
     },
     "execution_count": 99,
     "metadata": {},
     "output_type": "execute_result"
    }
   ],
   "source": [
    "a = \"python 123\"\n",
    "\n",
    "a.isspace()"
   ]
  },
  {
   "cell_type": "code",
   "execution_count": 103,
   "id": "c1bd391f",
   "metadata": {},
   "outputs": [
    {
     "name": "stdout",
     "output_type": "stream",
     "text": [
      "['python', 'is', 'a', 'prog', 'lang']\n",
      "<class 'list'>\n"
     ]
    }
   ],
   "source": [
    "#12. split()   # by defaut it will take space \n",
    "\n",
    "a = \"python is a prog lang\"\n",
    "\n",
    "b = a.split()\n",
    "\n",
    "print(b)\n",
    "\n",
    "print(type(b))"
   ]
  },
  {
   "cell_type": "code",
   "execution_count": null,
   "id": "faa8215f",
   "metadata": {},
   "outputs": [],
   "source": [
    "a= \"python is a prog lang\"\n",
    "type(a)"
   ]
  },
  {
   "cell_type": "code",
   "execution_count": null,
   "id": "1ae0d8ec",
   "metadata": {},
   "outputs": [],
   "source": []
  },
  {
   "cell_type": "code",
   "execution_count": 106,
   "id": "1b4884a5",
   "metadata": {},
   "outputs": [
    {
     "name": "stdout",
     "output_type": "stream",
     "text": [
      "2\n"
     ]
    }
   ],
   "source": [
    "#13. count() # for counting the spaces or any letters\n",
    "\n",
    "a = \"python is a prog lang\"\n",
    "\n",
    "b = a.count(\" \")   \n",
    "\n",
    "print(b)"
   ]
  },
  {
   "cell_type": "code",
   "execution_count": 107,
   "id": "07826773",
   "metadata": {},
   "outputs": [
    {
     "data": {
      "text/plain": [
       "21"
      ]
     },
     "execution_count": 107,
     "metadata": {},
     "output_type": "execute_result"
    }
   ],
   "source": [
    "# find the length of the string\n",
    "\n",
    "len(a)"
   ]
  },
  {
   "cell_type": "markdown",
   "id": "8278d422",
   "metadata": {},
   "source": [
    "# Indexing and slicing in String"
   ]
  },
  {
   "cell_type": "code",
   "execution_count": null,
   "id": "c2256141",
   "metadata": {},
   "outputs": [],
   "source": [
    "postive indexing & negative indexing"
   ]
  },
  {
   "cell_type": "code",
   "execution_count": null,
   "id": "eccf3ca4",
   "metadata": {},
   "outputs": [],
   "source": [
    "postive index will start from left side - 0,1,2,3"
   ]
  },
  {
   "cell_type": "code",
   "execution_count": null,
   "id": "890c881a",
   "metadata": {},
   "outputs": [],
   "source": [
    "negative indexing will start from right side - -1,-2,-3"
   ]
  },
  {
   "cell_type": "code",
   "execution_count": null,
   "id": "49e7c032-bfaa-4184-a500-821061b2a407",
   "metadata": {},
   "outputs": [],
   "source": [
    "A=[1,2,3,4,5]\n",
    "pa=0,1,2,3,4\n",
    "ng=-4,-3,-2,-1\n",
    "{}"
   ]
  },
  {
   "cell_type": "code",
   "execution_count": 108,
   "id": "3fe5adf2",
   "metadata": {},
   "outputs": [],
   "source": [
    "s = \"PYTHON\""
   ]
  },
  {
   "cell_type": "code",
   "execution_count": 23,
   "id": "05874a39-fee9-4c0f-b0cd-d95d717aec75",
   "metadata": {},
   "outputs": [],
   "source": [
    "s='prwatech'"
   ]
  },
  {
   "cell_type": "code",
   "execution_count": 24,
   "id": "1854e124-c909-45be-b5bb-8080d984bc37",
   "metadata": {},
   "outputs": [
    {
     "data": {
      "text/plain": [
       "'h'"
      ]
     },
     "execution_count": 24,
     "metadata": {},
     "output_type": "execute_result"
    }
   ],
   "source": [
    "s[-1]"
   ]
  },
  {
   "cell_type": "code",
   "execution_count": 114,
   "id": "e560c13d",
   "metadata": {},
   "outputs": [
    {
     "data": {
      "text/plain": [
       "'T'"
      ]
     },
     "execution_count": 114,
     "metadata": {},
     "output_type": "execute_result"
    }
   ],
   "source": [
    "#index\n",
    "\n",
    "s[2]"
   ]
  },
  {
   "cell_type": "code",
   "execution_count": 110,
   "id": "93b3c889",
   "metadata": {},
   "outputs": [
    {
     "data": {
      "text/plain": [
       "'P'"
      ]
     },
     "execution_count": 110,
     "metadata": {},
     "output_type": "execute_result"
    }
   ],
   "source": [
    "s[0]"
   ]
  },
  {
   "cell_type": "code",
   "execution_count": 111,
   "id": "ef13f2ce",
   "metadata": {},
   "outputs": [
    {
     "data": {
      "text/plain": [
       "'N'"
      ]
     },
     "execution_count": 111,
     "metadata": {},
     "output_type": "execute_result"
    }
   ],
   "source": [
    "s[-1]"
   ]
  },
  {
   "cell_type": "code",
   "execution_count": null,
   "id": "c3c4b11f",
   "metadata": {},
   "outputs": [],
   "source": [
    "s=\"PYTHON\"     #sub string of a string"
   ]
  },
  {
   "cell_type": "code",
   "execution_count": 112,
   "id": "c5502982",
   "metadata": {},
   "outputs": [
    {
     "data": {
      "text/plain": [
       "6"
      ]
     },
     "execution_count": 112,
     "metadata": {},
     "output_type": "execute_result"
    }
   ],
   "source": [
    "len(s)"
   ]
  },
  {
   "cell_type": "code",
   "execution_count": 30,
   "id": "973f39a4",
   "metadata": {},
   "outputs": [
    {
     "data": {
      "text/plain": [
       "'PYTHON'"
      ]
     },
     "execution_count": 30,
     "metadata": {},
     "output_type": "execute_result"
    }
   ],
   "source": [
    "# slicing\n",
    "# [starting no, ending no, step value]\n",
    "\n",
    "s = \"PYTHON\"\n",
    "\n",
    "s[:]"
   ]
  },
  {
   "cell_type": "code",
   "execution_count": 116,
   "id": "b7344d61",
   "metadata": {},
   "outputs": [
    {
     "data": {
      "text/plain": [
       "'PYTH'"
      ]
     },
     "execution_count": 116,
     "metadata": {},
     "output_type": "execute_result"
    }
   ],
   "source": [
    "s[0:4]     #0,1,2,3  ---> pyth"
   ]
  },
  {
   "cell_type": "code",
   "execution_count": 26,
   "id": "5cadf32d",
   "metadata": {},
   "outputs": [
    {
     "data": {
      "text/plain": [
       "'watech'"
      ]
     },
     "execution_count": 26,
     "metadata": {},
     "output_type": "execute_result"
    }
   ],
   "source": [
    "s[2:1000]"
   ]
  },
  {
   "cell_type": "code",
   "execution_count": 118,
   "id": "72615563",
   "metadata": {},
   "outputs": [
    {
     "data": {
      "text/plain": [
       "'H'"
      ]
     },
     "execution_count": 118,
     "metadata": {},
     "output_type": "execute_result"
    }
   ],
   "source": [
    "s[3:4]"
   ]
  },
  {
   "cell_type": "code",
   "execution_count": 119,
   "id": "0e338b20",
   "metadata": {},
   "outputs": [],
   "source": [
    "s=\"PYTHON\" "
   ]
  },
  {
   "cell_type": "code",
   "execution_count": 35,
   "id": "beaaa5a2",
   "metadata": {},
   "outputs": [
    {
     "data": {
      "text/plain": [
       "'PTO_spormig'"
      ]
     },
     "execution_count": 35,
     "metadata": {},
     "output_type": "execute_result"
    }
   ],
   "source": [
    "#slicing\n",
    "\n",
    "\n",
    "# [starting no, ending no, step value]\n",
    "\n",
    "\n",
    "s=\"PYTHON_is_programming\"\n",
    "\n",
    "s[0::2]    #0,1,2 = 2"
   ]
  },
  {
   "cell_type": "code",
   "execution_count": 14,
   "id": "adca679d-0ae5-44bc-9a3a-48fa77b1324f",
   "metadata": {},
   "outputs": [
    {
     "data": {
      "text/plain": [
       "'PYT'"
      ]
     },
     "execution_count": 14,
     "metadata": {},
     "output_type": "execute_result"
    }
   ],
   "source": [
    "s[:3]"
   ]
  },
  {
   "cell_type": "code",
   "execution_count": 15,
   "id": "c156f8db-5fee-414e-9357-7fb9351d8219",
   "metadata": {},
   "outputs": [
    {
     "data": {
      "text/plain": [
       "'THON'"
      ]
     },
     "execution_count": 15,
     "metadata": {},
     "output_type": "execute_result"
    }
   ],
   "source": [
    "s[2:]"
   ]
  },
  {
   "cell_type": "code",
   "execution_count": 16,
   "id": "cd79902f-5b5d-4fe9-a12f-a8aec659f63a",
   "metadata": {},
   "outputs": [
    {
     "ename": "SyntaxError",
     "evalue": "invalid syntax (3122137236.py, line 1)",
     "output_type": "error",
     "traceback": [
      "\u001b[1;36m  Cell \u001b[1;32mIn[16], line 1\u001b[1;36m\u001b[0m\n\u001b[1;33m    s=[:]\u001b[0m\n\u001b[1;37m       ^\u001b[0m\n\u001b[1;31mSyntaxError\u001b[0m\u001b[1;31m:\u001b[0m invalid syntax\n"
     ]
    }
   ],
   "source": [
    "s=[:]"
   ]
  },
  {
   "cell_type": "code",
   "execution_count": 7,
   "id": "66dcd641",
   "metadata": {},
   "outputs": [
    {
     "data": {
      "text/plain": [
       "'PYTHON'"
      ]
     },
     "execution_count": 7,
     "metadata": {},
     "output_type": "execute_result"
    }
   ],
   "source": [
    "s[0:6:1]"
   ]
  },
  {
   "cell_type": "code",
   "execution_count": 8,
   "id": "5d79f8a4",
   "metadata": {},
   "outputs": [
    {
     "data": {
      "text/plain": [
       "'PTO'"
      ]
     },
     "execution_count": 8,
     "metadata": {},
     "output_type": "execute_result"
    }
   ],
   "source": [
    "s[0:6:2]"
   ]
  },
  {
   "cell_type": "code",
   "execution_count": null,
   "id": "cbaaac32-a0fb-4f7a-9181-75a36517a2aa",
   "metadata": {},
   "outputs": [],
   "source": []
  },
  {
   "cell_type": "code",
   "execution_count": null,
   "id": "2df9ce30-5876-4854-aba0-7c58d827e87f",
   "metadata": {},
   "outputs": [],
   "source": [
    "a=[1,2,4,5,7,886,3452]"
   ]
  },
  {
   "cell_type": "code",
   "execution_count": null,
   "id": "b0599876",
   "metadata": {},
   "outputs": [],
   "source": [
    "Neative slicing"
   ]
  },
  {
   "cell_type": "code",
   "execution_count": 37,
   "id": "89728e8b",
   "metadata": {},
   "outputs": [
    {
     "data": {
      "text/plain": [
       "'THON'"
      ]
     },
     "execution_count": 37,
     "metadata": {},
     "output_type": "execute_result"
    }
   ],
   "source": [
    "s=\"PYTHON\"\n",
    "\n",
    "\n",
    "s[-4:]"
   ]
  },
  {
   "cell_type": "code",
   "execution_count": 23,
   "id": "045db59e-a2e0-4bc6-88d4-a079e12b4aae",
   "metadata": {},
   "outputs": [
    {
     "data": {
      "text/plain": [
       "'NOHTYP'"
      ]
     },
     "execution_count": 23,
     "metadata": {},
     "output_type": "execute_result"
    }
   ],
   "source": [
    "s[::-1]"
   ]
  },
  {
   "cell_type": "code",
   "execution_count": 42,
   "id": "9bab13df",
   "metadata": {},
   "outputs": [
    {
     "data": {
      "text/plain": [
       "'NOHTYP'"
      ]
     },
     "execution_count": 42,
     "metadata": {},
     "output_type": "execute_result"
    }
   ],
   "source": [
    "s[-1::-1]"
   ]
  },
  {
   "cell_type": "code",
   "execution_count": null,
   "id": "da438941",
   "metadata": {},
   "outputs": [],
   "source": []
  },
  {
   "cell_type": "code",
   "execution_count": 43,
   "id": "45768b45",
   "metadata": {},
   "outputs": [
    {
     "ename": "SyntaxError",
     "evalue": "invalid syntax (687739261.py, line 1)",
     "output_type": "error",
     "traceback": [
      "\u001b[1;36m  Cell \u001b[1;32mIn[43], line 1\u001b[1;36m\u001b[0m\n\u001b[1;33m    s(-1:-5:-2)\u001b[0m\n\u001b[1;37m        ^\u001b[0m\n\u001b[1;31mSyntaxError\u001b[0m\u001b[1;31m:\u001b[0m invalid syntax\n"
     ]
    }
   ],
   "source": [
    "s[-1:-5:-2]"
   ]
  },
  {
   "cell_type": "code",
   "execution_count": 129,
   "id": "db900145",
   "metadata": {},
   "outputs": [
    {
     "data": {
      "text/plain": [
       "'YTHO'"
      ]
     },
     "execution_count": 129,
     "metadata": {},
     "output_type": "execute_result"
    }
   ],
   "source": [
    "s[-5:-1]"
   ]
  },
  {
   "cell_type": "code",
   "execution_count": null,
   "id": "ef5c2710",
   "metadata": {},
   "outputs": [],
   "source": [
    "s[2:4]    #2,3"
   ]
  },
  {
   "cell_type": "code",
   "execution_count": 24,
   "id": "e1b13b55",
   "metadata": {},
   "outputs": [
    {
     "data": {
      "text/plain": [
       "6"
      ]
     },
     "execution_count": 24,
     "metadata": {},
     "output_type": "execute_result"
    }
   ],
   "source": [
    "#how to check length of string--- By using len()\n",
    "\n",
    "len(s)"
   ]
  },
  {
   "cell_type": "code",
   "execution_count": 139,
   "id": "7d8a3a93",
   "metadata": {},
   "outputs": [
    {
     "data": {
      "text/plain": [
       "'PYTHON'"
      ]
     },
     "execution_count": 139,
     "metadata": {},
     "output_type": "execute_result"
    }
   ],
   "source": [
    "s=\"PYTHON\" \n",
    "\n",
    "s[0:100]"
   ]
  },
  {
   "cell_type": "code",
   "execution_count": null,
   "id": "77c5b8d2",
   "metadata": {},
   "outputs": [],
   "source": [
    "s[0:]"
   ]
  },
  {
   "cell_type": "code",
   "execution_count": null,
   "id": "4e02d2b2",
   "metadata": {},
   "outputs": [],
   "source": [
    "\n",
    "s[1:]"
   ]
  },
  {
   "cell_type": "code",
   "execution_count": null,
   "id": "05ced3bc",
   "metadata": {},
   "outputs": [],
   "source": [
    "s[:4]"
   ]
  },
  {
   "cell_type": "code",
   "execution_count": null,
   "id": "e28083df",
   "metadata": {},
   "outputs": [],
   "source": [
    "s = \"abcdefghijk\"\n",
    "\n",
    "len(s)"
   ]
  },
  {
   "cell_type": "code",
   "execution_count": null,
   "id": "beed6980",
   "metadata": {},
   "outputs": [],
   "source": [
    "\n",
    "s[5:12]"
   ]
  },
  {
   "cell_type": "code",
   "execution_count": null,
   "id": "d9e58e43",
   "metadata": {},
   "outputs": [],
   "source": [
    "\n",
    "s[0:12:1]"
   ]
  },
  {
   "cell_type": "code",
   "execution_count": null,
   "id": "b340e728",
   "metadata": {},
   "outputs": [],
   "source": [
    "s[0:12:2]"
   ]
  },
  {
   "cell_type": "code",
   "execution_count": null,
   "id": "84a4ff35",
   "metadata": {},
   "outputs": [],
   "source": [
    "s[0:11:3]"
   ]
  },
  {
   "cell_type": "code",
   "execution_count": null,
   "id": "78964336",
   "metadata": {},
   "outputs": [],
   "source": [
    "#reverse a string"
   ]
  },
  {
   "cell_type": "code",
   "execution_count": 130,
   "id": "7b8107fc",
   "metadata": {},
   "outputs": [
    {
     "data": {
      "text/plain": [
       "'PYTHON'"
      ]
     },
     "execution_count": 130,
     "metadata": {},
     "output_type": "execute_result"
    }
   ],
   "source": [
    "s"
   ]
  },
  {
   "cell_type": "code",
   "execution_count": 131,
   "id": "4cd071d1",
   "metadata": {},
   "outputs": [
    {
     "data": {
      "text/plain": [
       "'PYTHON'"
      ]
     },
     "execution_count": 131,
     "metadata": {},
     "output_type": "execute_result"
    }
   ],
   "source": [
    "s[:]"
   ]
  },
  {
   "cell_type": "code",
   "execution_count": 132,
   "id": "07e547ab",
   "metadata": {},
   "outputs": [
    {
     "data": {
      "text/plain": [
       "'PYTHON'"
      ]
     },
     "execution_count": 132,
     "metadata": {},
     "output_type": "execute_result"
    }
   ],
   "source": [
    "s[::]"
   ]
  },
  {
   "cell_type": "code",
   "execution_count": 133,
   "id": "3b83345a",
   "metadata": {},
   "outputs": [
    {
     "data": {
      "text/plain": [
       "'PTO'"
      ]
     },
     "execution_count": 133,
     "metadata": {},
     "output_type": "execute_result"
    }
   ],
   "source": [
    "s[::2]"
   ]
  },
  {
   "cell_type": "code",
   "execution_count": 136,
   "id": "3c8b385b",
   "metadata": {},
   "outputs": [
    {
     "data": {
      "text/plain": [
       "'NOHTYP'"
      ]
     },
     "execution_count": 136,
     "metadata": {},
     "output_type": "execute_result"
    }
   ],
   "source": [
    "#reverse a string\n",
    "\n",
    "s[::-1]"
   ]
  },
  {
   "cell_type": "code",
   "execution_count": 137,
   "id": "be1f99f6",
   "metadata": {},
   "outputs": [
    {
     "data": {
      "text/plain": [
       "'NHY'"
      ]
     },
     "execution_count": 137,
     "metadata": {},
     "output_type": "execute_result"
    }
   ],
   "source": [
    "s[::-2]"
   ]
  },
  {
   "cell_type": "code",
   "execution_count": null,
   "id": "d401582a",
   "metadata": {},
   "outputs": [],
   "source": []
  }
 ],
 "metadata": {
  "kernelspec": {
   "display_name": "Python 3 (ipykernel)",
   "language": "python",
   "name": "python3"
  },
  "language_info": {
   "codemirror_mode": {
    "name": "ipython",
    "version": 3
   },
   "file_extension": ".py",
   "mimetype": "text/x-python",
   "name": "python",
   "nbconvert_exporter": "python",
   "pygments_lexer": "ipython3",
   "version": "3.11.7"
  }
 },
 "nbformat": 4,
 "nbformat_minor": 5
}
