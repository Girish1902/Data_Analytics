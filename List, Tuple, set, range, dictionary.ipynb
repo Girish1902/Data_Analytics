{
 "cells": [
  {
   "cell_type": "markdown",
   "id": "d7ac1b02",
   "metadata": {},
   "source": [
    "# List"
   ]
  },
  {
   "cell_type": "code",
   "execution_count": 1,
   "id": "245a4b3d-1f68-4342-8fc2-e536dca7345b",
   "metadata": {},
   "outputs": [
    {
     "data": {
      "text/plain": [
       "[1, 2, 4, 5, 6]"
      ]
     },
     "execution_count": 1,
     "metadata": {},
     "output_type": "execute_result"
    }
   ],
   "source": [
    "l1=[1,2,4,5,6]\n",
    "l2=l1\n",
    "l2\n"
   ]
  },
  {
   "cell_type": "markdown",
   "id": "00cc5865",
   "metadata": {},
   "source": [
    "to store multiple values in similar data types or different data types with unique or duplicate values.\n",
    "- list enclosed within square bracket [].\n",
    "- list is a mutable data type.\n",
    "- Duplicates allowed"
   ]
  },
  {
   "cell_type": "markdown",
   "id": "f95633db",
   "metadata": {},
   "source": [
    "    Mutable - it means after creating your list, if you want change any value or add or remove, it is possible"
   ]
  },
  {
   "cell_type": "code",
   "execution_count": 2,
   "id": "431518e7",
   "metadata": {
    "scrolled": true
   },
   "outputs": [
    {
     "name": "stdout",
     "output_type": "stream",
     "text": [
      "[12, 25.56, True, 'python']\n"
     ]
    }
   ],
   "source": [
    "list1 = [12,25.56, True, \"python\"]\n",
    "\n",
    "print(list1)"
   ]
  },
  {
   "cell_type": "code",
   "execution_count": 3,
   "id": "9545bdf6",
   "metadata": {},
   "outputs": [
    {
     "name": "stdout",
     "output_type": "stream",
     "text": [
      "[12, 'hi', 64.76, True]\n",
      "<class 'list'>\n"
     ]
    }
   ],
   "source": [
    "list2 = [12,\"hi\",64.76,True]\n",
    "\n",
    "print(list2)\n",
    "\n",
    "print(type(list2))"
   ]
  },
  {
   "cell_type": "code",
   "execution_count": 4,
   "id": "365982da",
   "metadata": {},
   "outputs": [
    {
     "name": "stdout",
     "output_type": "stream",
     "text": [
      "<class 'list'>\n",
      "\n"
     ]
    }
   ],
   "source": [
    "print(type(list1))"
   ]
  },
  {
   "cell_type": "code",
   "execution_count": 5,
   "id": "76c53147",
   "metadata": {},
   "outputs": [
    {
     "data": {
      "text/plain": [
       "25.56"
      ]
     },
     "execution_count": 5,
     "metadata": {},
     "output_type": "execute_result"
    }
   ],
   "source": [
    "list1 = [12,25.56, True, \"python\"]\n",
    "\n",
    "list1[1]"
   ]
  },
  {
   "cell_type": "code",
   "execution_count": 6,
   "id": "b1b5ef32",
   "metadata": {},
   "outputs": [
    {
     "data": {
      "text/plain": [
       "12"
      ]
     },
     "execution_count": 6,
     "metadata": {},
     "output_type": "execute_result"
    }
   ],
   "source": [
    "list1[0]"
   ]
  },
  {
   "cell_type": "code",
   "execution_count": 7,
   "id": "ee24bf86",
   "metadata": {},
   "outputs": [
    {
     "data": {
      "text/plain": [
       "'python'"
      ]
     },
     "execution_count": 7,
     "metadata": {},
     "output_type": "execute_result"
    }
   ],
   "source": [
    "list1[-1]"
   ]
  },
  {
   "cell_type": "code",
   "execution_count": 8,
   "id": "2d15c311",
   "metadata": {},
   "outputs": [
    {
     "data": {
      "text/plain": [
       "[12, 25.56, True, 'python']"
      ]
     },
     "execution_count": 8,
     "metadata": {},
     "output_type": "execute_result"
    }
   ],
   "source": [
    "list1[0:4]    #0,1,2,3"
   ]
  },
  {
   "cell_type": "code",
   "execution_count": 9,
   "id": "81b18265",
   "metadata": {},
   "outputs": [
    {
     "data": {
      "text/plain": [
       "[True, 'python']"
      ]
     },
     "execution_count": 9,
     "metadata": {},
     "output_type": "execute_result"
    }
   ],
   "source": [
    "list1[2:10]"
   ]
  },
  {
   "cell_type": "code",
   "execution_count": 10,
   "id": "1fc313bd",
   "metadata": {},
   "outputs": [
    {
     "data": {
      "text/plain": [
       "4"
      ]
     },
     "execution_count": 10,
     "metadata": {},
     "output_type": "execute_result"
    }
   ],
   "source": [
    "len(list1)"
   ]
  },
  {
   "cell_type": "code",
   "execution_count": 11,
   "id": "6e110717",
   "metadata": {},
   "outputs": [
    {
     "name": "stdout",
     "output_type": "stream",
     "text": [
      "[12, 12, 67, 78348748, 'py']\n"
     ]
    }
   ],
   "source": [
    "# change any value\n",
    "\n",
    "list1 = [12,12, 25.56, True, \"python\"]\n",
    "\n",
    "#index\n",
    "#list1[1] = \"hi\"\n",
    "#slicing\n",
    "list1[2:5] = [67,78348748,\"py\"]\n",
    "\n",
    "print(list1)"
   ]
  },
  {
   "cell_type": "code",
   "execution_count": 12,
   "id": "3ff2f0d9",
   "metadata": {},
   "outputs": [
    {
     "name": "stdout",
     "output_type": "stream",
     "text": [
      "544.7\n"
     ]
    }
   ],
   "source": [
    "list1 = [12,12, 25.56, True, \"python\",[1,\"hi\",544.70]]\n",
    "\n",
    "\n",
    "print(list1[5][2])\n",
    "\n"
   ]
  },
  {
   "cell_type": "code",
   "execution_count": 13,
   "id": "a77ea27d",
   "metadata": {},
   "outputs": [
    {
     "name": "stdout",
     "output_type": "stream",
     "text": [
      "[34, 435, 75, [34, 90, [3445, 100, 'sam', 45]]]\n"
     ]
    }
   ],
   "source": [
    "list1 = [12,12, 25.56, True, \"python\",[1,\"hi\",544.70],[32,34,45,\"py\"],[34,435,75,[34,90,[3445,100,\"sam\",45]]]]\n",
    "\n",
    "\n",
    "\n",
    "print(list1[7])"
   ]
  },
  {
   "cell_type": "code",
   "execution_count": 14,
   "id": "832583ed",
   "metadata": {},
   "outputs": [
    {
     "name": "stdout",
     "output_type": "stream",
     "text": [
      "<class 'list'>\n"
     ]
    }
   ],
   "source": [
    "#print(type(list1))\n",
    "\n",
    "print(type(list1[5]))"
   ]
  },
  {
   "cell_type": "markdown",
   "id": "8b7a6c0d",
   "metadata": {},
   "source": [
    "# Pre-defined function in list"
   ]
  },
  {
   "cell_type": "markdown",
   "id": "f89f4ddf",
   "metadata": {},
   "source": [
    "- append() -- used for adding the value at the end of the list\n",
    "- insert()  -- used for adding the value at the specific index position.\n",
    "- remove() -- value based removal\n",
    "- pop(index) --- index baesd\n",
    "- clear()   #remove all values from ur list object\n",
    "- index() -- using value, if you want to see the index no\n",
    "- count()\n",
    "- sort()     #bydefault , it will sort in ascending order\n",
    "- extend()\n",
    "- copy()\n",
    "- reverse()"
   ]
  },
  {
   "cell_type": "code",
   "execution_count": 15,
   "id": "77a56578",
   "metadata": {},
   "outputs": [
    {
     "name": "stdout",
     "output_type": "stream",
     "text": [
      "[1, 12, 25.56, True, 'python']\n"
     ]
    }
   ],
   "source": [
    "list1 = [1,12, 25.56, True, \"python\"]\n",
    "\n",
    "print(list1)"
   ]
  },
  {
   "cell_type": "code",
   "execution_count": 16,
   "id": "dd2409d1",
   "metadata": {},
   "outputs": [
    {
     "name": "stdout",
     "output_type": "stream",
     "text": [
      "[1, 12, 25.56, True, 'python', 'hi']\n"
     ]
    }
   ],
   "source": [
    "#1. append() -- used for adding the value at the end of the list\n",
    "\n",
    "# append() takes exactly one argument\n",
    "\n",
    "list1.append(\"hi\")\n",
    "\n",
    "#list1.append([34,43,\"dfd\"])\n",
    "\n",
    "\n",
    "print(list1)\n"
   ]
  },
  {
   "cell_type": "code",
   "execution_count": 17,
   "id": "beb6c9b0",
   "metadata": {},
   "outputs": [],
   "source": [
    "#2. insert()  -- used for adding the value at the specific index position."
   ]
  },
  {
   "cell_type": "code",
   "execution_count": 18,
   "id": "e41172b7",
   "metadata": {},
   "outputs": [
    {
     "name": "stdout",
     "output_type": "stream",
     "text": [
      "[1, 12, 'hi', 25.56, True, 'python']\n"
     ]
    }
   ],
   "source": [
    "list1 = [1,12, 25.56, True, \"python\"]\n",
    "\n",
    "list1.insert(2,\"hi\")\n",
    "\n",
    "#list1.insert(4,43563545.345)\n",
    "\n",
    "print(list1)"
   ]
  },
  {
   "cell_type": "code",
   "execution_count": 19,
   "id": "7196f580",
   "metadata": {},
   "outputs": [],
   "source": [
    "#3. remove() -- value based removal"
   ]
  },
  {
   "cell_type": "code",
   "execution_count": 20,
   "id": "a6b30d19",
   "metadata": {},
   "outputs": [
    {
     "name": "stdout",
     "output_type": "stream",
     "text": [
      "[1, 25.56, 12, True, 'python']\n"
     ]
    }
   ],
   "source": [
    "# remove is used to remove only one value at a time\n",
    "list1 = [1,12, 25.56,12, True, \"python\"]\n",
    "\n",
    "list1.remove(12)\n",
    "\n",
    "print(list1)"
   ]
  },
  {
   "cell_type": "code",
   "execution_count": 21,
   "id": "3f54ce13",
   "metadata": {},
   "outputs": [
    {
     "name": "stdout",
     "output_type": "stream",
     "text": [
      "['hello', 'python', 6767, 6767, 6767]\n"
     ]
    }
   ],
   "source": [
    "# for removing mutiple values in the list\n",
    "list1 = [7676735345, 12, 'hello', 'hello', 'python', 6767, 6767, 6767]\n",
    "\n",
    "remove1 = [7676735345, 12, 'hello']\n",
    "\n",
    "# g = 7676735345\n",
    "\n",
    "\n",
    "for i in remove1:\n",
    "    #print(i)\n",
    "    list1.remove(i)\n",
    "    \n",
    "    \n",
    "print(list1)\n"
   ]
  },
  {
   "cell_type": "markdown",
   "id": "fa25ee20",
   "metadata": {},
   "source": [
    "Question 1 - \n",
    "\n",
    "-- add mutiple values to the list at a time using append or insert, \n",
    "\n",
    "create one list with some values, \n",
    "\n",
    "Add this values , 6437,\"Good\",34.56,[56,83,100,'Morning']"
   ]
  },
  {
   "cell_type": "code",
   "execution_count": 22,
   "id": "cd5a5235",
   "metadata": {},
   "outputs": [],
   "source": [
    "#4 pop(index) --- index baesd"
   ]
  },
  {
   "cell_type": "code",
   "execution_count": 23,
   "id": "465e7493",
   "metadata": {},
   "outputs": [
    {
     "name": "stdout",
     "output_type": "stream",
     "text": [
      "[12, 12, 25.56, True]\n"
     ]
    }
   ],
   "source": [
    "# if u r not giving any index it will remove from last\n",
    "\n",
    "list1 = [12,12, 25.56, True, \"python\"]\n",
    "\n",
    "list1.pop()\n",
    "\n",
    "print(list1)"
   ]
  },
  {
   "cell_type": "code",
   "execution_count": 24,
   "id": "48170fe1",
   "metadata": {},
   "outputs": [
    {
     "name": "stdout",
     "output_type": "stream",
     "text": [
      "[12, 12, True, 'python']\n"
     ]
    }
   ],
   "source": [
    "list1 = [12,12, 25.56, True, \"python\"]\n",
    "\n",
    "list1.pop(2)\n",
    "\n",
    "print(list1)"
   ]
  },
  {
   "cell_type": "code",
   "execution_count": 25,
   "id": "68a9fd7e",
   "metadata": {},
   "outputs": [],
   "source": [
    "#5. clear()"
   ]
  },
  {
   "cell_type": "code",
   "execution_count": 26,
   "id": "9085a3d7",
   "metadata": {},
   "outputs": [
    {
     "name": "stdout",
     "output_type": "stream",
     "text": [
      "[]\n"
     ]
    }
   ],
   "source": [
    "list1.clear() #remove all values from ur list object\n",
    "\n",
    "print(list1)"
   ]
  },
  {
   "cell_type": "code",
   "execution_count": 27,
   "id": "587e02e0",
   "metadata": {},
   "outputs": [],
   "source": [
    "list1 = [12,12, 25.56, True, \"python\"]"
   ]
  },
  {
   "cell_type": "code",
   "execution_count": 28,
   "id": "9718c90c",
   "metadata": {},
   "outputs": [
    {
     "name": "stdout",
     "output_type": "stream",
     "text": [
      "[12, 12, 25.56, True, 'python']\n"
     ]
    }
   ],
   "source": [
    "#del operator-- delete list object\n",
    "\n",
    "#del list1[2]\n",
    "#del list1[2:4]\n",
    "#del list1\n",
    "\n",
    "print(list1)"
   ]
  },
  {
   "cell_type": "code",
   "execution_count": 29,
   "id": "4f6d5342",
   "metadata": {},
   "outputs": [
    {
     "name": "stdout",
     "output_type": "stream",
     "text": [
      "[12, 12, 25.56, True, 'python']\n"
     ]
    }
   ],
   "source": [
    "print(list1)"
   ]
  },
  {
   "cell_type": "code",
   "execution_count": 30,
   "id": "b3891ce0",
   "metadata": {},
   "outputs": [
    {
     "data": {
      "text/plain": [
       "0"
      ]
     },
     "execution_count": 30,
     "metadata": {},
     "output_type": "execute_result"
    }
   ],
   "source": [
    "#7. index() - to see the index of any value in the list\n",
    "\n",
    "list1 = [12, 25.56, True, \"python\",12, True]\n",
    "\n",
    "list1.index(12)"
   ]
  },
  {
   "cell_type": "code",
   "execution_count": 31,
   "id": "cd0aa8bb",
   "metadata": {},
   "outputs": [
    {
     "data": {
      "text/plain": [
       "2"
      ]
     },
     "execution_count": 31,
     "metadata": {},
     "output_type": "execute_result"
    }
   ],
   "source": [
    "#8. count() - to check any value how many times repeating\n",
    "\n",
    "list1.count(12)"
   ]
  },
  {
   "cell_type": "code",
   "execution_count": 32,
   "id": "e760d7d7",
   "metadata": {},
   "outputs": [
    {
     "data": {
      "text/plain": [
       "[12, 25.56, True, 'python', 12, True]"
      ]
     },
     "execution_count": 32,
     "metadata": {},
     "output_type": "execute_result"
    }
   ],
   "source": [
    "list1"
   ]
  },
  {
   "cell_type": "code",
   "execution_count": 33,
   "id": "9941c256",
   "metadata": {},
   "outputs": [],
   "source": [
    "#9  copy() - to copy the list to another list   #shallow copy\n",
    "\n",
    "list1 = [12, 25.56, True, \"python\",12, True]\n",
    "\n",
    "list2 = list1.copy()"
   ]
  },
  {
   "cell_type": "code",
   "execution_count": 34,
   "id": "3bba9a58",
   "metadata": {},
   "outputs": [
    {
     "name": "stdout",
     "output_type": "stream",
     "text": [
      "[12, True, 'python', 12, True]\n"
     ]
    }
   ],
   "source": [
    "list1.remove(25.56)\n",
    "\n",
    "print(list1)"
   ]
  },
  {
   "cell_type": "code",
   "execution_count": 35,
   "id": "ddace064",
   "metadata": {},
   "outputs": [
    {
     "name": "stdout",
     "output_type": "stream",
     "text": [
      "[12, 25.56, True, 'python', 12, True]\n"
     ]
    }
   ],
   "source": [
    "print(list2)"
   ]
  },
  {
   "cell_type": "code",
   "execution_count": 36,
   "id": "3b64d1b5",
   "metadata": {},
   "outputs": [],
   "source": [
    "#Deep copy"
   ]
  },
  {
   "cell_type": "code",
   "execution_count": 37,
   "id": "b02e5dae",
   "metadata": {},
   "outputs": [
    {
     "name": "stdout",
     "output_type": "stream",
     "text": [
      "[12, 25.56, True, 'python', 12, True]\n"
     ]
    }
   ],
   "source": [
    "list1 = [12, 25.56, True, \"python\",12, True]\n",
    "\n",
    "list3 = list1\n",
    "\n",
    "print(list3)"
   ]
  },
  {
   "cell_type": "code",
   "execution_count": 38,
   "id": "fe190bd2",
   "metadata": {},
   "outputs": [
    {
     "name": "stdout",
     "output_type": "stream",
     "text": [
      "[12, True, 'python', 12, True]\n"
     ]
    }
   ],
   "source": [
    "list1.remove(25.56)\n",
    "\n",
    "print(list1)"
   ]
  },
  {
   "cell_type": "code",
   "execution_count": 39,
   "id": "82e127f3",
   "metadata": {},
   "outputs": [
    {
     "name": "stdout",
     "output_type": "stream",
     "text": [
      "[12, True, 'python', 12, True]\n"
     ]
    }
   ],
   "source": [
    "print(list3)"
   ]
  },
  {
   "cell_type": "code",
   "execution_count": 40,
   "id": "db7aa044",
   "metadata": {},
   "outputs": [
    {
     "name": "stdout",
     "output_type": "stream",
     "text": [
      "[10, 78, 65, 30, 74, -45, 0, -10, -1, 100] <class 'list'>\n"
     ]
    }
   ],
   "source": [
    "\n",
    "list1 = [10,78,65,30,74,-45,0,-10,-1,100]\n",
    "\n",
    "print(list1, type(list1))"
   ]
  },
  {
   "cell_type": "code",
   "execution_count": 41,
   "id": "0c794409",
   "metadata": {},
   "outputs": [
    {
     "name": "stdout",
     "output_type": "stream",
     "text": [
      "[100, -1, -10, 0, -45, 74, 30, 65, 78, 10]\n",
      "\n"
     ]
    }
   ],
   "source": [
    "#10 reverse\n",
    "\n",
    "list1 = [10,78,65,30,74,-45,0,-10,-1,100]\n",
    "\n",
    "list1.reverse()\n",
    "\n",
    "print(list1)"
   ]
  },
  {
   "cell_type": "code",
   "execution_count": 42,
   "id": "9fb0eeeb",
   "metadata": {},
   "outputs": [
    {
     "data": {
      "text/plain": [
       "[100, -1, -10, 0, -45, 74, 30, 65, 78, 10]"
      ]
     },
     "execution_count": 42,
     "metadata": {},
     "output_type": "execute_result"
    }
   ],
   "source": [
    "#slicing\n",
    "list1 = [10,78,65,30,74,-45,0,-10,-1,100]\n",
    "\n",
    "#list1[::]\n",
    "\n",
    "list1[::-1]"
   ]
  },
  {
   "cell_type": "code",
   "execution_count": 43,
   "id": "e30765a1",
   "metadata": {},
   "outputs": [],
   "source": [
    "#11 sort()"
   ]
  },
  {
   "cell_type": "code",
   "execution_count": 44,
   "id": "93c2faff",
   "metadata": {},
   "outputs": [
    {
     "name": "stdout",
     "output_type": "stream",
     "text": [
      "['a', 'b', 'c', 'd', 'k']\n",
      "\n"
     ]
    }
   ],
   "source": [
    "list2 = [\"a\",\"d\",\"b\",\"k\",\"c\"]\n",
    "\n",
    "list2.sort()  #bydefault , it will sort in ascending order\n",
    "list2.sort(reverse=False) \n",
    "\n",
    "print(list2)"
   ]
  },
  {
   "cell_type": "code",
   "execution_count": 45,
   "id": "4f34d9bb",
   "metadata": {},
   "outputs": [
    {
     "name": "stdout",
     "output_type": "stream",
     "text": [
      "['k', 'd', 'c', 'b', 'a']\n",
      "\n"
     ]
    }
   ],
   "source": [
    "list2.sort(reverse=True)       #descending order\n",
    "\n",
    "print(list2)"
   ]
  },
  {
   "cell_type": "code",
   "execution_count": 46,
   "id": "9f1e7c6f",
   "metadata": {},
   "outputs": [],
   "source": [
    "#12 extend to join two list to one list"
   ]
  },
  {
   "cell_type": "code",
   "execution_count": 47,
   "id": "a0fe9ba4",
   "metadata": {},
   "outputs": [
    {
     "name": "stdout",
     "output_type": "stream",
     "text": [
      "[10, 78, 65, 30, 74, -45, 0, -10, -1, 100, 'a', 'd', 'b', 'k', 'c']\n"
     ]
    }
   ],
   "source": [
    "list2 = [\"a\",\"d\",\"b\",\"k\",\"c\"]\n",
    "list1 = [10,78,65,30,74,-45,0,-10,-1,100]\n",
    "\n",
    "list1.extend(list2)\n",
    "\n",
    "#list1 += list2\n",
    "\n",
    "\n",
    "print(list1)"
   ]
  },
  {
   "cell_type": "code",
   "execution_count": 48,
   "id": "e88aa06a",
   "metadata": {},
   "outputs": [
    {
     "name": "stdout",
     "output_type": "stream",
     "text": [
      "[10, 78, 65, 30, 74, -45, 0, -10, -1, 100, 'a', 'd', 'b', 'k', 'c']\n"
     ]
    }
   ],
   "source": [
    "list2 = [\"a\",\"d\",\"b\",\"k\",\"c\"]\n",
    "list1 = [10,78,65,30,74,-45,0,-10,-1,100]\n",
    "\n",
    "list3 = list1 + list2\n",
    "\n",
    "print(list3)"
   ]
  },
  {
   "cell_type": "markdown",
   "id": "c89318f5",
   "metadata": {},
   "source": [
    "Appending and Inserting:\n",
    "\n",
    "How would you add a new element '5' to the end of a list?\n",
    "How would you insert the value '10' at index 2 in a list?\n",
    "\n",
    "\n",
    "\n",
    "Removing and Popping:\n",
    "\n",
    "If you have a list ['apple', 'banana', 'cherry', 'banana'], how would you remove the element 'banana' from it?\n",
    "What would be the outcome if you execute my_list.pop(2) on a list containing elements [1, 2, 3, 4, 5]?\n",
    "\n",
    "\n",
    "\n",
    "\n",
    "Clearing and Indexing:\n",
    "\n",
    "What method would you use to remove all elements from a list?\n",
    "If you have a list ['apple', 'banana', 'cherry', 'banana'], what is the index of 'banana'?\n",
    "\n",
    "\n",
    "\n",
    "Counting:\n",
    "\n",
    "How would you count the number of occurrences of the value 'apple' in a list?\n",
    "If you have a list [1, 2, 3, 3, 3, 4, 5], how many times does the value '3' occur?\n",
    "\n",
    "\n",
    "\n",
    "\n",
    "Sorting and Reversing:\n",
    "\n",
    "If you have a list [5, 2, 8, 1, 3], how would you sort it in ascending order?\n",
    "How would you reverse the order of elements in a list?\n",
    "\n",
    "\n",
    "\n",
    "Extending and Copying:\n",
    "\n",
    "Suppose you have two lists: list1 = [1, 2, 3] and list2 = [4, 5, 6], how would you extend list1 with the elements of list2?\n",
    "What's the difference between using my_new_list = my_list.copy() and my_new_list = my_list for creating a copy of a list?\n",
    "\n",
    "\n",
    "\n",
    "\n",
    "Indexing and Slicing:\n",
    "\n",
    "How would you retrieve the third element from a list?\n",
    "If you have a list my_list = [1, 2, 3, 4, 5], how would you extract elements from index 1 to index 3 using slicing?"
   ]
  },
  {
   "cell_type": "markdown",
   "id": "4a688fde",
   "metadata": {},
   "source": [
    "# Tuple"
   ]
  },
  {
   "cell_type": "markdown",
   "id": "bdf6d5fd",
   "metadata": {},
   "source": [
    "to store multiple values in similar data types or different data types with unique or duplicate values.\n",
    "- tuple is  enclosed within parnthesis ().\n",
    "- tuple is a immutable datatype"
   ]
  },
  {
   "cell_type": "markdown",
   "id": "55ec1dfd",
   "metadata": {},
   "source": [
    "**count()\tReturns the number of times a specified value occurs in a tuple**\n",
    "\n",
    "**index()\tSearches the tuple for a specified value and returns the position of where it was found**"
   ]
  },
  {
   "cell_type": "code",
   "execution_count": 50,
   "id": "65d10924",
   "metadata": {},
   "outputs": [
    {
     "name": "stdout",
     "output_type": "stream",
     "text": [
      "(12, 25.56, True, 'python') <class 'tuple'>\n",
      " <class 'tuple'>\n"
     ]
    }
   ],
   "source": [
    "tuple1 = (12, 25.56, True, \"python\")\n",
    "\n",
    "print(tuple1,type(tuple1))"
   ]
  },
  {
   "cell_type": "code",
   "execution_count": 51,
   "id": "35c809fa-1d2d-4825-8361-8b1b139ead55",
   "metadata": {},
   "outputs": [
    {
     "data": {
      "text/plain": [
       "tuple"
      ]
     },
     "execution_count": 51,
     "metadata": {},
     "output_type": "execute_result"
    }
   ],
   "source": [
    "t=1,2.0,'String',True\n",
    "\n",
    "type(t)"
   ]
  },
  {
   "cell_type": "code",
   "execution_count": 53,
   "id": "f996e289",
   "metadata": {},
   "outputs": [
    {
     "ename": "TypeError",
     "evalue": "'tuple' object does not support item assignment",
     "output_type": "error",
     "traceback": [
      "\u001b[1;31m---------------------------------------------------------------------------\u001b[0m",
      "\u001b[1;31mTypeError\u001b[0m                                 Traceback (most recent call last)",
      "Cell \u001b[1;32mIn[53], line 1\u001b[0m\n\u001b[1;32m----> 1\u001b[0m tuple1[\u001b[38;5;241m1\u001b[39m] \u001b[38;5;241m=\u001b[39m \u001b[38;5;241m50.75\u001b[39m\n",
      "\u001b[1;31mTypeError\u001b[0m: 'tuple' object does not support item assignment"
     ]
    }
   ],
   "source": [
    "tuple1[1] = 50.75"
   ]
  },
  {
   "cell_type": "code",
   "execution_count": 7,
   "id": "eb6e091c",
   "metadata": {},
   "outputs": [
    {
     "ename": "AttributeError",
     "evalue": "'tuple' object has no attribute 'insert'",
     "output_type": "error",
     "traceback": [
      "\u001b[1;31m---------------------------------------------------------------------------\u001b[0m",
      "\u001b[1;31mAttributeError\u001b[0m                            Traceback (most recent call last)",
      "Cell \u001b[1;32mIn[7], line 1\u001b[0m\n\u001b[1;32m----> 1\u001b[0m tuple1\u001b[38;5;241m.\u001b[39minsert(\u001b[38;5;241m1\u001b[39m,\u001b[38;5;241m876\u001b[39m)\n",
      "\u001b[1;31mAttributeError\u001b[0m: 'tuple' object has no attribute 'insert'"
     ]
    }
   ],
   "source": [
    "tuple1.insert(1,876)"
   ]
  },
  {
   "cell_type": "code",
   "execution_count": 13,
   "id": "fbe5ca32",
   "metadata": {},
   "outputs": [
    {
     "name": "stdout",
     "output_type": "stream",
     "text": [
      "(12, 25.56, True, 'python', 12, 12, 12) <class 'tuple'>\n"
     ]
    }
   ],
   "source": [
    "tuple1 = (12, 25.56, True, \"python\",12,12,12)\n",
    "\n",
    "print(tuple1,type(tuple1))"
   ]
  },
  {
   "cell_type": "code",
   "execution_count": 14,
   "id": "83ded964",
   "metadata": {},
   "outputs": [
    {
     "data": {
      "text/plain": [
       "1"
      ]
     },
     "execution_count": 14,
     "metadata": {},
     "output_type": "execute_result"
    }
   ],
   "source": [
    "tuple1.count(True)"
   ]
  },
  {
   "cell_type": "code",
   "execution_count": 15,
   "id": "537787ee",
   "metadata": {},
   "outputs": [
    {
     "data": {
      "text/plain": [
       "3"
      ]
     },
     "execution_count": 15,
     "metadata": {},
     "output_type": "execute_result"
    }
   ],
   "source": [
    "tuple1.index(\"python\")"
   ]
  },
  {
   "cell_type": "code",
   "execution_count": 16,
   "id": "f0b6fbb2",
   "metadata": {},
   "outputs": [
    {
     "data": {
      "text/plain": [
       "7"
      ]
     },
     "execution_count": 16,
     "metadata": {},
     "output_type": "execute_result"
    }
   ],
   "source": [
    "len(tuple1)"
   ]
  },
  {
   "cell_type": "code",
   "execution_count": 33,
   "id": "8e523819",
   "metadata": {},
   "outputs": [
    {
     "name": "stdout",
     "output_type": "stream",
     "text": [
      "(12, 34, (45, 23), [676, 43, [34, 100], 43], 'python', 'java') <class 'tuple'>\n"
     ]
    }
   ],
   "source": [
    "t = (12,34,(45,23),[676,43,[34,100],43],\"python\",\"java\")\n",
    "\n",
    "print(t, type(t))"
   ]
  },
  {
   "cell_type": "code",
   "execution_count": 19,
   "id": "f174470c-06ab-4c88-8d9b-02d8d92df8ab",
   "metadata": {},
   "outputs": [
    {
     "data": {
      "text/plain": [
       "23"
      ]
     },
     "execution_count": 19,
     "metadata": {},
     "output_type": "execute_result"
    }
   ],
   "source": [
    "t[2][1]"
   ]
  },
  {
   "cell_type": "code",
   "execution_count": 22,
   "id": "5b6c14ab-efe9-46df-af5b-c458b39aacc2",
   "metadata": {},
   "outputs": [
    {
     "data": {
      "text/plain": [
       "43"
      ]
     },
     "execution_count": 22,
     "metadata": {},
     "output_type": "execute_result"
    }
   ],
   "source": [
    "t[3][3]"
   ]
  },
  {
   "cell_type": "code",
   "execution_count": 24,
   "id": "df331251",
   "metadata": {},
   "outputs": [
    {
     "data": {
      "text/plain": [
       "34"
      ]
     },
     "execution_count": 24,
     "metadata": {},
     "output_type": "execute_result"
    }
   ],
   "source": [
    "t[3][2][0]"
   ]
  },
  {
   "cell_type": "code",
   "execution_count": null,
   "id": "50ca42f6",
   "metadata": {},
   "outputs": [],
   "source": [
    "print(type(t[3]))"
   ]
  },
  {
   "cell_type": "code",
   "execution_count": 31,
   "id": "a10c34ff",
   "metadata": {},
   "outputs": [
    {
     "name": "stdout",
     "output_type": "stream",
     "text": [
      "(12, 34, (45, 23), [676, 43, [34, 100], 43], 'python', 'java')\n"
     ]
    }
   ],
   "source": [
    "# reverse the tuple\n",
    "\n",
    "\n",
    "print(t[: : ])"
   ]
  },
  {
   "cell_type": "code",
   "execution_count": null,
   "id": "6ca0ff90-78d8-460a-b921-9df5676637b0",
   "metadata": {},
   "outputs": [],
   "source": [
    "#t[ start : end : step]"
   ]
  },
  {
   "cell_type": "code",
   "execution_count": 40,
   "id": "df2785bc",
   "metadata": {},
   "outputs": [
    {
     "name": "stdout",
     "output_type": "stream",
     "text": [
      "(12, 34, (45, 23), [676, 43, [34, 100], 43], 'python', 'java')\n",
      "()\n"
     ]
    }
   ],
   "source": [
    "print(t)\n",
    "\n",
    "#print(t[:3])\n",
    "\n",
    "print(t[0:10:-1])"
   ]
  },
  {
   "cell_type": "code",
   "execution_count": 41,
   "id": "96106a26",
   "metadata": {},
   "outputs": [
    {
     "name": "stdout",
     "output_type": "stream",
     "text": [
      "(12, 762647643, 'python', 'java') <class 'tuple'>\n"
     ]
    }
   ],
   "source": [
    "# change, add, remove any value in the tuple \n",
    "\n",
    "#convert into list\n",
    "t = (12,34,\"python\",\"java\")\n",
    "\n",
    "# converting tuple to list\n",
    "list1 = list(t)\n",
    "\n",
    "# changing the value of 1 index\n",
    "list1[1] = 762647643\n",
    "\n",
    "# changing from list to tuple\n",
    "t = tuple(list1)\n",
    "\n",
    "print(t,type(t))\n",
    "\n",
    "#print(type(list1),list1)\n"
   ]
  },
  {
   "cell_type": "code",
   "execution_count": 42,
   "id": "f2ac047a-f62f-4c04-b874-0575d0f2724e",
   "metadata": {
    "scrolled": true
   },
   "outputs": [
    {
     "data": {
      "text/plain": [
       "[1, 2, 1.0, 2]"
      ]
     },
     "execution_count": 42,
     "metadata": {},
     "output_type": "execute_result"
    }
   ],
   "source": [
    "a=(1,2,1.0,2)\n",
    "b=list(a)\n",
    "b"
   ]
  },
  {
   "cell_type": "code",
   "execution_count": 43,
   "id": "57aed477-e405-452c-af01-f369f4e7c066",
   "metadata": {},
   "outputs": [
    {
     "data": {
      "text/plain": [
       "(1, 2, 4.5, 7)"
      ]
     },
     "execution_count": 43,
     "metadata": {},
     "output_type": "execute_result"
    }
   ],
   "source": [
    "a=[1,2,4.5,7]\n",
    "b=tuple(a)\n",
    "b"
   ]
  },
  {
   "cell_type": "code",
   "execution_count": 44,
   "id": "48173210",
   "metadata": {},
   "outputs": [
    {
     "name": "stdout",
     "output_type": "stream",
     "text": [
      "(12, 34, (45, 23), [676, 43, 43], 'python', 'java', 762647643) <class 'tuple'>\n"
     ]
    }
   ],
   "source": [
    "# add value to the tuple\n",
    "\n",
    "t = (12,34,(45,23),[676,43,43],\"python\",\"java\")\n",
    "\n",
    "list1 = list(t)\n",
    "\n",
    "list1.append(762647643)\n",
    "\n",
    "t = tuple(list1)\n",
    "\n",
    "print(t,type(t))"
   ]
  },
  {
   "cell_type": "code",
   "execution_count": 14,
   "id": "446c2cdc",
   "metadata": {},
   "outputs": [
    {
     "name": "stdout",
     "output_type": "stream",
     "text": [
      "(12, 34, (45, 23), [676, 43, 43], 'python')\n"
     ]
    }
   ],
   "source": [
    "# remove a value in tuple by converting into list\n",
    "\n",
    "t = (12,34,(45,23),[676,43,43],\"python\",\"java\")\n",
    "\n",
    "list1 = list(t)\n",
    "\n",
    "list1.remove(\"java\")\n",
    "\n",
    "t = tuple(list1)\n",
    "\n",
    "print(t)"
   ]
  },
  {
   "cell_type": "code",
   "execution_count": 47,
   "id": "78f59a76",
   "metadata": {},
   "outputs": [
    {
     "name": "stdout",
     "output_type": "stream",
     "text": [
      "(43, 43534, 56, 6, 54, 45, 56, 354, 54) <class 'tuple'>\n"
     ]
    }
   ],
   "source": [
    "# to join two tuple to one tuple\n",
    "\n",
    "t = (43,43534,56,6)\n",
    "h = (54,45,56,354,54)\n",
    "\n",
    "c = t + h\n",
    "\n",
    "print(c,type(c))"
   ]
  },
  {
   "cell_type": "markdown",
   "id": "013cb2be",
   "metadata": {},
   "source": [
    "**Tuple Creation and Access:**\n",
    "\n",
    "How would you create a tuple containing the elements 'apple', 'banana', and 'cherry'?\n",
    "If you have a tuple my_tuple = (10, 20, 30), how would you access the second element?\n",
    "print(my_tuple[2])\n",
    "\n",
    "    Immutable Nature:\n",
    "\n",
    "Explain why tuples are immutable in Python and give an example demonstrating this property.\n",
    "\n",
    "\n",
    "    Tuple Packing and Unpacking:\n",
    "\n",
    "What is tuple packing and how is it done in Python?\n",
    "How would you unpack a tuple (5, 'hello', True) into three separate variables?\n",
    "\n",
    "\n",
    "    Tuple Methods:\n",
    "\n",
    "Describe a method used to find the index of a specific element within a tuple.\n",
    "How would you count the occurrences of a value within a tuple?\n",
    "\n",
    "\n",
    "    Tuple Operations:\n",
    "\n",
    "Explain how you would concatenate two tuples.\n",
    "Is it possible to modify the elements of a tuple after it has been created? If not, why?"
   ]
  },
  {
   "cell_type": "code",
   "execution_count": 6,
   "id": "a232a4a0",
   "metadata": {},
   "outputs": [
    {
     "name": "stdout",
     "output_type": "stream",
     "text": [
      "(43, 433, 'python', 23.2, True) <class 'tuple'>\n",
      "5\n",
      "hello\n",
      "True\n"
     ]
    }
   ],
   "source": [
    "#Tuple Packing and Unpacking:\n",
    "\n",
    "#What is tuple packing and how is it done in Python?\n",
    "\n",
    "a = 43,433,\"python\",23.2,True\n",
    "a=(1,3,4,1.6)\n",
    "print(a,type(a))\n",
    "\n",
    "#How would you unpack a tuple (5, 'hello', True) into three separate variables?\n",
    "\n",
    "b = (5,\"hello\",True)\n",
    "\n",
    "x,y,z = b\n",
    "\n",
    "print(x)\n",
    "\n",
    "print(y)\n",
    "\n",
    "print(z)\n",
    "\n"
   ]
  },
  {
   "cell_type": "markdown",
   "id": "6e88d33d",
   "metadata": {},
   "source": [
    "# Range"
   ]
  },
  {
   "cell_type": "raw",
   "id": "cc1c75ad",
   "metadata": {},
   "source": [
    "# range(start, stop, step)"
   ]
  },
  {
   "cell_type": "code",
   "execution_count": 48,
   "id": "9da99467",
   "metadata": {},
   "outputs": [
    {
     "name": "stdout",
     "output_type": "stream",
     "text": [
      "<class 'range'> range(0, 10)\n"
     ]
    }
   ],
   "source": [
    "a = range(10)\n",
    "\n",
    "print(type(a),a)"
   ]
  },
  {
   "cell_type": "code",
   "execution_count": 49,
   "id": "9f52abdf",
   "metadata": {},
   "outputs": [
    {
     "name": "stdout",
     "output_type": "stream",
     "text": [
      "0\n",
      "1\n",
      "2\n",
      "3\n",
      "4\n",
      "5\n",
      "6\n",
      "7\n",
      "8\n",
      "9\n"
     ]
    }
   ],
   "source": [
    "for i in a:\n",
    "    print(i)"
   ]
  },
  {
   "cell_type": "code",
   "execution_count": 50,
   "id": "71a5ba4f",
   "metadata": {},
   "outputs": [
    {
     "name": "stdout",
     "output_type": "stream",
     "text": [
      "0\n",
      "1\n",
      "2\n",
      "3\n",
      "4\n",
      "5\n",
      "6\n",
      "7\n",
      "8\n",
      "9\n"
     ]
    }
   ],
   "source": [
    "for abc in range(0,10):\n",
    "    print(abc)"
   ]
  },
  {
   "cell_type": "code",
   "execution_count": 52,
   "id": "8aa8c6d5",
   "metadata": {},
   "outputs": [
    {
     "name": "stdout",
     "output_type": "stream",
     "text": [
      "5\n",
      "6\n",
      "7\n",
      "8\n",
      "9\n"
     ]
    }
   ],
   "source": [
    "# range(start, stop, step)\n",
    "\n",
    "for x in range(5,10):\n",
    "    print(x)"
   ]
  },
  {
   "cell_type": "code",
   "execution_count": 53,
   "id": "8eae5757",
   "metadata": {},
   "outputs": [
    {
     "name": "stdout",
     "output_type": "stream",
     "text": [
      "1\n",
      "3\n",
      "5\n",
      "7\n",
      "9\n"
     ]
    }
   ],
   "source": [
    "#odd numbers\n",
    "for xyz in range(1,10,2):\n",
    "    print(xyz)"
   ]
  },
  {
   "cell_type": "code",
   "execution_count": 57,
   "id": "a877ad63",
   "metadata": {},
   "outputs": [],
   "source": [
    "#even numbers\n",
    "for xyz in range(2,10,-2):\n",
    "    print(xyz)"
   ]
  },
  {
   "cell_type": "code",
   "execution_count": 56,
   "id": "1d48ff4a",
   "metadata": {},
   "outputs": [
    {
     "name": "stdout",
     "output_type": "stream",
     "text": [
      "0\n",
      "1\n",
      "2\n",
      "3\n"
     ]
    }
   ],
   "source": [
    "for x in range(4):\n",
    "    print(x)\n",
    "    "
   ]
  },
  {
   "cell_type": "markdown",
   "id": "954e00aa",
   "metadata": {},
   "source": [
    "# Dict"
   ]
  },
  {
   "cell_type": "markdown",
   "id": "9967f93b",
   "metadata": {},
   "source": [
    "the purpose of dict data type is that \" to store (key, value) in single variable.\"\n",
    "- it will enclosed within curly braces {}.\n",
    "\n",
    "key should be unique and value may not be unique.\n"
   ]
  },
  {
   "cell_type": "code",
   "execution_count": null,
   "id": "cd9cac86",
   "metadata": {},
   "outputs": [],
   "source": [
    "#clear()\tRemoves all the elements from the dictionary\n",
    "#copy()\t Returns a copy of the dictionary\n",
    "#get()\tReturns the value of the specified key\n",
    "#items()\tReturns a list containing a tuple for each key value pair\n",
    "#keys()\tReturns a list containing the dictionary's keys\n",
    "#values()\tReturns a list of all the values in the dictionary\n",
    "#pop()\tRemoves the element with the specified key\n",
    "#popitem()\tRemoves the last inserted key-value pair\n",
    "#update()\tUpdates the dictionary with the specified key-value pairs\n"
   ]
  },
  {
   "cell_type": "code",
   "execution_count": 25,
   "id": "dcc8b213",
   "metadata": {},
   "outputs": [
    {
     "name": "stdout",
     "output_type": "stream",
     "text": [
      "{1: 100, 2: 200.9, 'age': 43}\n",
      "{'name': 'Raj', 'age': 36, 'Salary': 30000} <class 'dict'>\n"
     ]
    }
   ],
   "source": [
    "dict1 = {\"name\":\"Raj\",\"age\":32,\"Salary\":30000,\"age\":36}\n",
    "\n",
    "dict2 = {1:100,2:200.9,\"age\":43}\n",
    "\n",
    "print(dict2)\n",
    "\n",
    "print(dict1, type(dict1))"
   ]
  },
  {
   "cell_type": "code",
   "execution_count": 27,
   "id": "e1c6e3ab",
   "metadata": {},
   "outputs": [
    {
     "data": {
      "text/plain": [
       "30000"
      ]
     },
     "execution_count": 27,
     "metadata": {},
     "output_type": "execute_result"
    }
   ],
   "source": [
    "# there is no indexing in dict, key will be the index for dict\n",
    "\n",
    "\n",
    "#list1[1]\n",
    "dict1[\"Salary\"]\n",
    "\n",
    "#dict1[1]\n"
   ]
  },
  {
   "cell_type": "code",
   "execution_count": null,
   "id": "acc33afa",
   "metadata": {},
   "outputs": [],
   "source": [
    "\n",
    "\n",
    "dict1[\"Salary\"]"
   ]
  },
  {
   "cell_type": "markdown",
   "id": "19e821e1",
   "metadata": {},
   "source": [
    "# Pre-defined function "
   ]
  },
  {
   "cell_type": "code",
   "execution_count": 28,
   "id": "5d3c822c",
   "metadata": {},
   "outputs": [],
   "source": [
    "#1. clear()\n",
    "\n",
    "dict1.clear()"
   ]
  },
  {
   "cell_type": "code",
   "execution_count": 29,
   "id": "0fd039a4",
   "metadata": {},
   "outputs": [
    {
     "name": "stdout",
     "output_type": "stream",
     "text": [
      "{}\n"
     ]
    }
   ],
   "source": [
    "print(dict1)"
   ]
  },
  {
   "cell_type": "code",
   "execution_count": 30,
   "id": "a3e367f7",
   "metadata": {},
   "outputs": [
    {
     "data": {
      "text/plain": [
       "32"
      ]
     },
     "execution_count": 30,
     "metadata": {},
     "output_type": "execute_result"
    }
   ],
   "source": [
    "#2. pop()\n",
    "\n",
    "dict1 = {\"name\":\"Rohit\",\"age\":32,\"salary\":65624}\n",
    "\n",
    "dict1.pop(\"age\")"
   ]
  },
  {
   "cell_type": "code",
   "execution_count": 31,
   "id": "68f5fd00",
   "metadata": {},
   "outputs": [
    {
     "name": "stdout",
     "output_type": "stream",
     "text": [
      "{'name': 'Rohit', 'salary': 65624}\n"
     ]
    }
   ],
   "source": [
    "print(dict1)"
   ]
  },
  {
   "cell_type": "code",
   "execution_count": 32,
   "id": "48bee167",
   "metadata": {},
   "outputs": [],
   "source": [
    "#3. popitem()---- used for remove last (key, value ) pair from dict.\n",
    "\n",
    "dict1 = {\"name\":\"Rohit\",\"age\":32,\"salary\":65624}\n",
    "\n"
   ]
  },
  {
   "cell_type": "code",
   "execution_count": 35,
   "id": "80b204cf",
   "metadata": {},
   "outputs": [
    {
     "data": {
      "text/plain": [
       "('age', 32)"
      ]
     },
     "execution_count": 35,
     "metadata": {},
     "output_type": "execute_result"
    }
   ],
   "source": [
    "dict1.popitem()"
   ]
  },
  {
   "cell_type": "code",
   "execution_count": 36,
   "id": "54c852fb",
   "metadata": {},
   "outputs": [
    {
     "name": "stdout",
     "output_type": "stream",
     "text": [
      "{'name': 'Rohit'}\n"
     ]
    }
   ],
   "source": [
    "print(dict1)"
   ]
  },
  {
   "cell_type": "code",
   "execution_count": 37,
   "id": "a642234a",
   "metadata": {},
   "outputs": [],
   "source": [
    "#4. copy()-- used for copying the content of one dict into another dict.\n",
    "\n",
    "dict1 = {\"name\":\"Rohit\",\"age\":32,\"salary\":65624}\n",
    "\n",
    "dict2 = dict1.copy()"
   ]
  },
  {
   "cell_type": "code",
   "execution_count": 38,
   "id": "597d2971",
   "metadata": {},
   "outputs": [
    {
     "name": "stdout",
     "output_type": "stream",
     "text": [
      "{'name': 'Rohit', 'age': 32, 'salary': 65624}\n"
     ]
    }
   ],
   "source": [
    "print(dict2)"
   ]
  },
  {
   "cell_type": "code",
   "execution_count": 39,
   "id": "8f40bcd4",
   "metadata": {},
   "outputs": [
    {
     "data": {
      "text/plain": [
       "dict_keys(['name', 'age', 'salary'])"
      ]
     },
     "execution_count": 39,
     "metadata": {},
     "output_type": "execute_result"
    }
   ],
   "source": [
    "#5. keys() - to see all the keys\n",
    "\n",
    "dict1.keys()\n"
   ]
  },
  {
   "cell_type": "code",
   "execution_count": 40,
   "id": "f326007d",
   "metadata": {},
   "outputs": [
    {
     "data": {
      "text/plain": [
       "dict_values(['Rohit', 32, 65624])"
      ]
     },
     "execution_count": 40,
     "metadata": {},
     "output_type": "execute_result"
    }
   ],
   "source": [
    "#6. values()  - to see all the values\n",
    "\n",
    "dict1.values()"
   ]
  },
  {
   "cell_type": "code",
   "execution_count": 41,
   "id": "a695a3a0",
   "metadata": {},
   "outputs": [
    {
     "name": "stdout",
     "output_type": "stream",
     "text": [
      "dict_items([('name', 'Rohit'), ('age', 32), ('salary', 65624)])\n"
     ]
    }
   ],
   "source": [
    "#7. items()  -  to see both keys & values\n",
    "\n",
    "print(dict1.items())"
   ]
  },
  {
   "cell_type": "code",
   "execution_count": null,
   "id": "391c7738",
   "metadata": {},
   "outputs": [],
   "source": [
    "#8. get() -  to see the "
   ]
  },
  {
   "cell_type": "code",
   "execution_count": 42,
   "id": "e8ad84c8",
   "metadata": {},
   "outputs": [
    {
     "name": "stdout",
     "output_type": "stream",
     "text": [
      "32\n"
     ]
    }
   ],
   "source": [
    "dict1 = {\"name\":\"Rohit\",\"age\":32,\"salary\":65624}\n",
    "\n",
    "print(dict1.get(\"age\"))\n"
   ]
  },
  {
   "cell_type": "code",
   "execution_count": 43,
   "id": "51ff0dbf",
   "metadata": {},
   "outputs": [
    {
     "name": "stdout",
     "output_type": "stream",
     "text": [
      "32\n"
     ]
    }
   ],
   "source": [
    "print(dict1[\"age\"])\n"
   ]
  },
  {
   "cell_type": "code",
   "execution_count": 1,
   "id": "02b4b438",
   "metadata": {},
   "outputs": [
    {
     "name": "stdout",
     "output_type": "stream",
     "text": [
      "{'name': 'Gill', 'age': 45, 'salary': 65624, 'city': 233, 'Department': 'Dev'}\n"
     ]
    }
   ],
   "source": [
    "#9. update() - Updates the dictionary with the specified key-value pairs\n",
    "\n",
    "dict1 = {\"name\":\"Rohit\",\"age\":32,\"salary\":65624}\n",
    "dict2 = {\"city\":233,\"Department\":\"Dev\",\"name\":\"Gill\",'age':45}\n",
    "\n",
    "dict1.update(dict2)\n",
    "\n",
    "print(dict1)"
   ]
  },
  {
   "cell_type": "code",
   "execution_count": 45,
   "id": "1d42a66b",
   "metadata": {},
   "outputs": [
    {
     "name": "stdout",
     "output_type": "stream",
     "text": [
      "{'name': ['Rohit', 'Gill', 'Virat', 'Vimal'], 'age': (32, 45, 34, 24), 'salary': [65624, 2000, 3243, 4564]}\n",
      "<class 'dict'>\n"
     ]
    }
   ],
   "source": [
    "# mutiple values\n",
    "\n",
    "dict1 = {\"name\":[\"Rohit\",\"Gill\",\"Virat\",\"Vimal\"],\"age\":(32,45,34,24),\"salary\":[65624,2000,3243,4564]}\n",
    "\n",
    "\n",
    "print(dict1)\n",
    "\n",
    "print(type(dict1))"
   ]
  },
  {
   "cell_type": "markdown",
   "id": "8a419ad8",
   "metadata": {},
   "source": [
    "# set"
   ]
  },
  {
   "cell_type": "raw",
   "id": "0cef66d2",
   "metadata": {},
   "source": [
    "To store multiple values in single or different type of value in one single variable.\n",
    "set, you can store only unique value.\n",
    "you should enclosed within curly braces {}\n",
    "set does not support order\n",
    "We can't use indexing and slicing.\n",
    "set is a mutable object. But by using add(), we can add values into set.so set is mutable for add()."
   ]
  },
  {
   "cell_type": "code",
   "execution_count": 46,
   "id": "493f313c",
   "metadata": {
    "scrolled": true
   },
   "outputs": [
    {
     "name": "stdout",
     "output_type": "stream",
     "text": [
      "{0, True, 34.5, 40, 10, 'python', 20, 'hello', 30} <class 'set'>\n"
     ]
    }
   ],
   "source": [
    "set1 = {10,20,30,40,\"hello\", \"python\",10, 34.5, True, 1, 0, False}  # true & 1 will be consider as 1\n",
    "\n",
    "print(set1,type(set1))"
   ]
  },
  {
   "cell_type": "code",
   "execution_count": 47,
   "id": "f2ad6c98",
   "metadata": {},
   "outputs": [
    {
     "name": "stdout",
     "output_type": "stream",
     "text": [
      "{0, True, 34.5, 40, 10, 'python', 20, 'hello', 30}\n"
     ]
    }
   ],
   "source": [
    "print(set1)"
   ]
  },
  {
   "cell_type": "code",
   "execution_count": 48,
   "id": "09c24e9c",
   "metadata": {
    "scrolled": true
   },
   "outputs": [
    {
     "ename": "TypeError",
     "evalue": "'set' object does not support item assignment",
     "output_type": "error",
     "traceback": [
      "\u001b[1;31m---------------------------------------------------------------------------\u001b[0m",
      "\u001b[1;31mTypeError\u001b[0m                                 Traceback (most recent call last)",
      "Cell \u001b[1;32mIn[48], line 1\u001b[0m\n\u001b[1;32m----> 1\u001b[0m \u001b[43mset1\u001b[49m\u001b[43m[\u001b[49m\u001b[38;5;241;43m2\u001b[39;49m\u001b[43m]\u001b[49m \u001b[38;5;241m=\u001b[39m \u001b[38;5;241m100\u001b[39m  \u001b[38;5;66;03m#immutable.\u001b[39;00m\n",
      "\u001b[1;31mTypeError\u001b[0m: 'set' object does not support item assignment"
     ]
    }
   ],
   "source": [
    "set1[2] = 100  #immutable."
   ]
  },
  {
   "cell_type": "markdown",
   "id": "23a96fab",
   "metadata": {},
   "source": [
    "# Pre-defined function in set"
   ]
  },
  {
   "cell_type": "code",
   "execution_count": 49,
   "id": "f40f1c06",
   "metadata": {},
   "outputs": [
    {
     "name": "stdout",
     "output_type": "stream",
     "text": [
      "{'ram', 'virat', 'hari'} <class 'set'>\n",
      "{'rohit', 'dhoni', 'ram', 'virat'} <class 'set'>\n"
     ]
    }
   ],
   "source": [
    "a = {\"ram\",\"hari\",\"virat\"}\n",
    "\n",
    "b = {\"dhoni\",\"virat\",\"rohit\",\"ram\"}\n",
    "\n",
    "print(a,type(a))\n",
    "print(b,type(b))"
   ]
  },
  {
   "cell_type": "code",
   "execution_count": 50,
   "id": "a96728e4",
   "metadata": {
    "scrolled": true
   },
   "outputs": [
    {
     "name": "stdout",
     "output_type": "stream",
     "text": [
      "{'rohit', 'ram', 'dhoni', 'virat', 'hari'}\n"
     ]
    }
   ],
   "source": [
    "#1. union() -  to add two set \n",
    "\n",
    "print(a.union(b))\n"
   ]
  },
  {
   "cell_type": "code",
   "execution_count": 51,
   "id": "6f159e6f",
   "metadata": {},
   "outputs": [
    {
     "name": "stdout",
     "output_type": "stream",
     "text": [
      "{'ram', 'virat'}\n"
     ]
    }
   ],
   "source": [
    "#2. intersection()  -  \tReturns a set, that is the intersection of two other sets\n",
    "\n",
    "print(a.intersection(b))"
   ]
  },
  {
   "cell_type": "code",
   "execution_count": null,
   "id": "8ba4a9db",
   "metadata": {},
   "outputs": [],
   "source": [
    "a = {\"ram\",\"hari\",\"virat\"}\n",
    "\n",
    "b = {\"dhoni\",\"virat\",\"rohit\"}\n",
    "\n",
    "c = {\"Gill\",\"ram\"}"
   ]
  },
  {
   "cell_type": "code",
   "execution_count": 52,
   "id": "afb735d0",
   "metadata": {},
   "outputs": [
    {
     "name": "stdout",
     "output_type": "stream",
     "text": [
      "{'hari'}\n"
     ]
    }
   ],
   "source": [
    "#3. difference()  -  Returns a set containing the difference between two or more sets\n",
    "\n",
    "print(a.difference(b))\n",
    "\n"
   ]
  },
  {
   "cell_type": "code",
   "execution_count": null,
   "id": "44830816",
   "metadata": {},
   "outputs": [],
   "source": [
    "#4. add()  used for adding value in set"
   ]
  },
  {
   "cell_type": "code",
   "execution_count": 53,
   "id": "30460565",
   "metadata": {},
   "outputs": [
    {
     "name": "stdout",
     "output_type": "stream",
     "text": [
      "{'gill', 'ram', 'virat', 'hari'}\n"
     ]
    }
   ],
   "source": [
    "a = {\"ram\",\"hari\",\"virat\"}\n",
    "\n",
    "a.add(\"gill\")\n",
    "\n",
    "print(a)"
   ]
  },
  {
   "cell_type": "code",
   "execution_count": null,
   "id": "77d2edee",
   "metadata": {},
   "outputs": [],
   "source": [
    "print(a)"
   ]
  },
  {
   "cell_type": "code",
   "execution_count": 54,
   "id": "99d60869",
   "metadata": {},
   "outputs": [
    {
     "name": "stdout",
     "output_type": "stream",
     "text": [
      "{'gill', 'ram', 'hari'}\n"
     ]
    }
   ],
   "source": [
    "#5. remove()\n",
    "\n",
    "a.remove('virat')\n",
    "\n",
    "print(a)"
   ]
  },
  {
   "cell_type": "code",
   "execution_count": 56,
   "id": "67c7b5bf",
   "metadata": {},
   "outputs": [
    {
     "ename": "KeyError",
     "evalue": "55",
     "output_type": "error",
     "traceback": [
      "\u001b[1;31m---------------------------------------------------------------------------\u001b[0m",
      "\u001b[1;31mKeyError\u001b[0m                                  Traceback (most recent call last)",
      "Cell \u001b[1;32mIn[56], line 1\u001b[0m\n\u001b[1;32m----> 1\u001b[0m \u001b[43ma\u001b[49m\u001b[38;5;241;43m.\u001b[39;49m\u001b[43mremove\u001b[49m\u001b[43m(\u001b[49m\u001b[38;5;241;43m55\u001b[39;49m\u001b[43m)\u001b[49m\n",
      "\u001b[1;31mKeyError\u001b[0m: 55"
     ]
    }
   ],
   "source": [
    "a.remove(55)"
   ]
  },
  {
   "cell_type": "code",
   "execution_count": null,
   "id": "ce00544f",
   "metadata": {},
   "outputs": [],
   "source": [
    "#6. discard"
   ]
  },
  {
   "cell_type": "code",
   "execution_count": 55,
   "id": "c54655bf",
   "metadata": {},
   "outputs": [
    {
     "name": "stdout",
     "output_type": "stream",
     "text": [
      "{'ram', 'hari'}\n"
     ]
    }
   ],
   "source": [
    "a.discard(\"gill\")\n",
    "\n",
    "print(a)"
   ]
  },
  {
   "cell_type": "code",
   "execution_count": 58,
   "id": "cf27a8e0",
   "metadata": {},
   "outputs": [],
   "source": [
    "a.discard(55)          #Not show any error if value is not there in set"
   ]
  },
  {
   "cell_type": "code",
   "execution_count": null,
   "id": "81286145",
   "metadata": {},
   "outputs": [],
   "source": [
    "#7. pop()  --used for removing values from set in random"
   ]
  },
  {
   "cell_type": "code",
   "execution_count": 60,
   "id": "e331f43d",
   "metadata": {},
   "outputs": [
    {
     "name": "stdout",
     "output_type": "stream",
     "text": [
      "{True, 34.5, 40, 10, 'python', 20, 'hello', 30}\n"
     ]
    }
   ],
   "source": [
    "set1 = {10,20,30,40,\"hello\", \"python\",10, 34.5, True, 1, 0, False }\n",
    "\n",
    "set1.pop()\n",
    "\n",
    "print(set1)"
   ]
  },
  {
   "cell_type": "code",
   "execution_count": 61,
   "id": "688cc1ce",
   "metadata": {},
   "outputs": [
    {
     "name": "stdout",
     "output_type": "stream",
     "text": [
      "{34.5, 40, 10, 'python', 20, 'hello', 30}\n"
     ]
    }
   ],
   "source": [
    "set1.pop()\n",
    "\n",
    "print(set1)"
   ]
  },
  {
   "cell_type": "code",
   "execution_count": 62,
   "id": "841b5996",
   "metadata": {},
   "outputs": [
    {
     "data": {
      "text/plain": [
       "{10, 20, 30, 40, 'hello', 'python'}"
      ]
     },
     "execution_count": 62,
     "metadata": {},
     "output_type": "execute_result"
    }
   ],
   "source": [
    "set1.pop()\n",
    "set1"
   ]
  },
  {
   "cell_type": "markdown",
   "id": "cf14e1da",
   "metadata": {},
   "source": [
    "# frozenset"
   ]
  },
  {
   "cell_type": "markdown",
   "id": "51936693",
   "metadata": {},
   "source": [
    "- To store multiple values in single or different type of value in one single variable.\n",
    "\n",
    "- it is immutable type\n",
    "\n",
    "- unique value"
   ]
  },
  {
   "cell_type": "code",
   "execution_count": null,
   "id": "fc6adb5f",
   "metadata": {},
   "outputs": [],
   "source": [
    "# frozenset([] or () or {})\n",
    "\n",
    "froze = frozenset([2,3,4.5,\"hi\"])\n",
    "\n",
    "print(froze,type(froze))"
   ]
  },
  {
   "cell_type": "code",
   "execution_count": null,
   "id": "95052015",
   "metadata": {},
   "outputs": [],
   "source": [
    "f=frozenset((10,20,30,40,30,50,))\n",
    "\n",
    "print(f,type(f))"
   ]
  },
  {
   "cell_type": "code",
   "execution_count": null,
   "id": "d07ff46a",
   "metadata": {},
   "outputs": [],
   "source": [
    "f=frozenset({10,10,30,40,30,50})\n",
    "\n",
    "print(f,type(f))"
   ]
  },
  {
   "cell_type": "code",
   "execution_count": null,
   "id": "f1cb3909",
   "metadata": {},
   "outputs": [],
   "source": [
    "f=frozenset()\n",
    "\n",
    "print(f,type(f))"
   ]
  },
  {
   "cell_type": "code",
   "execution_count": null,
   "id": "e8f03e64",
   "metadata": {},
   "outputs": [],
   "source": []
  },
  {
   "cell_type": "markdown",
   "id": "48f4b053",
   "metadata": {},
   "source": [
    "# None data types"
   ]
  },
  {
   "cell_type": "code",
   "execution_count": null,
   "id": "3980c62f",
   "metadata": {},
   "outputs": [],
   "source": [
    "a = 0\n",
    "\n",
    "print(a, type(a))"
   ]
  },
  {
   "cell_type": "code",
   "execution_count": null,
   "id": "d224a237",
   "metadata": {},
   "outputs": [],
   "source": [
    "a = None\n",
    "\n",
    "print(a, type(a))"
   ]
  },
  {
   "cell_type": "code",
   "execution_count": null,
   "id": "daad3d6b",
   "metadata": {},
   "outputs": [],
   "source": []
  }
 ],
 "metadata": {
  "kernelspec": {
   "display_name": "base",
   "language": "python",
   "name": "python3"
  },
  "language_info": {
   "codemirror_mode": {
    "name": "ipython",
    "version": 3
   },
   "file_extension": ".py",
   "mimetype": "text/x-python",
   "name": "python",
   "nbconvert_exporter": "python",
   "pygments_lexer": "ipython3",
   "version": "3.11.7"
  }
 },
 "nbformat": 4,
 "nbformat_minor": 5
}
